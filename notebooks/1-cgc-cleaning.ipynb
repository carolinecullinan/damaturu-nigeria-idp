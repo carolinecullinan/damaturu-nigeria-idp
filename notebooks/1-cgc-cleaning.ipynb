{
 "cells": [
  {
   "cell_type": "markdown",
   "metadata": {},
   "source": [
    "# Damatura, Nigeria IDP Analysis\n",
    "##### January 2025"
   ]
  },
  {
   "cell_type": "code",
   "execution_count": 2,
   "metadata": {},
   "outputs": [
    {
     "name": "stdout",
     "output_type": "stream",
     "text": [
      "directory changes\n",
      "current working directory is: c:\\Users\\Carol\\Documents\\GitHubCode\\damaturu-nigeria-idp\n"
     ]
    }
   ],
   "source": [
    "# standard library imports\n",
    "import os\n",
    "\n",
    "# third-party imports\n",
    "import rasterio\n",
    "import geopandas as gpd\n",
    "\n",
    "import numpy as np\n",
    "import pandas as pd\n",
    "\n",
    "# change to project root directory\n",
    "os.chdir('../')\n",
    "print(\"directory changes\")\n",
    "print(f\"current working directory is:\", os.getcwd())\n",
    "\n",
    "# local imports (after changing directory)\n",
    "from src.population import (\n",
    "    clip_raster_with_shapefile,\n",
    "    raster_to_points\n",
    ")"
   ]
  },
  {
   "cell_type": "markdown",
   "metadata": {},
   "source": [
    "1.0 Population Density"
   ]
  },
  {
   "cell_type": "code",
   "execution_count": 5,
   "metadata": {},
   "outputs": [],
   "source": [
    "# apply \"clip_raster_with_shapefile\" function to get population density (raster) \n",
    "## of Damaturu, Nigeria specifically (shapefile) and sav interim \"damaturu_pd\" (raster) tif format\n",
    "clip_raster_with_shapefile(\n",
    "    \"data/raw/nga_pd_2020_1km_UNadj.tif\",\n",
    "    \"data/raw/AOI/damaturu.shp\",\n",
    "    \"data/interim/damaturu_pd.tif\"\n",
    ")"
   ]
  },
  {
   "cell_type": "code",
   "execution_count": 3,
   "metadata": {},
   "outputs": [
    {
     "name": "stdout",
     "output_type": "stream",
     "text": [
      "raster dimensions: 17 x 13\n",
      "total pixels: 221\n"
     ]
    }
   ],
   "source": [
    "# gain insight into raster dimensions to best choose a sample rate for raster to point conversion\n",
    "## (i.e., determine how many points to sample from the raster, \n",
    "## where sample_rate = 1 means that every pixel from the raster is converted to a point)\n",
    "with rasterio.open(\"data/interim/damaturu_pd.tif\") as src:\n",
    "    print(f\"raster dimensions: {src.width} x {src.height}\")\n",
    "    print(f\"total pixels: {src.width * src.height}\")\n",
    "    \n",
    "# note: raster dimensions and total pixels are small, therefore use sample_rate = 1"
   ]
  },
  {
   "cell_type": "code",
   "execution_count": 8,
   "metadata": {},
   "outputs": [
    {
     "name": "stdout",
     "output_type": "stream",
     "text": [
      "suggested sample rate: 0\n"
     ]
    }
   ],
   "source": [
    "with rasterio.open(\"data/interim/damaturu_pd.tif\") as src:\n",
    "    total_pixels = src.width * src.height\n",
    "    target_points = 20000  # adjust based on your needs (web viz, aim for 10,000-50,000 points)\n",
    "    suggested_sample_rate = int(total_pixels / target_points)\n",
    "    print(f\"suggested sample rate: {suggested_sample_rate}\")"
   ]
  },
  {
   "cell_type": "code",
   "execution_count": 4,
   "metadata": {},
   "outputs": [
    {
     "name": "stdout",
     "output_type": "stream",
     "text": [
      "input raster dimensions: 17 x 13\n",
      "total pixels: 221\n",
      "\n",
      "Created 221 points\n",
      "Value range: -99999.00 to 3183.82\n"
     ]
    },
    {
     "data": {
      "text/html": [
       "<div>\n",
       "<style scoped>\n",
       "    .dataframe tbody tr th:only-of-type {\n",
       "        vertical-align: middle;\n",
       "    }\n",
       "\n",
       "    .dataframe tbody tr th {\n",
       "        vertical-align: top;\n",
       "    }\n",
       "\n",
       "    .dataframe thead th {\n",
       "        text-align: right;\n",
       "    }\n",
       "</style>\n",
       "<table border=\"1\" class=\"dataframe\">\n",
       "  <thead>\n",
       "    <tr style=\"text-align: right;\">\n",
       "      <th></th>\n",
       "      <th>population_density</th>\n",
       "      <th>geometry</th>\n",
       "    </tr>\n",
       "  </thead>\n",
       "  <tbody>\n",
       "    <tr>\n",
       "      <th>0</th>\n",
       "      <td>-99999.0</td>\n",
       "      <td>POINT (11.91125 11.79542)</td>\n",
       "    </tr>\n",
       "    <tr>\n",
       "      <th>1</th>\n",
       "      <td>-99999.0</td>\n",
       "      <td>POINT (11.91958 11.79542)</td>\n",
       "    </tr>\n",
       "    <tr>\n",
       "      <th>2</th>\n",
       "      <td>-99999.0</td>\n",
       "      <td>POINT (11.92792 11.79542)</td>\n",
       "    </tr>\n",
       "    <tr>\n",
       "      <th>3</th>\n",
       "      <td>-99999.0</td>\n",
       "      <td>POINT (11.93625 11.79542)</td>\n",
       "    </tr>\n",
       "    <tr>\n",
       "      <th>4</th>\n",
       "      <td>-99999.0</td>\n",
       "      <td>POINT (11.94458 11.79542)</td>\n",
       "    </tr>\n",
       "    <tr>\n",
       "      <th>...</th>\n",
       "      <td>...</td>\n",
       "      <td>...</td>\n",
       "    </tr>\n",
       "    <tr>\n",
       "      <th>216</th>\n",
       "      <td>-99999.0</td>\n",
       "      <td>POINT (12.01125 11.69542)</td>\n",
       "    </tr>\n",
       "    <tr>\n",
       "      <th>217</th>\n",
       "      <td>-99999.0</td>\n",
       "      <td>POINT (12.01958 11.69542)</td>\n",
       "    </tr>\n",
       "    <tr>\n",
       "      <th>218</th>\n",
       "      <td>-99999.0</td>\n",
       "      <td>POINT (12.02792 11.69542)</td>\n",
       "    </tr>\n",
       "    <tr>\n",
       "      <th>219</th>\n",
       "      <td>-99999.0</td>\n",
       "      <td>POINT (12.03625 11.69542)</td>\n",
       "    </tr>\n",
       "    <tr>\n",
       "      <th>220</th>\n",
       "      <td>-99999.0</td>\n",
       "      <td>POINT (12.04458 11.69542)</td>\n",
       "    </tr>\n",
       "  </tbody>\n",
       "</table>\n",
       "<p>221 rows × 2 columns</p>\n",
       "</div>"
      ],
      "text/plain": [
       "     population_density                   geometry\n",
       "0              -99999.0  POINT (11.91125 11.79542)\n",
       "1              -99999.0  POINT (11.91958 11.79542)\n",
       "2              -99999.0  POINT (11.92792 11.79542)\n",
       "3              -99999.0  POINT (11.93625 11.79542)\n",
       "4              -99999.0  POINT (11.94458 11.79542)\n",
       "..                  ...                        ...\n",
       "216            -99999.0  POINT (12.01125 11.69542)\n",
       "217            -99999.0  POINT (12.01958 11.69542)\n",
       "218            -99999.0  POINT (12.02792 11.69542)\n",
       "219            -99999.0  POINT (12.03625 11.69542)\n",
       "220            -99999.0  POINT (12.04458 11.69542)\n",
       "\n",
       "[221 rows x 2 columns]"
      ]
     },
     "execution_count": 4,
     "metadata": {},
     "output_type": "execute_result"
    }
   ],
   "source": [
    "# convert interim (raster) \"damaturu_pd\" to processed \"damaturu_pd_points\" points for export and viz\n",
    "raster_to_points(\n",
    "    \"data/interim/damaturu_pd.tif\",\n",
    "    'data/processed/damaturu_pd_points.geojson',\n",
    "    sample_rate=1\n",
    ")\n"
   ]
  }
 ],
 "metadata": {
  "kernelspec": {
   "display_name": "base",
   "language": "python",
   "name": "python3"
  },
  "language_info": {
   "codemirror_mode": {
    "name": "ipython",
    "version": 3
   },
   "file_extension": ".py",
   "mimetype": "text/x-python",
   "name": "python",
   "nbconvert_exporter": "python",
   "pygments_lexer": "ipython3",
   "version": "3.7.3"
  }
 },
 "nbformat": 4,
 "nbformat_minor": 2
}
