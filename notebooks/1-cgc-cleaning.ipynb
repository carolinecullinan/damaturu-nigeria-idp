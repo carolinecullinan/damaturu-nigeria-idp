{
 "cells": [
  {
   "cell_type": "markdown",
   "metadata": {},
   "source": [
    "# Damatura, Nigeria IDP Analysis\n",
    "##### January 2025"
   ]
  },
  {
   "cell_type": "code",
   "execution_count": 1,
   "metadata": {},
   "outputs": [
    {
     "name": "stdout",
     "output_type": "stream",
     "text": [
      "directory changes\n",
      "current working directory is: /Users/carolinecullinan/dev/wb/damaturu-nigeria-idp\n"
     ]
    }
   ],
   "source": [
    "# standard library imports\n",
    "import os\n",
    "import sys\n",
    "\n",
    "# Add project root to Python path\n",
    "project_root = os.path.abspath(os.path.join(os.getcwd(), '..'))\n",
    "if project_root not in sys.path:\n",
    "    sys.path.append(project_root)\n",
    "\n",
    "# third-party imports\n",
    "import rasterio\n",
    "import geopandas as gpd\n",
    "import numpy as np\n",
    "import pandas as pd\n",
    "\n",
    "# change to project root directory\n",
    "os.chdir('../')\n",
    "print(\"directory changes\")\n",
    "print(f\"current working directory is:\", os.getcwd())\n",
    "\n",
    "# local imports (after changing directory)\n",
    "from src.population import (\n",
    "    clip_raster_with_shapefile,\n",
    "    raster_to_points\n",
    ")\n",
    "\n",
    "from src.idp import kmz_to_shapefile, transform_idp_description, transform_idp_complete"
   ]
  },
  {
   "cell_type": "markdown",
   "metadata": {},
   "source": [
    "1.0 Population Density"
   ]
  },
  {
   "cell_type": "code",
   "execution_count": 2,
   "metadata": {},
   "outputs": [
    {
     "name": "stdout",
     "output_type": "stream",
     "text": [
      "coordinate system: EPSG:4326\n"
     ]
    }
   ],
   "source": [
    "# check coordinate system of population density data for Nigeria, nga_pd__2020_1km_UNadj.tif\n",
    "with rasterio.open(\"data/raw/nga_pd_2020_1km_UNadj.tif\") as src:\n",
    "    print(f\"coordinate system: {src.crs}\")"
   ]
  },
  {
   "cell_type": "code",
   "execution_count": 2,
   "metadata": {},
   "outputs": [
    {
     "name": "stdout",
     "output_type": "stream",
     "text": [
      "coordinate system: EPSG:4326\n"
     ]
    }
   ],
   "source": [
    "# check coordinate system of aoi, damaturu.shp\n",
    "aoi = gpd.read_file(\"data/raw/AOI/damaturu.shp\")\n",
    "print(f\"coordinate system: {aoi.crs}\")"
   ]
  },
  {
   "cell_type": "code",
   "execution_count": 2,
   "metadata": {},
   "outputs": [],
   "source": [
    "# apply \"clip_raster_with_shapefile\" function to get population density (raster) \n",
    "## of Damaturu, Nigeria specifically (shapefile) and sav interim \"damaturu_pd\" (raster) tif format\n",
    "clip_raster_with_shapefile(\n",
    "    \"data/raw/nga_pd_2020_1km_UNadj.tif\",\n",
    "    \"data/raw/AOI/damaturu.shp\",\n",
    "    \"data/interim/damaturu_pd.tif\"\n",
    ")"
   ]
  },
  {
   "cell_type": "code",
   "execution_count": 3,
   "metadata": {},
   "outputs": [
    {
     "name": "stdout",
     "output_type": "stream",
     "text": [
      "raster dimensions: 17 x 13\n",
      "total pixels: 221\n"
     ]
    }
   ],
   "source": [
    "# gain insight into raster dimensions to best choose a sample rate for raster to point conversion\n",
    "## (i.e., determine how many points to sample from the raster, \n",
    "## where sample_rate = 1 means that every pixel from the raster is converted to a point)\n",
    "with rasterio.open(\"data/interim/damaturu_pd.tif\") as src:\n",
    "    print(f\"raster dimensions: {src.width} x {src.height}\")\n",
    "    print(f\"total pixels: {src.width * src.height}\")\n",
    "    \n",
    "# note: raster dimensions and total pixels are small, therefore use sample_rate = 1"
   ]
  },
  {
   "cell_type": "code",
   "execution_count": 8,
   "metadata": {},
   "outputs": [
    {
     "name": "stdout",
     "output_type": "stream",
     "text": [
      "suggested sample rate: 0\n"
     ]
    }
   ],
   "source": [
    "with rasterio.open(\"data/interim/damaturu_pd.tif\") as src:\n",
    "    total_pixels = src.width * src.height\n",
    "    target_points = 20000  # adjust based on your needs (web viz, aim for 10,000-50,000 points)\n",
    "    suggested_sample_rate = int(total_pixels / target_points)\n",
    "    print(f\"suggested sample rate: {suggested_sample_rate}\")"
   ]
  },
  {
   "cell_type": "code",
   "execution_count": 4,
   "metadata": {},
   "outputs": [
    {
     "name": "stdout",
     "output_type": "stream",
     "text": [
      "input raster dimensions: 17 x 13\n",
      "total pixels: 221\n",
      "\n",
      "Created 221 points\n",
      "Value range: -99999.00 to 3183.82\n"
     ]
    },
    {
     "data": {
      "text/html": [
       "<div>\n",
       "<style scoped>\n",
       "    .dataframe tbody tr th:only-of-type {\n",
       "        vertical-align: middle;\n",
       "    }\n",
       "\n",
       "    .dataframe tbody tr th {\n",
       "        vertical-align: top;\n",
       "    }\n",
       "\n",
       "    .dataframe thead th {\n",
       "        text-align: right;\n",
       "    }\n",
       "</style>\n",
       "<table border=\"1\" class=\"dataframe\">\n",
       "  <thead>\n",
       "    <tr style=\"text-align: right;\">\n",
       "      <th></th>\n",
       "      <th>population_density</th>\n",
       "      <th>geometry</th>\n",
       "    </tr>\n",
       "  </thead>\n",
       "  <tbody>\n",
       "    <tr>\n",
       "      <th>0</th>\n",
       "      <td>-99999.0</td>\n",
       "      <td>POINT (11.91125 11.79542)</td>\n",
       "    </tr>\n",
       "    <tr>\n",
       "      <th>1</th>\n",
       "      <td>-99999.0</td>\n",
       "      <td>POINT (11.91958 11.79542)</td>\n",
       "    </tr>\n",
       "    <tr>\n",
       "      <th>2</th>\n",
       "      <td>-99999.0</td>\n",
       "      <td>POINT (11.92792 11.79542)</td>\n",
       "    </tr>\n",
       "    <tr>\n",
       "      <th>3</th>\n",
       "      <td>-99999.0</td>\n",
       "      <td>POINT (11.93625 11.79542)</td>\n",
       "    </tr>\n",
       "    <tr>\n",
       "      <th>4</th>\n",
       "      <td>-99999.0</td>\n",
       "      <td>POINT (11.94458 11.79542)</td>\n",
       "    </tr>\n",
       "    <tr>\n",
       "      <th>...</th>\n",
       "      <td>...</td>\n",
       "      <td>...</td>\n",
       "    </tr>\n",
       "    <tr>\n",
       "      <th>216</th>\n",
       "      <td>-99999.0</td>\n",
       "      <td>POINT (12.01125 11.69542)</td>\n",
       "    </tr>\n",
       "    <tr>\n",
       "      <th>217</th>\n",
       "      <td>-99999.0</td>\n",
       "      <td>POINT (12.01958 11.69542)</td>\n",
       "    </tr>\n",
       "    <tr>\n",
       "      <th>218</th>\n",
       "      <td>-99999.0</td>\n",
       "      <td>POINT (12.02792 11.69542)</td>\n",
       "    </tr>\n",
       "    <tr>\n",
       "      <th>219</th>\n",
       "      <td>-99999.0</td>\n",
       "      <td>POINT (12.03625 11.69542)</td>\n",
       "    </tr>\n",
       "    <tr>\n",
       "      <th>220</th>\n",
       "      <td>-99999.0</td>\n",
       "      <td>POINT (12.04458 11.69542)</td>\n",
       "    </tr>\n",
       "  </tbody>\n",
       "</table>\n",
       "<p>221 rows × 2 columns</p>\n",
       "</div>"
      ],
      "text/plain": [
       "     population_density                   geometry\n",
       "0              -99999.0  POINT (11.91125 11.79542)\n",
       "1              -99999.0  POINT (11.91958 11.79542)\n",
       "2              -99999.0  POINT (11.92792 11.79542)\n",
       "3              -99999.0  POINT (11.93625 11.79542)\n",
       "4              -99999.0  POINT (11.94458 11.79542)\n",
       "..                  ...                        ...\n",
       "216            -99999.0  POINT (12.01125 11.69542)\n",
       "217            -99999.0  POINT (12.01958 11.69542)\n",
       "218            -99999.0  POINT (12.02792 11.69542)\n",
       "219            -99999.0  POINT (12.03625 11.69542)\n",
       "220            -99999.0  POINT (12.04458 11.69542)\n",
       "\n",
       "[221 rows x 2 columns]"
      ]
     },
     "execution_count": 4,
     "metadata": {},
     "output_type": "execute_result"
    }
   ],
   "source": [
    "# convert interim (raster) \"damaturu_pd\" to processed \"damaturu_pd_points\" points for export and viz\n",
    "raster_to_points(\n",
    "    \"data/interim/damaturu_pd.tif\",\n",
    "    'data/processed/damaturu_pd_points.geojson',\n",
    "    sample_rate=1\n",
    ")"
   ]
  },
  {
   "cell_type": "markdown",
   "metadata": {},
   "source": [
    "2.0 Economic Hotspots"
   ]
  },
  {
   "cell_type": "code",
   "execution_count": 8,
   "metadata": {},
   "outputs": [
    {
     "name": "stdout",
     "output_type": "stream",
     "text": [
      "/opt/anaconda3/bin/python\n"
     ]
    }
   ],
   "source": [
    "import sys\n",
    "print(sys.executable)"
   ]
  },
  {
   "cell_type": "code",
   "execution_count": 4,
   "metadata": {},
   "outputs": [],
   "source": [
    "#nighttime light data\n",
    "import ee"
   ]
  },
  {
   "cell_type": "code",
   "execution_count": null,
   "metadata": {},
   "outputs": [],
   "source": []
  },
  {
   "cell_type": "markdown",
   "metadata": {},
   "source": [
    "3.0 IDP (Location, Location by Site Type, and Change in IDP Locations by Site Types (i.e, \"IDP Growth\"))"
   ]
  },
  {
   "cell_type": "code",
   "execution_count": 4,
   "metadata": {},
   "outputs": [
    {
     "name": "stderr",
     "output_type": "stream",
     "text": [
      "/Users/carolinecullinan/dev/wb/damaturu-nigeria-idp/src/idp.py:31: UserWarning: Column names longer than 10 characters will be truncated when saved to ESRI Shapefile.\n",
      "  gdf.to_file(output_shp)\n"
     ]
    }
   ],
   "source": [
    "# convert IDP location KMZ to shapefile\n",
    "idp_shapefile = kmz_to_shapefile(\n",
    "    \"data/raw/Round_39_North_East_IDP_Camp_Sites_KMZ.kmz\",\n",
    "    \"data/interim/idp_shapefile.shp\"\n",
    ")"
   ]
  },
  {
   "cell_type": "markdown",
   "metadata": {},
   "source": [
    "###### 3.2 Check Shapefile Data CRS"
   ]
  },
  {
   "cell_type": "code",
   "execution_count": 3,
   "metadata": {},
   "outputs": [
    {
     "name": "stdout",
     "output_type": "stream",
     "text": [
      "coordinate system: EPSG:4326\n"
     ]
    }
   ],
   "source": [
    "# check coordinate system of IDP shapefile\n",
    "print(f\"coordinate system: {idp_shapefile.crs}\")"
   ]
  },
  {
   "cell_type": "code",
   "execution_count": 5,
   "metadata": {},
   "outputs": [],
   "source": [
    "# clip IDP shapefile to Damaturu\n",
    "damaturu_idp = gpd.clip(idp_shapefile, aoi)"
   ]
  },
  {
   "cell_type": "code",
   "execution_count": 9,
   "metadata": {},
   "outputs": [
    {
     "name": "stderr",
     "output_type": "stream",
     "text": [
      "/var/folders/xy/9wgvl7914cj_8zq0xmgxg4hw0000gn/T/ipykernel_86795/3013792111.py:2: UserWarning: Column names longer than 10 characters will be truncated when saved to ESRI Shapefile.\n",
      "  damaturu_idp.to_file(\"data/processed/damaturu_idp.shp\")\n"
     ]
    }
   ],
   "source": [
    "# save damaturu_idp to shapefile\n",
    "damaturu_idp.to_file(\"data/interim/damaturu_idp.shp\")"
   ]
  },
  {
   "cell_type": "code",
   "execution_count": 6,
   "metadata": {},
   "outputs": [
    {
     "data": {
      "text/html": [
       "<div style=\"width:100%;\"><div style=\"position:relative;width:100%;height:0;padding-bottom:60%;\"><span style=\"color:#565656\">Make this Notebook Trusted to load map: File -> Trust Notebook</span><iframe srcdoc=\"&lt;!DOCTYPE html&gt;\n",
       "&lt;html&gt;\n",
       "&lt;head&gt;\n",
       "    \n",
       "    &lt;meta http-equiv=&quot;content-type&quot; content=&quot;text/html; charset=UTF-8&quot; /&gt;\n",
       "    \n",
       "        &lt;script&gt;\n",
       "            L_NO_TOUCH = false;\n",
       "            L_DISABLE_3D = false;\n",
       "        &lt;/script&gt;\n",
       "    \n",
       "    &lt;style&gt;html, body {width: 100%;height: 100%;margin: 0;padding: 0;}&lt;/style&gt;\n",
       "    &lt;style&gt;#map {position:absolute;top:0;bottom:0;right:0;left:0;}&lt;/style&gt;\n",
       "    &lt;script src=&quot;https://cdn.jsdelivr.net/npm/leaflet@1.9.3/dist/leaflet.js&quot;&gt;&lt;/script&gt;\n",
       "    &lt;script src=&quot;https://code.jquery.com/jquery-3.7.1.min.js&quot;&gt;&lt;/script&gt;\n",
       "    &lt;script src=&quot;https://cdn.jsdelivr.net/npm/bootstrap@5.2.2/dist/js/bootstrap.bundle.min.js&quot;&gt;&lt;/script&gt;\n",
       "    &lt;script src=&quot;https://cdnjs.cloudflare.com/ajax/libs/Leaflet.awesome-markers/2.0.2/leaflet.awesome-markers.js&quot;&gt;&lt;/script&gt;\n",
       "    &lt;link rel=&quot;stylesheet&quot; href=&quot;https://cdn.jsdelivr.net/npm/leaflet@1.9.3/dist/leaflet.css&quot;/&gt;\n",
       "    &lt;link rel=&quot;stylesheet&quot; href=&quot;https://cdn.jsdelivr.net/npm/bootstrap@5.2.2/dist/css/bootstrap.min.css&quot;/&gt;\n",
       "    &lt;link rel=&quot;stylesheet&quot; href=&quot;https://netdna.bootstrapcdn.com/bootstrap/3.0.0/css/bootstrap-glyphicons.css&quot;/&gt;\n",
       "    &lt;link rel=&quot;stylesheet&quot; href=&quot;https://cdn.jsdelivr.net/npm/@fortawesome/fontawesome-free@6.2.0/css/all.min.css&quot;/&gt;\n",
       "    &lt;link rel=&quot;stylesheet&quot; href=&quot;https://cdnjs.cloudflare.com/ajax/libs/Leaflet.awesome-markers/2.0.2/leaflet.awesome-markers.css&quot;/&gt;\n",
       "    &lt;link rel=&quot;stylesheet&quot; href=&quot;https://cdn.jsdelivr.net/gh/python-visualization/folium/folium/templates/leaflet.awesome.rotate.min.css&quot;/&gt;\n",
       "    \n",
       "            &lt;meta name=&quot;viewport&quot; content=&quot;width=device-width,\n",
       "                initial-scale=1.0, maximum-scale=1.0, user-scalable=no&quot; /&gt;\n",
       "            &lt;style&gt;\n",
       "                #map_84f82c77d1287fee6a3234759357c9c8 {\n",
       "                    position: relative;\n",
       "                    width: 100.0%;\n",
       "                    height: 100.0%;\n",
       "                    left: 0.0%;\n",
       "                    top: 0.0%;\n",
       "                }\n",
       "                .leaflet-container { font-size: 1rem; }\n",
       "            &lt;/style&gt;\n",
       "        \n",
       "    \n",
       "                    &lt;style&gt;\n",
       "                        .foliumtooltip {\n",
       "                            \n",
       "                        }\n",
       "                       .foliumtooltip table{\n",
       "                            margin: auto;\n",
       "                        }\n",
       "                        .foliumtooltip tr{\n",
       "                            text-align: left;\n",
       "                        }\n",
       "                        .foliumtooltip th{\n",
       "                            padding: 2px; padding-right: 8px;\n",
       "                        }\n",
       "                    &lt;/style&gt;\n",
       "            \n",
       "&lt;/head&gt;\n",
       "&lt;body&gt;\n",
       "    \n",
       "    \n",
       "            &lt;div class=&quot;folium-map&quot; id=&quot;map_84f82c77d1287fee6a3234759357c9c8&quot; &gt;&lt;/div&gt;\n",
       "        \n",
       "&lt;/body&gt;\n",
       "&lt;script&gt;\n",
       "    \n",
       "    \n",
       "            var map_84f82c77d1287fee6a3234759357c9c8 = L.map(\n",
       "                &quot;map_84f82c77d1287fee6a3234759357c9c8&quot;,\n",
       "                {\n",
       "                    center: [11.7329, 12.00817],\n",
       "                    crs: L.CRS.EPSG3857,\n",
       "                    zoom: 10,\n",
       "                    zoomControl: true,\n",
       "                    preferCanvas: false,\n",
       "                }\n",
       "            );\n",
       "            L.control.scale().addTo(map_84f82c77d1287fee6a3234759357c9c8);\n",
       "\n",
       "            \n",
       "\n",
       "        \n",
       "    \n",
       "            var tile_layer_aeb9e849ae1468a3db1d1d3047727f72 = L.tileLayer(\n",
       "                &quot;https://tile.openstreetmap.org/{z}/{x}/{y}.png&quot;,\n",
       "                {&quot;attribution&quot;: &quot;\\u0026copy; \\u003ca href=\\&quot;https://www.openstreetmap.org/copyright\\&quot;\\u003eOpenStreetMap\\u003c/a\\u003e contributors&quot;, &quot;detectRetina&quot;: false, &quot;maxNativeZoom&quot;: 19, &quot;maxZoom&quot;: 19, &quot;minZoom&quot;: 0, &quot;noWrap&quot;: false, &quot;opacity&quot;: 1, &quot;subdomains&quot;: &quot;abc&quot;, &quot;tms&quot;: false}\n",
       "            );\n",
       "        \n",
       "    \n",
       "            tile_layer_aeb9e849ae1468a3db1d1d3047727f72.addTo(map_84f82c77d1287fee6a3234759357c9c8);\n",
       "        \n",
       "    \n",
       "            map_84f82c77d1287fee6a3234759357c9c8.fitBounds(\n",
       "                [[11.72675, 11.9805], [11.73905, 12.03584]],\n",
       "                {}\n",
       "            );\n",
       "        \n",
       "    \n",
       "        function geo_json_624f89a89802bda1998a2d9addee5371_styler(feature) {\n",
       "            switch(feature.id) {\n",
       "                default:\n",
       "                    return {&quot;fillOpacity&quot;: 0.5, &quot;weight&quot;: 2};\n",
       "            }\n",
       "        }\n",
       "        function geo_json_624f89a89802bda1998a2d9addee5371_highlighter(feature) {\n",
       "            switch(feature.id) {\n",
       "                default:\n",
       "                    return {&quot;fillOpacity&quot;: 0.75};\n",
       "            }\n",
       "        }\n",
       "        function geo_json_624f89a89802bda1998a2d9addee5371_pointToLayer(feature, latlng) {\n",
       "            var opts = {&quot;bubblingMouseEvents&quot;: true, &quot;color&quot;: &quot;#3388ff&quot;, &quot;dashArray&quot;: null, &quot;dashOffset&quot;: null, &quot;fill&quot;: true, &quot;fillColor&quot;: &quot;#3388ff&quot;, &quot;fillOpacity&quot;: 0.2, &quot;fillRule&quot;: &quot;evenodd&quot;, &quot;lineCap&quot;: &quot;round&quot;, &quot;lineJoin&quot;: &quot;round&quot;, &quot;opacity&quot;: 1.0, &quot;radius&quot;: 2, &quot;stroke&quot;: true, &quot;weight&quot;: 3};\n",
       "            \n",
       "            let style = geo_json_624f89a89802bda1998a2d9addee5371_styler(feature)\n",
       "            Object.assign(opts, style)\n",
       "            \n",
       "            return new L.CircleMarker(latlng, opts)\n",
       "        }\n",
       "\n",
       "        function geo_json_624f89a89802bda1998a2d9addee5371_onEachFeature(feature, layer) {\n",
       "            layer.on({\n",
       "                mouseout: function(e) {\n",
       "                    if(typeof e.target.setStyle === &quot;function&quot;){\n",
       "                            geo_json_624f89a89802bda1998a2d9addee5371.resetStyle(e.target);\n",
       "                    }\n",
       "                },\n",
       "                mouseover: function(e) {\n",
       "                    if(typeof e.target.setStyle === &quot;function&quot;){\n",
       "                        const highlightStyle = geo_json_624f89a89802bda1998a2d9addee5371_highlighter(e.target.feature)\n",
       "                        e.target.setStyle(highlightStyle);\n",
       "                    }\n",
       "                },\n",
       "            });\n",
       "        };\n",
       "        var geo_json_624f89a89802bda1998a2d9addee5371 = L.geoJson(null, {\n",
       "                onEachFeature: geo_json_624f89a89802bda1998a2d9addee5371_onEachFeature,\n",
       "            \n",
       "                style: geo_json_624f89a89802bda1998a2d9addee5371_styler,\n",
       "                pointToLayer: geo_json_624f89a89802bda1998a2d9addee5371_pointToLayer,\n",
       "        });\n",
       "\n",
       "        function geo_json_624f89a89802bda1998a2d9addee5371_add (data) {\n",
       "            geo_json_624f89a89802bda1998a2d9addee5371\n",
       "                .addData(data);\n",
       "        }\n",
       "            geo_json_624f89a89802bda1998a2d9addee5371_add({&quot;bbox&quot;: [11.9805, 11.72675, 12.03584, 11.73905], &quot;features&quot;: [{&quot;bbox&quot;: [12.03584, 11.72675, 12.03584, 11.72675], &quot;geometry&quot;: {&quot;coordinates&quot;: [12.03584, 11.72675, 0.0], &quot;type&quot;: &quot;Point&quot;}, &quot;id&quot;: &quot;293&quot;, &quot;properties&quot;: {&quot;Description&quot;: &quot;\\u003chtml xmlns:fo=\\&quot;http://www.w3.org/1999/XSL/Format\\&quot; xmlns:msxsl=\\&quot;urn:schemas-microsoft-com:xslt\\&quot;\\u003e \\u003chead\\u003e \\u003cMETA http-equiv=\\&quot;Content-Type\\&quot; content=\\&quot;text/html\\&quot;\\u003e \\u003cmeta http-equiv=\\&quot;content-type\\&quot; content=\\&quot;text/html; charset=UTF-8\\&quot;\\u003e \\u003c/head\\u003e \\u003cbody style=\\&quot;margin:0px 0px 0px 0px;overflow:auto;background:#FFFFFF;\\&quot;\\u003e \\u003ctable style=\\&quot;font-family:Arial,Verdana,Times;font-size:12px;text-align:left;width:100%;border-collapse:collapse;padding:3px 3px 3px 3px\\&quot;\\u003e \\u003ctr style=\\&quot;text-align:center;font-weight:bold;background:#9CBCE2\\&quot;\\u003e \\u003ctd\\u003eMOH\\u0027D GOMBE FARM\\u003c/td\\u003e \\u003c/tr\\u003e \\u003ctr\\u003e \\u003ctd\\u003e \\u003ctable style=\\&quot;font-family:Arial,Verdana,Times;font-size:12px;text-align:left;width:100%;border-spacing:0px; padding:3px 3px 3px 3px\\&quot;\\u003e \\u003ctr\\u003e \\u003ctd\\u003eDTM Round\\u003c/td\\u003e \\u003ctd\\u003eR39\\u003c/td\\u003e \\u003c/tr\\u003e \\u003ctr bgcolor=\\&quot;#D4E4F3\\&quot;\\u003e \\u003ctd\\u003eDate\\u003c/td\\u003e \\u003ctd\\u003e06/10/2021\\u003c/td\\u003e \\u003c/tr\\u003e \\u003ctr\\u003e \\u003ctd\\u003eState\\u003c/td\\u003e \\u003ctd\\u003eYOBE\\u003c/td\\u003e \\u003c/tr\\u003e \\u003ctr bgcolor=\\&quot;#D4E4F3\\&quot;\\u003e \\u003ctd\\u003eState_Pcode\\u003c/td\\u003e \\u003ctd\\u003eNG036\\u003c/td\\u003e \\u003c/tr\\u003e \\u003ctr\\u003e \\u003ctd\\u003eLGA\\u003c/td\\u003e \\u003ctd\\u003eDAMATURU\\u003c/td\\u003e \\u003c/tr\\u003e \\u003ctr bgcolor=\\&quot;#D4E4F3\\&quot;\\u003e \\u003ctd\\u003eWard\\u003c/td\\u003e \\u003ctd\\u003eMAISANDARI/WAZIRI IBRAHIM ESTATE\\u003c/td\\u003e \\u003c/tr\\u003e \\u003ctr\\u003e \\u003ctd\\u003eSiteID\\u003c/td\\u003e \\u003ctd\\u003eYB_S004\\u003c/td\\u003e \\u003c/tr\\u003e \\u003ctr bgcolor=\\&quot;#D4E4F3\\&quot;\\u003e \\u003ctd\\u003eSite Name\\u003c/td\\u003e \\u003ctd\\u003eMOH\\u0027D GOMBE FARM\\u003c/td\\u003e \\u003c/tr\\u003e \\u003ctr\\u003e \\u003ctd\\u003eLongitude\\u003c/td\\u003e \\u003ctd\\u003e12.03584\\u003c/td\\u003e \\u003c/tr\\u003e \\u003ctr bgcolor=\\&quot;#D4E4F3\\&quot;\\u003e \\u003ctd\\u003eLatitude\\u003c/td\\u003e \\u003ctd\\u003e11.72675\\u003c/td\\u003e \\u003c/tr\\u003e \\u003ctr\\u003e \\u003ctd\\u003eSite Status\\u003c/td\\u003e \\u003ctd\\u003einformal\\u003c/td\\u003e \\u003c/tr\\u003e \\u003ctr bgcolor=\\&quot;#D4E4F3\\&quot;\\u003e \\u003ctd\\u003eSite Type\\u003c/td\\u003e \\u003ctd\\u003eCollective Settlement/Centre\\u003c/td\\u003e \\u003c/tr\\u003e \\u003ctr\\u003e \\u003ctd\\u003eSite Classification\\u003c/td\\u003e \\u003ctd\\u003eSpontaneous\\u003c/td\\u003e \\u003c/tr\\u003e \\u003ctr bgcolor=\\&quot;#D4E4F3\\&quot;\\u003e \\u003ctd\\u003eApproximate Site Area\\u003c/td\\u003e \\u003ctd\\u003e183,444 sq.m\\u003c/td\\u003e \\u003c/tr\\u003e \\u003ctr\\u003e \\u003ctd\\u003eSite Management Agency\\u003c/td\\u003e \\u003ctd\\u003eno\\u003c/td\\u003e \\u003c/tr\\u003e \\u003ctr bgcolor=\\&quot;#D4E4F3\\&quot;\\u003e \\u003ctd\\u003eSMA type\\u003c/td\\u003e \\u003ctd\\u003enone\\u003c/td\\u003e \\u003c/tr\\u003e \\u003ctr\\u003e \\u003ctd\\u003eRegistration Activity\\u003c/td\\u003e \\u003ctd\\u003eyes\\u003c/td\\u003e \\u003c/tr\\u003e \\u003ctr bgcolor=\\&quot;#D4E4F3\\&quot;\\u003e \\u003ctd\\u003eWASH Support\\u003c/td\\u003e \\u003ctd\\u003eyes\\u003c/td\\u003e \\u003c/tr\\u003e \\u003ctr\\u003e \\u003ctd\\u003eCCCM Support\\u003c/td\\u003e \\u003ctd\\u003eno\\u003c/td\\u003e \\u003c/tr\\u003e \\u003ctr bgcolor=\\&quot;#D4E4F3\\&quot;\\u003e \\u003ctd\\u003eCCCM_Organization\\u003c/td\\u003e \\u003ctd\\u003eNo CCCM Organization\\u003c/td\\u003e \\u003c/tr\\u003e \\u003ctr\\u003e \\u003ctd\\u003eHEALTH Support\\u003c/td\\u003e \\u003ctd\\u003eno\\u003c/td\\u003e \\u003c/tr\\u003e \\u003ctr bgcolor=\\&quot;#D4E4F3\\&quot;\\u003e \\u003ctd\\u003eSHELTER Support\\u003c/td\\u003e \\u003ctd\\u003eyes\\u003c/td\\u003e \\u003c/tr\\u003e \\u003ctr\\u003e \\u003ctd\\u003eNFI Support\\u003c/td\\u003e \\u003ctd\\u003eno\\u003c/td\\u003e \\u003c/tr\\u003e \\u003ctr bgcolor=\\&quot;#D4E4F3\\&quot;\\u003e \\u003ctd\\u003eFOOD Support\\u003c/td\\u003e \\u003ctd\\u003eyes\\u003c/td\\u003e \\u003c/tr\\u003e \\u003ctr\\u003e \\u003ctd\\u003ePROTECTION Support\\u003c/td\\u003e \\u003ctd\\u003eno\\u003c/td\\u003e \\u003c/tr\\u003e \\u003ctr bgcolor=\\&quot;#D4E4F3\\&quot;\\u003e \\u003ctd\\u003eEDUCATION Support\\u003c/td\\u003e \\u003ctd\\u003eyes\\u003c/td\\u003e \\u003c/tr\\u003e \\u003ctr\\u003e \\u003ctd\\u003eLIVELIHOOD Support\\u003c/td\\u003e \\u003ctd\\u003eno\\u003c/td\\u003e \\u003c/tr\\u003e \\u003ctr bgcolor=\\&quot;#D4E4F3\\&quot;\\u003e \\u003ctd\\u003ePSS SUPPORT\\u003c/td\\u003e \\u003ctd\\u003eno\\u003c/td\\u003e \\u003c/tr\\u003e \\u003ctr\\u003e \\u003ctd\\u003ePSS_ORGANIZATION\\u003c/td\\u003e \\u003ctd\\u003eNo PSS ORGANIZATION\\u003c/td\\u003e \\u003c/tr\\u003e \\u003ctr bgcolor=\\&quot;#D4E4F3\\&quot;\\u003e \\u003ctd\\u003eLand Ownership\\u003c/td\\u003e \\u003ctd\\u003eprivate building\\u003c/td\\u003e \\u003c/tr\\u003e \\u003ctr\\u003e \\u003ctd\\u003eMost Common Type of Shelter\\u003c/td\\u003e \\u003ctd\\u003eindividual house\\u003c/td\\u003e \\u003c/tr\\u003e \\u003ctr bgcolor=\\&quot;#D4E4F3\\&quot;\\u003e \\u003ctd\\u003eNumber of Households\\u003c/td\\u003e \\u003ctd\\u003e55\\u003c/td\\u003e \\u003c/tr\\u003e \\u003ctr\\u003e \\u003ctd\\u003eNumber of Individuals\\u003c/td\\u003e \\u003ctd\\u003e330\\u003c/td\\u003e \\u003c/tr\\u003e \\u003ctr bgcolor=\\&quot;#D4E4F3\\&quot;\\u003e \\u003ctd\\u003eBoys (\\u0026lt;1)\\u003c/td\\u003e \\u003ctd\\u003e8\\u003c/td\\u003e \\u003c/tr\\u003e \\u003ctr\\u003e \\u003ctd\\u003eGirls (\\u0026lt;1)\\u003c/td\\u003e \\u003ctd\\u003e10\\u003c/td\\u003e \\u003c/tr\\u003e \\u003ctr bgcolor=\\&quot;#D4E4F3\\&quot;\\u003e \\u003ctd\\u003eBoys (1 - 5 y)\\u003c/td\\u003e \\u003ctd\\u003e11\\u003c/td\\u003e \\u003c/tr\\u003e \\u003ctr\\u003e \\u003ctd\\u003eGirls (1 - 5 y)\\u003c/td\\u003e \\u003ctd\\u003e15\\u003c/td\\u003e \\u003c/tr\\u003e \\u003ctr bgcolor=\\&quot;#D4E4F3\\&quot;\\u003e \\u003ctd\\u003eBoys 6to12y\\u003c/td\\u003e \\u003ctd\\u003e16\\u003c/td\\u003e \\u003c/tr\\u003e \\u003ctr\\u003e \\u003ctd\\u003eGirls 6to12y\\u003c/td\\u003e \\u003ctd\\u003e20\\u003c/td\\u003e \\u003c/tr\\u003e \\u003ctr bgcolor=\\&quot;#D4E4F3\\&quot;\\u003e \\u003ctd\\u003eBoys 13to17y\\u003c/td\\u003e \\u003ctd\\u003e39\\u003c/td\\u003e \\u003c/tr\\u003e \\u003ctr\\u003e \\u003ctd\\u003eGirls 13to17y\\u003c/td\\u003e \\u003ctd\\u003e46\\u003c/td\\u003e \\u003c/tr\\u003e \\u003ctr bgcolor=\\&quot;#D4E4F3\\&quot;\\u003e \\u003ctd\\u003eMen (18 - 59 y)\\u003c/td\\u003e \\u003ctd\\u003e63\\u003c/td\\u003e \\u003c/tr\\u003e \\u003ctr\\u003e \\u003ctd\\u003eWomen (18 - 59 y)\\u003c/td\\u003e \\u003ctd\\u003e88\\u003c/td\\u003e \\u003c/tr\\u003e \\u003ctr bgcolor=\\&quot;#D4E4F3\\&quot;\\u003e \\u003ctd\\u003e(Elderly men 60+ y)\\u003c/td\\u003e \\u003ctd\\u003e6\\u003c/td\\u003e \\u003c/tr\\u003e \\u003ctr\\u003e \\u003ctd\\u003e(Elderly women 60+ y)\\u003c/td\\u003e \\u003ctd\\u003e8\\u003c/td\\u003e \\u003c/tr\\u003e \\u003ctr bgcolor=\\&quot;#D4E4F3\\&quot;\\u003e \\u003ctd\\u003eHave IDPs been displaced previously\\u003c/td\\u003e \\u003ctd\\u003eno\\u003c/td\\u003e \\u003c/tr\\u003e \\u003ctr\\u003e \\u003ctd\\u003eReason for displacement of Majority\\u003c/td\\u003e \\u003ctd\\u003einsurgency\\u003c/td\\u003e \\u003c/tr\\u003e \\u003ctr bgcolor=\\&quot;#D4E4F3\\&quot;\\u003e \\u003ctd\\u003eNatural Hazard Risks\\u003c/td\\u003e \\u003ctd\\u003enone\\u003c/td\\u003e \\u003c/tr\\u003e \\u003ctr\\u003e \\u003ctd\\u003eIntended Area of Return\\u003c/td\\u003e \\u003ctd\\u003eplace of origin\\u003c/td\\u003e \\u003c/tr\\u003e \\u003ctr bgcolor=\\&quot;#D4E4F3\\&quot;\\u003e \\u003ctd\\u003eReasons to Return Home\\u003c/td\\u003e \\u003ctd\\u003eimproved security\\u003c/td\\u003e \\u003c/tr\\u003e \\u003ctr\\u003e \\u003ctd\\u003eReasons NOT to Return Home\\u003c/td\\u003e \\u003ctd\\u003eI want to go back\\u003c/td\\u003e \\u003c/tr\\u003e \\u003ctr bgcolor=\\&quot;#D4E4F3\\&quot;\\u003e \\u003ctd\\u003e% HH living outside (no shelter)\\u003c/td\\u003e \\u003ctd\\u003enone\\u003c/td\\u003e \\u003c/tr\\u003e \\u003ctr\\u003e \\u003ctd\\u003e% HH living in EmS\\u003c/td\\u003e \\u003ctd\\u003enone\\u003c/td\\u003e \\u003c/tr\\u003e \\u003ctr bgcolor=\\&quot;#D4E4F3\\&quot;\\u003e \\u003ctd\\u003e% HH living in makeshift/self-made shelter\\u003c/td\\u003e \\u003ctd\\u003enone\\u003c/td\\u003e \\u003c/tr\\u003e \\u003ctr\\u003e \\u003ctd\\u003e% HH living indoors (solid walls)\\u003c/td\\u003e \\u003ctd\\u003e\\u0026gt;75%\\u003c/td\\u003e \\u003c/tr\\u003e \\u003ctr bgcolor=\\&quot;#D4E4F3\\&quot;\\u003e \\u003ctd\\u003e% HH have access to electricity\\u003c/td\\u003e \\u003ctd\\u003enone\\u003c/td\\u003e \\u003c/tr\\u003e \\u003ctr\\u003e \\u003ctd\\u003e% HH have access to safe cooking facilities\\u003c/td\\u003e \\u003ctd\\u003e25%_50%\\u003c/td\\u003e \\u003c/tr\\u003e \\u003ctr bgcolor=\\&quot;#D4E4F3\\&quot;\\u003e \\u003ctd\\u003e% HH have private living area\\u003c/td\\u003e \\u003ctd\\u003enone\\u003c/td\\u003e \\u003c/tr\\u003e \\u003ctr\\u003e \\u003ctd\\u003e% HH have mosquito nets\\u003c/td\\u003e \\u003ctd\\u003e51%_75%\\u003c/td\\u003e \\u003c/tr\\u003e \\u003ctr bgcolor=\\&quot;#D4E4F3\\&quot;\\u003e \\u003ctd\\u003eMost needed NFI\\u003c/td\\u003e \\u003ctd\\u003ekitchen sets\\u003c/td\\u003e \\u003c/tr\\u003e \\u003ctr\\u003e \\u003ctd\\u003eMost Unmet Needs\\u003c/td\\u003e \\u003ctd\\u003eFood\\u003c/td\\u003e \\u003c/tr\\u003e \\u003ctr bgcolor=\\&quot;#D4E4F3\\&quot;\\u003e \\u003ctd\\u003eLocation of site main water source\\u003c/td\\u003e \\u003ctd\\u003eon-site (\\u0026lt;10 minutes)\\u003c/td\\u003e \\u003c/tr\\u003e \\u003ctr\\u003e \\u003ctd\\u003eMain drinking water source\\u003c/td\\u003e \\u003ctd\\u003epiped water supply\\u003c/td\\u003e \\u003c/tr\\u003e \\u003ctr bgcolor=\\&quot;#D4E4F3\\&quot;\\u003e \\u003ctd\\u003eAvg amount of water available /day/person\\u003c/td\\u003e \\u003ctd\\u003eunknown\\u003c/td\\u003e \\u003c/tr\\u003e \\u003ctr\\u003e \\u003ctd\\u003eIs drinking water potable\\u003c/td\\u003e \\u003ctd\\u003eyes\\u003c/td\\u003e \\u003c/tr\\u003e \\u003ctr bgcolor=\\&quot;#D4E4F3\\&quot;\\u003e \\u003ctd\\u003eComplaints about drinking water quality\\u003c/td\\u003e \\u003ctd\\u003eno\\u003c/td\\u003e \\u003c/tr\\u003e \\u003ctr\\u003e \\u003ctd\\u003eCondition of most of the toilets\\u003c/td\\u003e \\u003ctd\\u003enot so good (not hygienic)\\u003c/td\\u003e \\u003c/tr\\u003e \\u003ctr bgcolor=\\&quot;#D4E4F3\\&quot;\\u003e \\u003ctd\\u003e# of functioning toilets\\u003c/td\\u003e \\u003ctd\\u003e25\\u003c/td\\u003e \\u003c/tr\\u003e \\u003ctr\\u003e \\u003ctd\\u003eMain garbage disposal\\u003c/td\\u003e \\u003ctd\\u003egarbage pit\\u003c/td\\u003e \\u003c/tr\\u003e \\u003ctr bgcolor=\\&quot;#D4E4F3\\&quot;\\u003e \\u003ctd\\u003eGarbage and solid waste problem\\u003c/td\\u003e \\u003ctd\\u003eno\\u003c/td\\u003e \\u003c/tr\\u003e \\u003ctr\\u003e \\u003ctd\\u003eAvailability of hand-washing station\\u003c/td\\u003e \\u003ctd\\u003enone\\u003c/td\\u003e \\u003c/tr\\u003e \\u003ctr bgcolor=\\&quot;#D4E4F3\\&quot;\\u003e \\u003ctd\\u003eHygiene promotion campaign\\u003c/td\\u003e \\u003ctd\\u003eno\\u003c/td\\u003e \\u003c/tr\\u003e \\u003ctr\\u003e \\u003ctd\\u003eEvidence of open defecation\\u003c/td\\u003e \\u003ctd\\u003eno\\u003c/td\\u003e \\u003c/tr\\u003e \\u003ctr bgcolor=\\&quot;#D4E4F3\\&quot;\\u003e \\u003ctd\\u003eAccess to food\\u003c/td\\u003e \\u003ctd\\u003eyes onsite\\u003c/td\\u003e \\u003c/tr\\u003e \\u003ctr\\u003e \\u003ctd\\u003eAccess to market near from the site\\u003c/td\\u003e \\u003ctd\\u003eyes\\u003c/td\\u003e \\u003c/tr\\u003e \\u003ctr bgcolor=\\&quot;#D4E4F3\\&quot;\\u003e \\u003ctd\\u003eFrequency of food distribution\\u003c/td\\u003e \\u003ctd\\u003eonce_a_month\\u003c/td\\u003e \\u003c/tr\\u003e \\u003ctr\\u003e \\u003ctd\\u003eMost common source for obtaining food\\u003c/td\\u003e \\u003ctd\\u003ecultivated\\u003c/td\\u003e \\u003c/tr\\u003e \\u003ctr bgcolor=\\&quot;#D4E4F3\\&quot;\\u003e \\u003ctd\\u003eScreening for malnutrition\\u003c/td\\u003e \\u003ctd\\u003eno\\u003c/td\\u003e \\u003c/tr\\u003e \\u003ctr\\u003e \\u003ctd\\u003eMost health problem\\u003c/td\\u003e \\u003ctd\\u003emalaria\\u003c/td\\u003e \\u003c/tr\\u003e \\u003ctr bgcolor=\\&quot;#D4E4F3\\&quot;\\u003e \\u003ctd\\u003eRegular access to medicine\\u003c/td\\u003e \\u003ctd\\u003eno\\u003c/td\\u003e \\u003c/tr\\u003e \\u003ctr\\u003e \\u003ctd\\u003eAccess to health facility\\u003c/td\\u003e \\u003ctd\\u003eno\\u003c/td\\u003e \\u003c/tr\\u003e \\u003ctr bgcolor=\\&quot;#D4E4F3\\&quot;\\u003e \\u003ctd\\u003eLocation of health facilities\\u003c/td\\u003e \\u003ctd\\u003eoff-site (\\u0026gt; 3 km)\\u003c/td\\u003e \\u003c/tr\\u003e \\u003ctr\\u003e \\u003ctd\\u003eMain provider of health facilities\\u003c/td\\u003e \\u003ctd\\u003egovernment\\u003c/td\\u003e \\u003c/tr\\u003e \\u003ctr bgcolor=\\&quot;#D4E4F3\\&quot;\\u003e \\u003ctd\\u003eMain Provider of Health Services\\u003c/td\\u003e \\u003ctd\\u003egovernment\\u003c/td\\u003e \\u003c/tr\\u003e \\u003ctr\\u003e \\u003ctd\\u003ePrimary Health Care for Children\\u003c/td\\u003e \\u003ctd\\u003eNo\\u003c/td\\u003e \\u003c/tr\\u003e \\u003ctr bgcolor=\\&quot;#D4E4F3\\&quot;\\u003e \\u003ctd\\u003ePrimary Health Care for Adult\\u003c/td\\u003e \\u003ctd\\u003eYes\\u003c/td\\u003e \\u003c/tr\\u003e \\u003ctr\\u003e \\u003ctd\\u003eSecondary Health Care for Children\\u003c/td\\u003e \\u003ctd\\u003eNo\\u003c/td\\u003e \\u003c/tr\\u003e \\u003ctr bgcolor=\\&quot;#D4E4F3\\&quot;\\u003e \\u003ctd\\u003eSecondary Health Care for Adult\\u003c/td\\u003e \\u003ctd\\u003eNo\\u003c/td\\u003e \\u003c/tr\\u003e \\u003ctr\\u003e \\u003ctd\\u003eTraditional Health Care\\u003c/td\\u003e \\u003ctd\\u003eNo\\u003c/td\\u003e \\u003c/tr\\u003e \\u003ctr bgcolor=\\&quot;#D4E4F3\\&quot;\\u003e \\u003ctd\\u003eAccess to education services\\u003c/td\\u003e \\u003ctd\\u003eyes\\u003c/td\\u003e \\u003c/tr\\u003e \\u003ctr\\u003e \\u003ctd\\u003eLocation of education facilities\\u003c/td\\u003e \\u003ctd\\u003eonsite\\u003c/td\\u003e \\u003c/tr\\u003e \\u003ctr bgcolor=\\&quot;#D4E4F3\\&quot;\\u003e \\u003ctd\\u003e% of children attending school\\u003c/td\\u003e \\u003ctd\\u003e\\u0026lt;25%\\u003c/td\\u003e \\u003c/tr\\u003e \\u003ctr\\u003e \\u003ctd\\u003eOccupation of majority of IDPs\\u003c/td\\u003e \\u003ctd\\u003eagro-pastoralism\\u003c/td\\u003e \\u003c/tr\\u003e \\u003ctr bgcolor=\\&quot;#D4E4F3\\&quot;\\u003e \\u003ctd\\u003e# of HH with source of income\\u003c/td\\u003e \\u003ctd\\u003e0\\u003c/td\\u003e \\u003c/tr\\u003e \\u003ctr\\u003e \\u003ctd\\u003eAccess to income generating activities\\u003c/td\\u003e \\u003ctd\\u003eno\\u003c/td\\u003e \\u003c/tr\\u003e \\u003ctr bgcolor=\\&quot;#D4E4F3\\&quot;\\u003e \\u003ctd\\u003eLivestock on site\\u003c/td\\u003e \\u003ctd\\u003eyes\\u003c/td\\u003e \\u003c/tr\\u003e \\u003ctr\\u003e \\u003ctd\\u003eIDPs have access to land for cultivation\\u003c/td\\u003e \\u003ctd\\u003eyes\\u003c/td\\u003e \\u003c/tr\\u003e \\u003ctr bgcolor=\\&quot;#D4E4F3\\&quot;\\u003e \\u003ctd\\u003eMost trusted source of Info\\u003c/td\\u003e \\u003ctd\\u003egovernment official\\u003c/td\\u003e \\u003c/tr\\u003e \\u003ctr\\u003e \\u003ctd\\u003eMain topic community is requesting info\\u003c/td\\u003e \\u003ctd\\u003esafety and security\\u003c/td\\u003e \\u003c/tr\\u003e \\u003ctr bgcolor=\\&quot;#D4E4F3\\&quot;\\u003e \\u003ctd\\u003eSerious problem due to lack information\\u003c/td\\u003e \\u003ctd\\u003eyes\\u003c/td\\u003e \\u003c/tr\\u003e \\u003c/table\\u003e \\u003c/td\\u003e \\u003c/tr\\u003e \\u003c/table\\u003e \\u003c/body\\u003e \\u003c/html\\u003e&quot;, &quot;Name&quot;: &quot;MOH\\u0027D GOMBE FARM&quot;}, &quot;type&quot;: &quot;Feature&quot;}, {&quot;bbox&quot;: [11.98183, 11.72985, 11.98183, 11.72985], &quot;geometry&quot;: {&quot;coordinates&quot;: [11.98183, 11.72985, 0.0], &quot;type&quot;: &quot;Point&quot;}, &quot;id&quot;: &quot;289&quot;, &quot;properties&quot;: {&quot;Description&quot;: &quot;\\u003chtml xmlns:fo=\\&quot;http://www.w3.org/1999/XSL/Format\\&quot; xmlns:msxsl=\\&quot;urn:schemas-microsoft-com:xslt\\&quot;\\u003e \\u003chead\\u003e \\u003cMETA http-equiv=\\&quot;Content-Type\\&quot; content=\\&quot;text/html\\&quot;\\u003e \\u003cmeta http-equiv=\\&quot;content-type\\&quot; content=\\&quot;text/html; charset=UTF-8\\&quot;\\u003e \\u003c/head\\u003e \\u003cbody style=\\&quot;margin:0px 0px 0px 0px;overflow:auto;background:#FFFFFF;\\&quot;\\u003e \\u003ctable style=\\&quot;font-family:Arial,Verdana,Times;font-size:12px;text-align:left;width:100%;border-collapse:collapse;padding:3px 3px 3px 3px\\&quot;\\u003e \\u003ctr style=\\&quot;text-align:center;font-weight:bold;background:#9CBCE2\\&quot;\\u003e \\u003ctd\\u003eBUKAR ABBA HOUSE\\u003c/td\\u003e \\u003c/tr\\u003e \\u003ctr\\u003e \\u003ctd\\u003e \\u003ctable style=\\&quot;font-family:Arial,Verdana,Times;font-size:12px;text-align:left;width:100%;border-spacing:0px; padding:3px 3px 3px 3px\\&quot;\\u003e \\u003ctr\\u003e \\u003ctd\\u003eDTM Round\\u003c/td\\u003e \\u003ctd\\u003eR39\\u003c/td\\u003e \\u003c/tr\\u003e \\u003ctr bgcolor=\\&quot;#D4E4F3\\&quot;\\u003e \\u003ctd\\u003eDate\\u003c/td\\u003e \\u003ctd\\u003e08/10/2021\\u003c/td\\u003e \\u003c/tr\\u003e \\u003ctr\\u003e \\u003ctd\\u003eState\\u003c/td\\u003e \\u003ctd\\u003eYOBE\\u003c/td\\u003e \\u003c/tr\\u003e \\u003ctr bgcolor=\\&quot;#D4E4F3\\&quot;\\u003e \\u003ctd\\u003eState_Pcode\\u003c/td\\u003e \\u003ctd\\u003eNG036\\u003c/td\\u003e \\u003c/tr\\u003e \\u003ctr\\u003e \\u003ctd\\u003eLGA\\u003c/td\\u003e \\u003ctd\\u003eDAMATURU\\u003c/td\\u003e \\u003c/tr\\u003e \\u003ctr bgcolor=\\&quot;#D4E4F3\\&quot;\\u003e \\u003ctd\\u003eWard\\u003c/td\\u003e \\u003ctd\\u003eDAMATURU CENTRAL\\u003c/td\\u003e \\u003c/tr\\u003e \\u003ctr\\u003e \\u003ctd\\u003eSiteID\\u003c/td\\u003e \\u003ctd\\u003eYB_S021\\u003c/td\\u003e \\u003c/tr\\u003e \\u003ctr bgcolor=\\&quot;#D4E4F3\\&quot;\\u003e \\u003ctd\\u003eSite Name\\u003c/td\\u003e \\u003ctd\\u003eBUKAR ABBA HOUSE\\u003c/td\\u003e \\u003c/tr\\u003e \\u003ctr\\u003e \\u003ctd\\u003eLongitude\\u003c/td\\u003e \\u003ctd\\u003e11.98183\\u003c/td\\u003e \\u003c/tr\\u003e \\u003ctr bgcolor=\\&quot;#D4E4F3\\&quot;\\u003e \\u003ctd\\u003eLatitude\\u003c/td\\u003e \\u003ctd\\u003e11.72985\\u003c/td\\u003e \\u003c/tr\\u003e \\u003ctr\\u003e \\u003ctd\\u003eSite Status\\u003c/td\\u003e \\u003ctd\\u003einformal\\u003c/td\\u003e \\u003c/tr\\u003e \\u003ctr bgcolor=\\&quot;#D4E4F3\\&quot;\\u003e \\u003ctd\\u003eSite Type\\u003c/td\\u003e \\u003ctd\\u003eCollective Settlement/Centre\\u003c/td\\u003e \\u003c/tr\\u003e \\u003ctr\\u003e \\u003ctd\\u003eSite Classification\\u003c/td\\u003e \\u003ctd\\u003eSpontaneous\\u003c/td\\u003e \\u003c/tr\\u003e \\u003ctr bgcolor=\\&quot;#D4E4F3\\&quot;\\u003e \\u003ctd\\u003eApproximate Site Area\\u003c/td\\u003e \\u003ctd\\u003e65,276 sq.m\\u003c/td\\u003e \\u003c/tr\\u003e \\u003ctr\\u003e \\u003ctd\\u003eSite Management Agency\\u003c/td\\u003e \\u003ctd\\u003eno\\u003c/td\\u003e \\u003c/tr\\u003e \\u003ctr bgcolor=\\&quot;#D4E4F3\\&quot;\\u003e \\u003ctd\\u003eSMA type\\u003c/td\\u003e \\u003ctd\\u003enone\\u003c/td\\u003e \\u003c/tr\\u003e \\u003ctr\\u003e \\u003ctd\\u003eRegistration Activity\\u003c/td\\u003e \\u003ctd\\u003eyes\\u003c/td\\u003e \\u003c/tr\\u003e \\u003ctr bgcolor=\\&quot;#D4E4F3\\&quot;\\u003e \\u003ctd\\u003eWASH Support\\u003c/td\\u003e \\u003ctd\\u003eyes\\u003c/td\\u003e \\u003c/tr\\u003e \\u003ctr\\u003e \\u003ctd\\u003eCCCM Support\\u003c/td\\u003e \\u003ctd\\u003eno\\u003c/td\\u003e \\u003c/tr\\u003e \\u003ctr bgcolor=\\&quot;#D4E4F3\\&quot;\\u003e \\u003ctd\\u003eCCCM_Organization\\u003c/td\\u003e \\u003ctd\\u003eNo CCCM Organization\\u003c/td\\u003e \\u003c/tr\\u003e \\u003ctr\\u003e \\u003ctd\\u003eHEALTH Support\\u003c/td\\u003e \\u003ctd\\u003eyes\\u003c/td\\u003e \\u003c/tr\\u003e \\u003ctr bgcolor=\\&quot;#D4E4F3\\&quot;\\u003e \\u003ctd\\u003eSHELTER Support\\u003c/td\\u003e \\u003ctd\\u003eyes\\u003c/td\\u003e \\u003c/tr\\u003e \\u003ctr\\u003e \\u003ctd\\u003eNFI Support\\u003c/td\\u003e \\u003ctd\\u003eyes\\u003c/td\\u003e \\u003c/tr\\u003e \\u003ctr bgcolor=\\&quot;#D4E4F3\\&quot;\\u003e \\u003ctd\\u003eFOOD Support\\u003c/td\\u003e \\u003ctd\\u003eno\\u003c/td\\u003e \\u003c/tr\\u003e \\u003ctr\\u003e \\u003ctd\\u003ePROTECTION Support\\u003c/td\\u003e \\u003ctd\\u003eno\\u003c/td\\u003e \\u003c/tr\\u003e \\u003ctr bgcolor=\\&quot;#D4E4F3\\&quot;\\u003e \\u003ctd\\u003eEDUCATION Support\\u003c/td\\u003e \\u003ctd\\u003eyes\\u003c/td\\u003e \\u003c/tr\\u003e \\u003ctr\\u003e \\u003ctd\\u003eLIVELIHOOD Support\\u003c/td\\u003e \\u003ctd\\u003eyes\\u003c/td\\u003e \\u003c/tr\\u003e \\u003ctr bgcolor=\\&quot;#D4E4F3\\&quot;\\u003e \\u003ctd\\u003ePSS SUPPORT\\u003c/td\\u003e \\u003ctd\\u003eno\\u003c/td\\u003e \\u003c/tr\\u003e \\u003ctr\\u003e \\u003ctd\\u003ePSS_ORGANIZATION\\u003c/td\\u003e \\u003ctd\\u003eNo PSS ORGANIZATION\\u003c/td\\u003e \\u003c/tr\\u003e \\u003ctr bgcolor=\\&quot;#D4E4F3\\&quot;\\u003e \\u003ctd\\u003eLand Ownership\\u003c/td\\u003e \\u003ctd\\u003ePublic/Government\\u003c/td\\u003e \\u003c/tr\\u003e \\u003ctr\\u003e \\u003ctd\\u003eMost Common Type of Shelter\\u003c/td\\u003e \\u003ctd\\u003eindividual house\\u003c/td\\u003e \\u003c/tr\\u003e \\u003ctr bgcolor=\\&quot;#D4E4F3\\&quot;\\u003e \\u003ctd\\u003eNumber of Households\\u003c/td\\u003e \\u003ctd\\u003e78\\u003c/td\\u003e \\u003c/tr\\u003e \\u003ctr\\u003e \\u003ctd\\u003eNumber of Individuals\\u003c/td\\u003e \\u003ctd\\u003e468\\u003c/td\\u003e \\u003c/tr\\u003e \\u003ctr bgcolor=\\&quot;#D4E4F3\\&quot;\\u003e \\u003ctd\\u003eBoys (\\u0026lt;1)\\u003c/td\\u003e \\u003ctd\\u003e19\\u003c/td\\u003e \\u003c/tr\\u003e \\u003ctr\\u003e \\u003ctd\\u003eGirls (\\u0026lt;1)\\u003c/td\\u003e \\u003ctd\\u003e25\\u003c/td\\u003e \\u003c/tr\\u003e \\u003ctr bgcolor=\\&quot;#D4E4F3\\&quot;\\u003e \\u003ctd\\u003eBoys (1 - 5 y)\\u003c/td\\u003e \\u003ctd\\u003e25\\u003c/td\\u003e \\u003c/tr\\u003e \\u003ctr\\u003e \\u003ctd\\u003eGirls (1 - 5 y)\\u003c/td\\u003e \\u003ctd\\u003e27\\u003c/td\\u003e \\u003c/tr\\u003e \\u003ctr bgcolor=\\&quot;#D4E4F3\\&quot;\\u003e \\u003ctd\\u003eBoys 6to12y\\u003c/td\\u003e \\u003ctd\\u003e28\\u003c/td\\u003e \\u003c/tr\\u003e \\u003ctr\\u003e \\u003ctd\\u003eGirls 6to12y\\u003c/td\\u003e \\u003ctd\\u003e31\\u003c/td\\u003e \\u003c/tr\\u003e \\u003ctr bgcolor=\\&quot;#D4E4F3\\&quot;\\u003e \\u003ctd\\u003eBoys 13to17y\\u003c/td\\u003e \\u003ctd\\u003e23\\u003c/td\\u003e \\u003c/tr\\u003e \\u003ctr\\u003e \\u003ctd\\u003eGirls 13to17y\\u003c/td\\u003e \\u003ctd\\u003e27\\u003c/td\\u003e \\u003c/tr\\u003e \\u003ctr bgcolor=\\&quot;#D4E4F3\\&quot;\\u003e \\u003ctd\\u003eMen (18 - 59 y)\\u003c/td\\u003e \\u003ctd\\u003e104\\u003c/td\\u003e \\u003c/tr\\u003e \\u003ctr\\u003e \\u003ctd\\u003eWomen (18 - 59 y)\\u003c/td\\u003e \\u003ctd\\u003e149\\u003c/td\\u003e \\u003c/tr\\u003e \\u003ctr bgcolor=\\&quot;#D4E4F3\\&quot;\\u003e \\u003ctd\\u003e(Elderly men 60+ y)\\u003c/td\\u003e \\u003ctd\\u003e4\\u003c/td\\u003e \\u003c/tr\\u003e \\u003ctr\\u003e \\u003ctd\\u003e(Elderly women 60+ y)\\u003c/td\\u003e \\u003ctd\\u003e6\\u003c/td\\u003e \\u003c/tr\\u003e \\u003ctr bgcolor=\\&quot;#D4E4F3\\&quot;\\u003e \\u003ctd\\u003eHave IDPs been displaced previously\\u003c/td\\u003e \\u003ctd\\u003eno\\u003c/td\\u003e \\u003c/tr\\u003e \\u003ctr\\u003e \\u003ctd\\u003eReason for displacement of Majority\\u003c/td\\u003e \\u003ctd\\u003einsurgency\\u003c/td\\u003e \\u003c/tr\\u003e \\u003ctr bgcolor=\\&quot;#D4E4F3\\&quot;\\u003e \\u003ctd\\u003eNatural Hazard Risks\\u003c/td\\u003e \\u003ctd\\u003enone\\u003c/td\\u003e \\u003c/tr\\u003e \\u003ctr\\u003e \\u003ctd\\u003eIntended Area of Return\\u003c/td\\u003e \\u003ctd\\u003enone stay here\\u003c/td\\u003e \\u003c/tr\\u003e \\u003ctr bgcolor=\\&quot;#D4E4F3\\&quot;\\u003e \\u003ctd\\u003eReasons to Return Home\\u003c/td\\u003e \\u003ctd\\u003eimproved security\\u003c/td\\u003e \\u003c/tr\\u003e \\u003ctr\\u003e \\u003ctd\\u003eReasons NOT to Return Home\\u003c/td\\u003e \\u003ctd\\u003eI want to go back\\u003c/td\\u003e \\u003c/tr\\u003e \\u003ctr bgcolor=\\&quot;#D4E4F3\\&quot;\\u003e \\u003ctd\\u003e% HH living outside (no shelter)\\u003c/td\\u003e \\u003ctd\\u003enone\\u003c/td\\u003e \\u003c/tr\\u003e \\u003ctr\\u003e \\u003ctd\\u003e% HH living in EmS\\u003c/td\\u003e \\u003ctd\\u003enone\\u003c/td\\u003e \\u003c/tr\\u003e \\u003ctr bgcolor=\\&quot;#D4E4F3\\&quot;\\u003e \\u003ctd\\u003e% HH living in makeshift/self-made shelter\\u003c/td\\u003e \\u003ctd\\u003enone\\u003c/td\\u003e \\u003c/tr\\u003e \\u003ctr\\u003e \\u003ctd\\u003e% HH living indoors (solid walls)\\u003c/td\\u003e \\u003ctd\\u003e\\u0026gt;75%\\u003c/td\\u003e \\u003c/tr\\u003e \\u003ctr bgcolor=\\&quot;#D4E4F3\\&quot;\\u003e \\u003ctd\\u003e% HH have access to electricity\\u003c/td\\u003e \\u003ctd\\u003e25%_50%\\u003c/td\\u003e \\u003c/tr\\u003e \\u003ctr\\u003e \\u003ctd\\u003e% HH have access to safe cooking facilities\\u003c/td\\u003e \\u003ctd\\u003e51%_75%\\u003c/td\\u003e \\u003c/tr\\u003e \\u003ctr bgcolor=\\&quot;#D4E4F3\\&quot;\\u003e \\u003ctd\\u003e% HH have private living area\\u003c/td\\u003e \\u003ctd\\u003e\\u0026lt;25%\\u003c/td\\u003e \\u003c/tr\\u003e \\u003ctr\\u003e \\u003ctd\\u003e% HH have mosquito nets\\u003c/td\\u003e \\u003ctd\\u003e51%_75%\\u003c/td\\u003e \\u003c/tr\\u003e \\u003ctr bgcolor=\\&quot;#D4E4F3\\&quot;\\u003e \\u003ctd\\u003eMost needed NFI\\u003c/td\\u003e \\u003ctd\\u003emattress\\u003c/td\\u003e \\u003c/tr\\u003e \\u003ctr\\u003e \\u003ctd\\u003eMost Unmet Needs\\u003c/td\\u003e \\u003ctd\\u003eFood\\u003c/td\\u003e \\u003c/tr\\u003e \\u003ctr bgcolor=\\&quot;#D4E4F3\\&quot;\\u003e \\u003ctd\\u003eLocation of site main water source\\u003c/td\\u003e \\u003ctd\\u003eon-site (\\u0026lt;10 minutes)\\u003c/td\\u003e \\u003c/tr\\u003e \\u003ctr\\u003e \\u003ctd\\u003eMain drinking water source\\u003c/td\\u003e \\u003ctd\\u003epiped water supply\\u003c/td\\u003e \\u003c/tr\\u003e \\u003ctr bgcolor=\\&quot;#D4E4F3\\&quot;\\u003e \\u003ctd\\u003eAvg amount of water available /day/person\\u003c/td\\u003e \\u003ctd\\u003eunknown\\u003c/td\\u003e \\u003c/tr\\u003e \\u003ctr\\u003e \\u003ctd\\u003eIs drinking water potable\\u003c/td\\u003e \\u003ctd\\u003eyes\\u003c/td\\u003e \\u003c/tr\\u003e \\u003ctr bgcolor=\\&quot;#D4E4F3\\&quot;\\u003e \\u003ctd\\u003eComplaints about drinking water quality\\u003c/td\\u003e \\u003ctd\\u003eno\\u003c/td\\u003e \\u003c/tr\\u003e \\u003ctr\\u003e \\u003ctd\\u003eCondition of most of the toilets\\u003c/td\\u003e \\u003ctd\\u003enot so good (not hygienic)\\u003c/td\\u003e \\u003c/tr\\u003e \\u003ctr bgcolor=\\&quot;#D4E4F3\\&quot;\\u003e \\u003ctd\\u003e# of functioning toilets\\u003c/td\\u003e \\u003ctd\\u003e5\\u003c/td\\u003e \\u003c/tr\\u003e \\u003ctr\\u003e \\u003ctd\\u003eMain garbage disposal\\u003c/td\\u003e \\u003ctd\\u003egarbage pit\\u003c/td\\u003e \\u003c/tr\\u003e \\u003ctr bgcolor=\\&quot;#D4E4F3\\&quot;\\u003e \\u003ctd\\u003eGarbage and solid waste problem\\u003c/td\\u003e \\u003ctd\\u003eno\\u003c/td\\u003e \\u003c/tr\\u003e \\u003ctr\\u003e \\u003ctd\\u003eAvailability of hand-washing station\\u003c/td\\u003e \\u003ctd\\u003enone\\u003c/td\\u003e \\u003c/tr\\u003e \\u003ctr bgcolor=\\&quot;#D4E4F3\\&quot;\\u003e \\u003ctd\\u003eHygiene promotion campaign\\u003c/td\\u003e \\u003ctd\\u003eno\\u003c/td\\u003e \\u003c/tr\\u003e \\u003ctr\\u003e \\u003ctd\\u003eEvidence of open defecation\\u003c/td\\u003e \\u003ctd\\u003eno\\u003c/td\\u003e \\u003c/tr\\u003e \\u003ctr bgcolor=\\&quot;#D4E4F3\\&quot;\\u003e \\u003ctd\\u003eAccess to food\\u003c/td\\u003e \\u003ctd\\u003eno\\u003c/td\\u003e \\u003c/tr\\u003e \\u003ctr\\u003e \\u003ctd\\u003eAccess to market near from the site\\u003c/td\\u003e \\u003ctd\\u003eno\\u003c/td\\u003e \\u003c/tr\\u003e \\u003ctr bgcolor=\\&quot;#D4E4F3\\&quot;\\u003e \\u003ctd\\u003eFrequency of food distribution\\u003c/td\\u003e \\u003ctd\\u003enever\\u003c/td\\u003e \\u003c/tr\\u003e \\u003ctr\\u003e \\u003ctd\\u003eMost common source for obtaining food\\u003c/td\\u003e \\u003ctd\\u003ecash (personal money)\\u003c/td\\u003e \\u003c/tr\\u003e \\u003ctr bgcolor=\\&quot;#D4E4F3\\&quot;\\u003e \\u003ctd\\u003eScreening for malnutrition\\u003c/td\\u003e \\u003ctd\\u003eno\\u003c/td\\u003e \\u003c/tr\\u003e \\u003ctr\\u003e \\u003ctd\\u003eMost health problem\\u003c/td\\u003e \\u003ctd\\u003ecough\\u003c/td\\u003e \\u003c/tr\\u003e \\u003ctr bgcolor=\\&quot;#D4E4F3\\&quot;\\u003e \\u003ctd\\u003eRegular access to medicine\\u003c/td\\u003e \\u003ctd\\u003eno\\u003c/td\\u003e \\u003c/tr\\u003e \\u003ctr\\u003e \\u003ctd\\u003eAccess to health facility\\u003c/td\\u003e \\u003ctd\\u003eno\\u003c/td\\u003e \\u003c/tr\\u003e \\u003ctr bgcolor=\\&quot;#D4E4F3\\&quot;\\u003e \\u003ctd\\u003eLocation of health facilities\\u003c/td\\u003e \\u003ctd\\u003enone health\\u003c/td\\u003e \\u003c/tr\\u003e \\u003ctr\\u003e \\u003ctd\\u003eMain provider of health facilities\\u003c/td\\u003e \\u003ctd\\u003egovernment\\u003c/td\\u003e \\u003c/tr\\u003e \\u003ctr bgcolor=\\&quot;#D4E4F3\\&quot;\\u003e \\u003ctd\\u003eMain Provider of Health Services\\u003c/td\\u003e \\u003ctd\\u003egovernment\\u003c/td\\u003e \\u003c/tr\\u003e \\u003ctr\\u003e \\u003ctd\\u003ePrimary Health Care for Children\\u003c/td\\u003e \\u003ctd\\u003eNo\\u003c/td\\u003e \\u003c/tr\\u003e \\u003ctr bgcolor=\\&quot;#D4E4F3\\&quot;\\u003e \\u003ctd\\u003ePrimary Health Care for Adult\\u003c/td\\u003e \\u003ctd\\u003eNo\\u003c/td\\u003e \\u003c/tr\\u003e \\u003ctr\\u003e \\u003ctd\\u003eSecondary Health Care for Children\\u003c/td\\u003e \\u003ctd\\u003eYes\\u003c/td\\u003e \\u003c/tr\\u003e \\u003ctr bgcolor=\\&quot;#D4E4F3\\&quot;\\u003e \\u003ctd\\u003eSecondary Health Care for Adult\\u003c/td\\u003e \\u003ctd\\u003eYes\\u003c/td\\u003e \\u003c/tr\\u003e \\u003ctr\\u003e \\u003ctd\\u003eTraditional Health Care\\u003c/td\\u003e \\u003ctd\\u003eNo\\u003c/td\\u003e \\u003c/tr\\u003e \\u003ctr bgcolor=\\&quot;#D4E4F3\\&quot;\\u003e \\u003ctd\\u003eAccess to education services\\u003c/td\\u003e \\u003ctd\\u003eyes\\u003c/td\\u003e \\u003c/tr\\u003e \\u003ctr\\u003e \\u003ctd\\u003eLocation of education facilities\\u003c/td\\u003e \\u003ctd\\u003eonsite\\u003c/td\\u003e \\u003c/tr\\u003e \\u003ctr bgcolor=\\&quot;#D4E4F3\\&quot;\\u003e \\u003ctd\\u003e% of children attending school\\u003c/td\\u003e \\u003ctd\\u003e25% -50%\\u003c/td\\u003e \\u003c/tr\\u003e \\u003ctr\\u003e \\u003ctd\\u003eOccupation of majority of IDPs\\u003c/td\\u003e \\u003ctd\\u003efarming\\u003c/td\\u003e \\u003c/tr\\u003e \\u003ctr bgcolor=\\&quot;#D4E4F3\\&quot;\\u003e \\u003ctd\\u003e# of HH with source of income\\u003c/td\\u003e \\u003ctd\\u003e5\\u003c/td\\u003e \\u003c/tr\\u003e \\u003ctr\\u003e \\u003ctd\\u003eAccess to income generating activities\\u003c/td\\u003e \\u003ctd\\u003eyes\\u003c/td\\u003e \\u003c/tr\\u003e \\u003ctr bgcolor=\\&quot;#D4E4F3\\&quot;\\u003e \\u003ctd\\u003eLivestock on site\\u003c/td\\u003e \\u003ctd\\u003eno\\u003c/td\\u003e \\u003c/tr\\u003e \\u003ctr\\u003e \\u003ctd\\u003eIDPs have access to land for cultivation\\u003c/td\\u003e \\u003ctd\\u003eyes\\u003c/td\\u003e \\u003c/tr\\u003e \\u003ctr bgcolor=\\&quot;#D4E4F3\\&quot;\\u003e \\u003ctd\\u003eMost trusted source of Info\\u003c/td\\u003e \\u003ctd\\u003emilitary official\\u003c/td\\u003e \\u003c/tr\\u003e \\u003ctr\\u003e \\u003ctd\\u003eMain topic community is requesting info\\u003c/td\\u003e \\u003ctd\\u003esafety and security\\u003c/td\\u003e \\u003c/tr\\u003e \\u003ctr bgcolor=\\&quot;#D4E4F3\\&quot;\\u003e \\u003ctd\\u003eSerious problem due to lack information\\u003c/td\\u003e \\u003ctd\\u003eyes\\u003c/td\\u003e \\u003c/tr\\u003e \\u003c/table\\u003e \\u003c/td\\u003e \\u003c/tr\\u003e \\u003c/table\\u003e \\u003c/body\\u003e \\u003c/html\\u003e&quot;, &quot;Name&quot;: &quot;BUKAR ABBA HOUSE&quot;}, &quot;type&quot;: &quot;Feature&quot;}, {&quot;bbox&quot;: [11.9805, 11.72993, 11.9805, 11.72993], &quot;geometry&quot;: {&quot;coordinates&quot;: [11.9805, 11.72993, 0.0], &quot;type&quot;: &quot;Point&quot;}, &quot;id&quot;: &quot;288&quot;, &quot;properties&quot;: {&quot;Description&quot;: &quot;\\u003chtml xmlns:fo=\\&quot;http://www.w3.org/1999/XSL/Format\\&quot; xmlns:msxsl=\\&quot;urn:schemas-microsoft-com:xslt\\&quot;\\u003e \\u003chead\\u003e \\u003cMETA http-equiv=\\&quot;Content-Type\\&quot; content=\\&quot;text/html\\&quot;\\u003e \\u003cmeta http-equiv=\\&quot;content-type\\&quot; content=\\&quot;text/html; charset=UTF-8\\&quot;\\u003e \\u003c/head\\u003e \\u003cbody style=\\&quot;margin:0px 0px 0px 0px;overflow:auto;background:#FFFFFF;\\&quot;\\u003e \\u003ctable style=\\&quot;font-family:Arial,Verdana,Times;font-size:12px;text-align:left;width:100%;border-collapse:collapse;padding:3px 3px 3px 3px\\&quot;\\u003e \\u003ctr style=\\&quot;text-align:center;font-weight:bold;background:#9CBCE2\\&quot;\\u003e \\u003ctd\\u003eABARI Y.B.C\\u003c/td\\u003e \\u003c/tr\\u003e \\u003ctr\\u003e \\u003ctd\\u003e \\u003ctable style=\\&quot;font-family:Arial,Verdana,Times;font-size:12px;text-align:left;width:100%;border-spacing:0px; padding:3px 3px 3px 3px\\&quot;\\u003e \\u003ctr\\u003e \\u003ctd\\u003eDTM Round\\u003c/td\\u003e \\u003ctd\\u003eR39\\u003c/td\\u003e \\u003c/tr\\u003e \\u003ctr bgcolor=\\&quot;#D4E4F3\\&quot;\\u003e \\u003ctd\\u003eDate\\u003c/td\\u003e \\u003ctd\\u003e08/10/2021\\u003c/td\\u003e \\u003c/tr\\u003e \\u003ctr\\u003e \\u003ctd\\u003eState\\u003c/td\\u003e \\u003ctd\\u003eYOBE\\u003c/td\\u003e \\u003c/tr\\u003e \\u003ctr bgcolor=\\&quot;#D4E4F3\\&quot;\\u003e \\u003ctd\\u003eState_Pcode\\u003c/td\\u003e \\u003ctd\\u003eNG036\\u003c/td\\u003e \\u003c/tr\\u003e \\u003ctr\\u003e \\u003ctd\\u003eLGA\\u003c/td\\u003e \\u003ctd\\u003eDAMATURU\\u003c/td\\u003e \\u003c/tr\\u003e \\u003ctr bgcolor=\\&quot;#D4E4F3\\&quot;\\u003e \\u003ctd\\u003eWard\\u003c/td\\u003e \\u003ctd\\u003eDAMATURU CENTRAL\\u003c/td\\u003e \\u003c/tr\\u003e \\u003ctr\\u003e \\u003ctd\\u003eSiteID\\u003c/td\\u003e \\u003ctd\\u003eYB_S018\\u003c/td\\u003e \\u003c/tr\\u003e \\u003ctr bgcolor=\\&quot;#D4E4F3\\&quot;\\u003e \\u003ctd\\u003eSite Name\\u003c/td\\u003e \\u003ctd\\u003eABARI Y.B.C\\u003c/td\\u003e \\u003c/tr\\u003e \\u003ctr\\u003e \\u003ctd\\u003eLongitude\\u003c/td\\u003e \\u003ctd\\u003e11.9805\\u003c/td\\u003e \\u003c/tr\\u003e \\u003ctr bgcolor=\\&quot;#D4E4F3\\&quot;\\u003e \\u003ctd\\u003eLatitude\\u003c/td\\u003e \\u003ctd\\u003e11.72993\\u003c/td\\u003e \\u003c/tr\\u003e \\u003ctr\\u003e \\u003ctd\\u003eSite Status\\u003c/td\\u003e \\u003ctd\\u003einformal\\u003c/td\\u003e \\u003c/tr\\u003e \\u003ctr bgcolor=\\&quot;#D4E4F3\\&quot;\\u003e \\u003ctd\\u003eSite Type\\u003c/td\\u003e \\u003ctd\\u003ecamp\\u003c/td\\u003e \\u003c/tr\\u003e \\u003ctr\\u003e \\u003ctd\\u003eSite Classification\\u003c/td\\u003e \\u003ctd\\u003eSpontaneous\\u003c/td\\u003e \\u003c/tr\\u003e \\u003ctr bgcolor=\\&quot;#D4E4F3\\&quot;\\u003e \\u003ctd\\u003eApproximate Site Area\\u003c/td\\u003e \\u003ctd\\u003e26,478 sq.m\\u003c/td\\u003e \\u003c/tr\\u003e \\u003ctr\\u003e \\u003ctd\\u003eSite Management Agency\\u003c/td\\u003e \\u003ctd\\u003eno\\u003c/td\\u003e \\u003c/tr\\u003e \\u003ctr bgcolor=\\&quot;#D4E4F3\\&quot;\\u003e \\u003ctd\\u003eSMA type\\u003c/td\\u003e \\u003ctd\\u003enone\\u003c/td\\u003e \\u003c/tr\\u003e \\u003ctr\\u003e \\u003ctd\\u003eRegistration Activity\\u003c/td\\u003e \\u003ctd\\u003eyes\\u003c/td\\u003e \\u003c/tr\\u003e \\u003ctr bgcolor=\\&quot;#D4E4F3\\&quot;\\u003e \\u003ctd\\u003eWASH Support\\u003c/td\\u003e \\u003ctd\\u003eyes\\u003c/td\\u003e \\u003c/tr\\u003e \\u003ctr\\u003e \\u003ctd\\u003eCCCM Support\\u003c/td\\u003e \\u003ctd\\u003eno\\u003c/td\\u003e \\u003c/tr\\u003e \\u003ctr bgcolor=\\&quot;#D4E4F3\\&quot;\\u003e \\u003ctd\\u003eCCCM_Organization\\u003c/td\\u003e \\u003ctd\\u003eNo CCCM Organization\\u003c/td\\u003e \\u003c/tr\\u003e \\u003ctr\\u003e \\u003ctd\\u003eHEALTH Support\\u003c/td\\u003e \\u003ctd\\u003eno\\u003c/td\\u003e \\u003c/tr\\u003e \\u003ctr bgcolor=\\&quot;#D4E4F3\\&quot;\\u003e \\u003ctd\\u003eSHELTER Support\\u003c/td\\u003e \\u003ctd\\u003eyes\\u003c/td\\u003e \\u003c/tr\\u003e \\u003ctr\\u003e \\u003ctd\\u003eNFI Support\\u003c/td\\u003e \\u003ctd\\u003eyes\\u003c/td\\u003e \\u003c/tr\\u003e \\u003ctr bgcolor=\\&quot;#D4E4F3\\&quot;\\u003e \\u003ctd\\u003eFOOD Support\\u003c/td\\u003e \\u003ctd\\u003eyes\\u003c/td\\u003e \\u003c/tr\\u003e \\u003ctr\\u003e \\u003ctd\\u003ePROTECTION Support\\u003c/td\\u003e \\u003ctd\\u003eno\\u003c/td\\u003e \\u003c/tr\\u003e \\u003ctr bgcolor=\\&quot;#D4E4F3\\&quot;\\u003e \\u003ctd\\u003eEDUCATION Support\\u003c/td\\u003e \\u003ctd\\u003eno\\u003c/td\\u003e \\u003c/tr\\u003e \\u003ctr\\u003e \\u003ctd\\u003eLIVELIHOOD Support\\u003c/td\\u003e \\u003ctd\\u003eyes\\u003c/td\\u003e \\u003c/tr\\u003e \\u003ctr bgcolor=\\&quot;#D4E4F3\\&quot;\\u003e \\u003ctd\\u003ePSS SUPPORT\\u003c/td\\u003e \\u003ctd\\u003eno\\u003c/td\\u003e \\u003c/tr\\u003e \\u003ctr\\u003e \\u003ctd\\u003ePSS_ORGANIZATION\\u003c/td\\u003e \\u003ctd\\u003eNo PSS ORGANIZATION\\u003c/td\\u003e \\u003c/tr\\u003e \\u003ctr bgcolor=\\&quot;#D4E4F3\\&quot;\\u003e \\u003ctd\\u003eLand Ownership\\u003c/td\\u003e \\u003ctd\\u003ePublic/Government\\u003c/td\\u003e \\u003c/tr\\u003e \\u003ctr\\u003e \\u003ctd\\u003eMost Common Type of Shelter\\u003c/td\\u003e \\u003ctd\\u003eemergency shelter\\u003c/td\\u003e \\u003c/tr\\u003e \\u003ctr bgcolor=\\&quot;#D4E4F3\\&quot;\\u003e \\u003ctd\\u003eNumber of Households\\u003c/td\\u003e \\u003ctd\\u003e86\\u003c/td\\u003e \\u003c/tr\\u003e \\u003ctr\\u003e \\u003ctd\\u003eNumber of Individuals\\u003c/td\\u003e \\u003ctd\\u003e516\\u003c/td\\u003e \\u003c/tr\\u003e \\u003ctr bgcolor=\\&quot;#D4E4F3\\&quot;\\u003e \\u003ctd\\u003eBoys (\\u0026lt;1)\\u003c/td\\u003e \\u003ctd\\u003e16\\u003c/td\\u003e \\u003c/tr\\u003e \\u003ctr\\u003e \\u003ctd\\u003eGirls (\\u0026lt;1)\\u003c/td\\u003e \\u003ctd\\u003e20\\u003c/td\\u003e \\u003c/tr\\u003e \\u003ctr bgcolor=\\&quot;#D4E4F3\\&quot;\\u003e \\u003ctd\\u003eBoys (1 - 5 y)\\u003c/td\\u003e \\u003ctd\\u003e21\\u003c/td\\u003e \\u003c/tr\\u003e \\u003ctr\\u003e \\u003ctd\\u003eGirls (1 - 5 y)\\u003c/td\\u003e \\u003ctd\\u003e26\\u003c/td\\u003e \\u003c/tr\\u003e \\u003ctr bgcolor=\\&quot;#D4E4F3\\&quot;\\u003e \\u003ctd\\u003eBoys 6to12y\\u003c/td\\u003e \\u003ctd\\u003e27\\u003c/td\\u003e \\u003c/tr\\u003e \\u003ctr\\u003e \\u003ctd\\u003eGirls 6to12y\\u003c/td\\u003e \\u003ctd\\u003e31\\u003c/td\\u003e \\u003c/tr\\u003e \\u003ctr bgcolor=\\&quot;#D4E4F3\\&quot;\\u003e \\u003ctd\\u003eBoys 13to17y\\u003c/td\\u003e \\u003ctd\\u003e47\\u003c/td\\u003e \\u003c/tr\\u003e \\u003ctr\\u003e \\u003ctd\\u003eGirls 13to17y\\u003c/td\\u003e \\u003ctd\\u003e59\\u003c/td\\u003e \\u003c/tr\\u003e \\u003ctr bgcolor=\\&quot;#D4E4F3\\&quot;\\u003e \\u003ctd\\u003eMen (18 - 59 y)\\u003c/td\\u003e \\u003ctd\\u003e93\\u003c/td\\u003e \\u003c/tr\\u003e \\u003ctr\\u003e \\u003ctd\\u003eWomen (18 - 59 y)\\u003c/td\\u003e \\u003ctd\\u003e151\\u003c/td\\u003e \\u003c/tr\\u003e \\u003ctr bgcolor=\\&quot;#D4E4F3\\&quot;\\u003e \\u003ctd\\u003e(Elderly men 60+ y)\\u003c/td\\u003e \\u003ctd\\u003e11\\u003c/td\\u003e \\u003c/tr\\u003e \\u003ctr\\u003e \\u003ctd\\u003e(Elderly women 60+ y)\\u003c/td\\u003e \\u003ctd\\u003e14\\u003c/td\\u003e \\u003c/tr\\u003e \\u003ctr bgcolor=\\&quot;#D4E4F3\\&quot;\\u003e \\u003ctd\\u003eHave IDPs been displaced previously\\u003c/td\\u003e \\u003ctd\\u003eno\\u003c/td\\u003e \\u003c/tr\\u003e \\u003ctr\\u003e \\u003ctd\\u003eReason for displacement of Majority\\u003c/td\\u003e \\u003ctd\\u003einsurgency\\u003c/td\\u003e \\u003c/tr\\u003e \\u003ctr bgcolor=\\&quot;#D4E4F3\\&quot;\\u003e \\u003ctd\\u003eNatural Hazard Risks\\u003c/td\\u003e \\u003ctd\\u003enone\\u003c/td\\u003e \\u003c/tr\\u003e \\u003ctr\\u003e \\u003ctd\\u003eIntended Area of Return\\u003c/td\\u003e \\u003ctd\\u003enone_stay_here\\u003c/td\\u003e \\u003c/tr\\u003e \\u003ctr bgcolor=\\&quot;#D4E4F3\\&quot;\\u003e \\u003ctd\\u003eReasons to Return Home\\u003c/td\\u003e \\u003ctd\\u003eI don\\u0027t want to go back\\u003c/td\\u003e \\u003c/tr\\u003e \\u003ctr\\u003e \\u003ctd\\u003eReasons NOT to Return Home\\u003c/td\\u003e \\u003ctd\\u003ebetter living condition\\u003c/td\\u003e \\u003c/tr\\u003e \\u003ctr bgcolor=\\&quot;#D4E4F3\\&quot;\\u003e \\u003ctd\\u003e% HH living outside (no shelter)\\u003c/td\\u003e \\u003ctd\\u003enone\\u003c/td\\u003e \\u003c/tr\\u003e \\u003ctr\\u003e \\u003ctd\\u003e% HH living in EmS\\u003c/td\\u003e \\u003ctd\\u003e51%_75%\\u003c/td\\u003e \\u003c/tr\\u003e \\u003ctr bgcolor=\\&quot;#D4E4F3\\&quot;\\u003e \\u003ctd\\u003e% HH living in makeshift/self-made shelter\\u003c/td\\u003e \\u003ctd\\u003e\\u0026lt;25%\\u003c/td\\u003e \\u003c/tr\\u003e \\u003ctr\\u003e \\u003ctd\\u003e% HH living indoors (solid walls)\\u003c/td\\u003e \\u003ctd\\u003e\\u0026lt;25%\\u003c/td\\u003e \\u003c/tr\\u003e \\u003ctr bgcolor=\\&quot;#D4E4F3\\&quot;\\u003e \\u003ctd\\u003e% HH have access to electricity\\u003c/td\\u003e \\u003ctd\\u003enone\\u003c/td\\u003e \\u003c/tr\\u003e \\u003ctr\\u003e \\u003ctd\\u003e% HH have access to safe cooking facilities\\u003c/td\\u003e \\u003ctd\\u003enone\\u003c/td\\u003e \\u003c/tr\\u003e \\u003ctr bgcolor=\\&quot;#D4E4F3\\&quot;\\u003e \\u003ctd\\u003e% HH have private living area\\u003c/td\\u003e \\u003ctd\\u003enone\\u003c/td\\u003e \\u003c/tr\\u003e \\u003ctr\\u003e \\u003ctd\\u003e% HH have mosquito nets\\u003c/td\\u003e \\u003ctd\\u003e25%_50%\\u003c/td\\u003e \\u003c/tr\\u003e \\u003ctr bgcolor=\\&quot;#D4E4F3\\&quot;\\u003e \\u003ctd\\u003eMost needed NFI\\u003c/td\\u003e \\u003ctd\\u003emattress\\u003c/td\\u003e \\u003c/tr\\u003e \\u003ctr\\u003e \\u003ctd\\u003eMost Unmet Needs\\u003c/td\\u003e \\u003ctd\\u003eFood\\u003c/td\\u003e \\u003c/tr\\u003e \\u003ctr bgcolor=\\&quot;#D4E4F3\\&quot;\\u003e \\u003ctd\\u003eLocation of site main water source\\u003c/td\\u003e \\u003ctd\\u003eon-site (\\u0026lt;10 minutes)\\u003c/td\\u003e \\u003c/tr\\u003e \\u003ctr\\u003e \\u003ctd\\u003eMain drinking water source\\u003c/td\\u003e \\u003ctd\\u003epiped water supply\\u003c/td\\u003e \\u003c/tr\\u003e \\u003ctr bgcolor=\\&quot;#D4E4F3\\&quot;\\u003e \\u003ctd\\u003eAvg amount of water available /day/person\\u003c/td\\u003e \\u003ctd\\u003eunknown\\u003c/td\\u003e \\u003c/tr\\u003e \\u003ctr\\u003e \\u003ctd\\u003eIs drinking water potable\\u003c/td\\u003e \\u003ctd\\u003eyes\\u003c/td\\u003e \\u003c/tr\\u003e \\u003ctr bgcolor=\\&quot;#D4E4F3\\&quot;\\u003e \\u003ctd\\u003eComplaints about drinking water quality\\u003c/td\\u003e \\u003ctd\\u003eno\\u003c/td\\u003e \\u003c/tr\\u003e \\u003ctr\\u003e \\u003ctd\\u003eCondition of most of the toilets\\u003c/td\\u003e \\u003ctd\\u003enot so good (not hygienic)\\u003c/td\\u003e \\u003c/tr\\u003e \\u003ctr bgcolor=\\&quot;#D4E4F3\\&quot;\\u003e \\u003ctd\\u003e# of functioning toilets\\u003c/td\\u003e \\u003ctd\\u003e25\\u003c/td\\u003e \\u003c/tr\\u003e \\u003ctr\\u003e \\u003ctd\\u003eMain garbage disposal\\u003c/td\\u003e \\u003ctd\\u003egarbage pit\\u003c/td\\u003e \\u003c/tr\\u003e \\u003ctr bgcolor=\\&quot;#D4E4F3\\&quot;\\u003e \\u003ctd\\u003eGarbage and solid waste problem\\u003c/td\\u003e \\u003ctd\\u003eno\\u003c/td\\u003e \\u003c/tr\\u003e \\u003ctr\\u003e \\u003ctd\\u003eAvailability of hand-washing station\\u003c/td\\u003e \\u003ctd\\u003enone\\u003c/td\\u003e \\u003c/tr\\u003e \\u003ctr bgcolor=\\&quot;#D4E4F3\\&quot;\\u003e \\u003ctd\\u003eHygiene promotion campaign\\u003c/td\\u003e \\u003ctd\\u003eno\\u003c/td\\u003e \\u003c/tr\\u003e \\u003ctr\\u003e \\u003ctd\\u003eEvidence of open defecation\\u003c/td\\u003e \\u003ctd\\u003eno\\u003c/td\\u003e \\u003c/tr\\u003e \\u003ctr bgcolor=\\&quot;#D4E4F3\\&quot;\\u003e \\u003ctd\\u003eAccess to food\\u003c/td\\u003e \\u003ctd\\u003eyes onsite\\u003c/td\\u003e \\u003c/tr\\u003e \\u003ctr\\u003e \\u003ctd\\u003eAccess to market near from the site\\u003c/td\\u003e \\u003ctd\\u003eyes\\u003c/td\\u003e \\u003c/tr\\u003e \\u003ctr bgcolor=\\&quot;#D4E4F3\\&quot;\\u003e \\u003ctd\\u003eFrequency of food distribution\\u003c/td\\u003e \\u003ctd\\u003eonce_a_month\\u003c/td\\u003e \\u003c/tr\\u003e \\u003ctr\\u003e \\u003ctd\\u003eMost common source for obtaining food\\u003c/td\\u003e \\u003ctd\\u003ehost community donation\\u003c/td\\u003e \\u003c/tr\\u003e \\u003ctr bgcolor=\\&quot;#D4E4F3\\&quot;\\u003e \\u003ctd\\u003eScreening for malnutrition\\u003c/td\\u003e \\u003ctd\\u003eno\\u003c/td\\u003e \\u003c/tr\\u003e \\u003ctr\\u003e \\u003ctd\\u003eMost health problem\\u003c/td\\u003e \\u003ctd\\u003efever\\u003c/td\\u003e \\u003c/tr\\u003e \\u003ctr bgcolor=\\&quot;#D4E4F3\\&quot;\\u003e \\u003ctd\\u003eRegular access to medicine\\u003c/td\\u003e \\u003ctd\\u003eno\\u003c/td\\u003e \\u003c/tr\\u003e \\u003ctr\\u003e \\u003ctd\\u003eAccess to health facility\\u003c/td\\u003e \\u003ctd\\u003eno\\u003c/td\\u003e \\u003c/tr\\u003e \\u003ctr bgcolor=\\&quot;#D4E4F3\\&quot;\\u003e \\u003ctd\\u003eLocation of health facilities\\u003c/td\\u003e \\u003ctd\\u003eoff-site (\\u0026lt; 3 km)\\u003c/td\\u003e \\u003c/tr\\u003e \\u003ctr\\u003e \\u003ctd\\u003eMain provider of health facilities\\u003c/td\\u003e \\u003ctd\\u003egovernment\\u003c/td\\u003e \\u003c/tr\\u003e \\u003ctr bgcolor=\\&quot;#D4E4F3\\&quot;\\u003e \\u003ctd\\u003eMain Provider of Health Services\\u003c/td\\u003e \\u003ctd\\u003egovernment\\u003c/td\\u003e \\u003c/tr\\u003e \\u003ctr\\u003e \\u003ctd\\u003ePrimary Health Care for Children\\u003c/td\\u003e \\u003ctd\\u003eNo\\u003c/td\\u003e \\u003c/tr\\u003e \\u003ctr bgcolor=\\&quot;#D4E4F3\\&quot;\\u003e \\u003ctd\\u003ePrimary Health Care for Adult\\u003c/td\\u003e \\u003ctd\\u003eYes\\u003c/td\\u003e \\u003c/tr\\u003e \\u003ctr\\u003e \\u003ctd\\u003eSecondary Health Care for Children\\u003c/td\\u003e \\u003ctd\\u003eNo\\u003c/td\\u003e \\u003c/tr\\u003e \\u003ctr bgcolor=\\&quot;#D4E4F3\\&quot;\\u003e \\u003ctd\\u003eSecondary Health Care for Adult\\u003c/td\\u003e \\u003ctd\\u003eNo\\u003c/td\\u003e \\u003c/tr\\u003e \\u003ctr\\u003e \\u003ctd\\u003eTraditional Health Care\\u003c/td\\u003e \\u003ctd\\u003eNo\\u003c/td\\u003e \\u003c/tr\\u003e \\u003ctr bgcolor=\\&quot;#D4E4F3\\&quot;\\u003e \\u003ctd\\u003eAccess to education services\\u003c/td\\u003e \\u003ctd\\u003eyes\\u003c/td\\u003e \\u003c/tr\\u003e \\u003ctr\\u003e \\u003ctd\\u003eLocation of education facilities\\u003c/td\\u003e \\u003ctd\\u003eonsite\\u003c/td\\u003e \\u003c/tr\\u003e \\u003ctr bgcolor=\\&quot;#D4E4F3\\&quot;\\u003e \\u003ctd\\u003e% of children attending school\\u003c/td\\u003e \\u003ctd\\u003e\\u0026lt;25%\\u003c/td\\u003e \\u003c/tr\\u003e \\u003ctr\\u003e \\u003ctd\\u003eOccupation of majority of IDPs\\u003c/td\\u003e \\u003ctd\\u003efarming\\u003c/td\\u003e \\u003c/tr\\u003e \\u003ctr bgcolor=\\&quot;#D4E4F3\\&quot;\\u003e \\u003ctd\\u003e# of HH with source of income\\u003c/td\\u003e \\u003ctd\\u003e25\\u003c/td\\u003e \\u003c/tr\\u003e \\u003ctr\\u003e \\u003ctd\\u003eAccess to income generating activities\\u003c/td\\u003e \\u003ctd\\u003eyes\\u003c/td\\u003e \\u003c/tr\\u003e \\u003ctr bgcolor=\\&quot;#D4E4F3\\&quot;\\u003e \\u003ctd\\u003eLivestock on site\\u003c/td\\u003e \\u003ctd\\u003eyes\\u003c/td\\u003e \\u003c/tr\\u003e \\u003ctr\\u003e \\u003ctd\\u003eIDPs have access to land for cultivation\\u003c/td\\u003e \\u003ctd\\u003eyes\\u003c/td\\u003e \\u003c/tr\\u003e \\u003ctr bgcolor=\\&quot;#D4E4F3\\&quot;\\u003e \\u003ctd\\u003eMost trusted source of Info\\u003c/td\\u003e \\u003ctd\\u003egovernment official\\u003c/td\\u003e \\u003c/tr\\u003e \\u003ctr\\u003e \\u003ctd\\u003eMain topic community is requesting info\\u003c/td\\u003e \\u003ctd\\u003esafety and security\\u003c/td\\u003e \\u003c/tr\\u003e \\u003ctr bgcolor=\\&quot;#D4E4F3\\&quot;\\u003e \\u003ctd\\u003eSerious problem due to lack information\\u003c/td\\u003e \\u003ctd\\u003eyes\\u003c/td\\u003e \\u003c/tr\\u003e \\u003c/table\\u003e \\u003c/td\\u003e \\u003c/tr\\u003e \\u003c/table\\u003e \\u003c/body\\u003e \\u003c/html\\u003e&quot;, &quot;Name&quot;: &quot;ABARI Y.B.C&quot;}, &quot;type&quot;: &quot;Feature&quot;}, {&quot;bbox&quot;: [12.01215, 11.73905, 12.01215, 11.73905], &quot;geometry&quot;: {&quot;coordinates&quot;: [12.01215, 11.73905, 0.0], &quot;type&quot;: &quot;Point&quot;}, &quot;id&quot;: &quot;292&quot;, &quot;properties&quot;: {&quot;Description&quot;: &quot;\\u003chtml xmlns:fo=\\&quot;http://www.w3.org/1999/XSL/Format\\&quot; xmlns:msxsl=\\&quot;urn:schemas-microsoft-com:xslt\\&quot;\\u003e \\u003chead\\u003e \\u003cMETA http-equiv=\\&quot;Content-Type\\&quot; content=\\&quot;text/html\\&quot;\\u003e \\u003cmeta http-equiv=\\&quot;content-type\\&quot; content=\\&quot;text/html; charset=UTF-8\\&quot;\\u003e \\u003c/head\\u003e \\u003cbody style=\\&quot;margin:0px 0px 0px 0px;overflow:auto;background:#FFFFFF;\\&quot;\\u003e \\u003ctable style=\\&quot;font-family:Arial,Verdana,Times;font-size:12px;text-align:left;width:100%;border-collapse:collapse;padding:3px 3px 3px 3px\\&quot;\\u003e \\u003ctr style=\\&quot;text-align:center;font-weight:bold;background:#9CBCE2\\&quot;\\u003e \\u003ctd\\u003eHURI VILLAGE CAMP\\u003c/td\\u003e \\u003c/tr\\u003e \\u003ctr\\u003e \\u003ctd\\u003e \\u003ctable style=\\&quot;font-family:Arial,Verdana,Times;font-size:12px;text-align:left;width:100%;border-spacing:0px; padding:3px 3px 3px 3px\\&quot;\\u003e \\u003ctr\\u003e \\u003ctd\\u003eDTM Round\\u003c/td\\u003e \\u003ctd\\u003eR39\\u003c/td\\u003e \\u003c/tr\\u003e \\u003ctr bgcolor=\\&quot;#D4E4F3\\&quot;\\u003e \\u003ctd\\u003eDate\\u003c/td\\u003e \\u003ctd\\u003e07/10/2021\\u003c/td\\u003e \\u003c/tr\\u003e \\u003ctr\\u003e \\u003ctd\\u003eState\\u003c/td\\u003e \\u003ctd\\u003eYOBE\\u003c/td\\u003e \\u003c/tr\\u003e \\u003ctr bgcolor=\\&quot;#D4E4F3\\&quot;\\u003e \\u003ctd\\u003eState_Pcode\\u003c/td\\u003e \\u003ctd\\u003eNG036\\u003c/td\\u003e \\u003c/tr\\u003e \\u003ctr\\u003e \\u003ctd\\u003eLGA\\u003c/td\\u003e \\u003ctd\\u003eDAMATURU\\u003c/td\\u003e \\u003c/tr\\u003e \\u003ctr bgcolor=\\&quot;#D4E4F3\\&quot;\\u003e \\u003ctd\\u003eWard\\u003c/td\\u003e \\u003ctd\\u003eMAISANDARI/WAZIRI IBRAHIM ESTATE\\u003c/td\\u003e \\u003c/tr\\u003e \\u003ctr\\u003e \\u003ctd\\u003eSiteID\\u003c/td\\u003e \\u003ctd\\u003eYB_S006\\u003c/td\\u003e \\u003c/tr\\u003e \\u003ctr bgcolor=\\&quot;#D4E4F3\\&quot;\\u003e \\u003ctd\\u003eSite Name\\u003c/td\\u003e \\u003ctd\\u003eHURI VILLAGE CAMP\\u003c/td\\u003e \\u003c/tr\\u003e \\u003ctr\\u003e \\u003ctd\\u003eLongitude\\u003c/td\\u003e \\u003ctd\\u003e12.01215\\u003c/td\\u003e \\u003c/tr\\u003e \\u003ctr bgcolor=\\&quot;#D4E4F3\\&quot;\\u003e \\u003ctd\\u003eLatitude\\u003c/td\\u003e \\u003ctd\\u003e11.73905\\u003c/td\\u003e \\u003c/tr\\u003e \\u003ctr\\u003e \\u003ctd\\u003eSite Status\\u003c/td\\u003e \\u003ctd\\u003einformal\\u003c/td\\u003e \\u003c/tr\\u003e \\u003ctr bgcolor=\\&quot;#D4E4F3\\&quot;\\u003e \\u003ctd\\u003eSite Type\\u003c/td\\u003e \\u003ctd\\u003ecamp\\u003c/td\\u003e \\u003c/tr\\u003e \\u003ctr\\u003e \\u003ctd\\u003eSite Classification\\u003c/td\\u003e \\u003ctd\\u003eSpontaneous\\u003c/td\\u003e \\u003c/tr\\u003e \\u003ctr bgcolor=\\&quot;#D4E4F3\\&quot;\\u003e \\u003ctd\\u003eApproximate Site Area\\u003c/td\\u003e \\u003ctd\\u003e49,841 sq.m\\u003c/td\\u003e \\u003c/tr\\u003e \\u003ctr\\u003e \\u003ctd\\u003eSite Management Agency\\u003c/td\\u003e \\u003ctd\\u003eno\\u003c/td\\u003e \\u003c/tr\\u003e \\u003ctr bgcolor=\\&quot;#D4E4F3\\&quot;\\u003e \\u003ctd\\u003eSMA type\\u003c/td\\u003e \\u003ctd\\u003enone\\u003c/td\\u003e \\u003c/tr\\u003e \\u003ctr\\u003e \\u003ctd\\u003eRegistration Activity\\u003c/td\\u003e \\u003ctd\\u003eno\\u003c/td\\u003e \\u003c/tr\\u003e \\u003ctr bgcolor=\\&quot;#D4E4F3\\&quot;\\u003e \\u003ctd\\u003eWASH Support\\u003c/td\\u003e \\u003ctd\\u003eno\\u003c/td\\u003e \\u003c/tr\\u003e \\u003ctr\\u003e \\u003ctd\\u003eCCCM Support\\u003c/td\\u003e \\u003ctd\\u003eno\\u003c/td\\u003e \\u003c/tr\\u003e \\u003ctr bgcolor=\\&quot;#D4E4F3\\&quot;\\u003e \\u003ctd\\u003eCCCM_Organization\\u003c/td\\u003e \\u003ctd\\u003eNo CCCM Organization\\u003c/td\\u003e \\u003c/tr\\u003e \\u003ctr\\u003e \\u003ctd\\u003eHEALTH Support\\u003c/td\\u003e \\u003ctd\\u003eno\\u003c/td\\u003e \\u003c/tr\\u003e \\u003ctr bgcolor=\\&quot;#D4E4F3\\&quot;\\u003e \\u003ctd\\u003eSHELTER Support\\u003c/td\\u003e \\u003ctd\\u003eyes\\u003c/td\\u003e \\u003c/tr\\u003e \\u003ctr\\u003e \\u003ctd\\u003eNFI Support\\u003c/td\\u003e \\u003ctd\\u003eno\\u003c/td\\u003e \\u003c/tr\\u003e \\u003ctr bgcolor=\\&quot;#D4E4F3\\&quot;\\u003e \\u003ctd\\u003eFOOD Support\\u003c/td\\u003e \\u003ctd\\u003eyes\\u003c/td\\u003e \\u003c/tr\\u003e \\u003ctr\\u003e \\u003ctd\\u003ePROTECTION Support\\u003c/td\\u003e \\u003ctd\\u003eno\\u003c/td\\u003e \\u003c/tr\\u003e \\u003ctr bgcolor=\\&quot;#D4E4F3\\&quot;\\u003e \\u003ctd\\u003eEDUCATION Support\\u003c/td\\u003e \\u003ctd\\u003eyes\\u003c/td\\u003e \\u003c/tr\\u003e \\u003ctr\\u003e \\u003ctd\\u003eLIVELIHOOD Support\\u003c/td\\u003e \\u003ctd\\u003eno\\u003c/td\\u003e \\u003c/tr\\u003e \\u003ctr bgcolor=\\&quot;#D4E4F3\\&quot;\\u003e \\u003ctd\\u003ePSS SUPPORT\\u003c/td\\u003e \\u003ctd\\u003eno\\u003c/td\\u003e \\u003c/tr\\u003e \\u003ctr\\u003e \\u003ctd\\u003ePSS_ORGANIZATION\\u003c/td\\u003e \\u003ctd\\u003eNo PSS ORGANIZATION\\u003c/td\\u003e \\u003c/tr\\u003e \\u003ctr bgcolor=\\&quot;#D4E4F3\\&quot;\\u003e \\u003ctd\\u003eLand Ownership\\u003c/td\\u003e \\u003ctd\\u003ePublic/Government\\u003c/td\\u003e \\u003c/tr\\u003e \\u003ctr\\u003e \\u003ctd\\u003eMost Common Type of Shelter\\u003c/td\\u003e \\u003ctd\\u003eemergency shelter\\u003c/td\\u003e \\u003c/tr\\u003e \\u003ctr bgcolor=\\&quot;#D4E4F3\\&quot;\\u003e \\u003ctd\\u003eNumber of Households\\u003c/td\\u003e \\u003ctd\\u003e131\\u003c/td\\u003e \\u003c/tr\\u003e \\u003ctr\\u003e \\u003ctd\\u003eNumber of Individuals\\u003c/td\\u003e \\u003ctd\\u003e786\\u003c/td\\u003e \\u003c/tr\\u003e \\u003ctr bgcolor=\\&quot;#D4E4F3\\&quot;\\u003e \\u003ctd\\u003eBoys (\\u0026lt;1)\\u003c/td\\u003e \\u003ctd\\u003e22\\u003c/td\\u003e \\u003c/tr\\u003e \\u003ctr\\u003e \\u003ctd\\u003eGirls (\\u0026lt;1)\\u003c/td\\u003e \\u003ctd\\u003e28\\u003c/td\\u003e \\u003c/tr\\u003e \\u003ctr bgcolor=\\&quot;#D4E4F3\\&quot;\\u003e \\u003ctd\\u003eBoys (1 - 5 y)\\u003c/td\\u003e \\u003ctd\\u003e43\\u003c/td\\u003e \\u003c/tr\\u003e \\u003ctr\\u003e \\u003ctd\\u003eGirls (1 - 5 y)\\u003c/td\\u003e \\u003ctd\\u003e51\\u003c/td\\u003e \\u003c/tr\\u003e \\u003ctr bgcolor=\\&quot;#D4E4F3\\&quot;\\u003e \\u003ctd\\u003eBoys 6to12y\\u003c/td\\u003e \\u003ctd\\u003e58\\u003c/td\\u003e \\u003c/tr\\u003e \\u003ctr\\u003e \\u003ctd\\u003eGirls 6to12y\\u003c/td\\u003e \\u003ctd\\u003e63\\u003c/td\\u003e \\u003c/tr\\u003e \\u003ctr bgcolor=\\&quot;#D4E4F3\\&quot;\\u003e \\u003ctd\\u003eBoys 13to17y\\u003c/td\\u003e \\u003ctd\\u003e61\\u003c/td\\u003e \\u003c/tr\\u003e \\u003ctr\\u003e \\u003ctd\\u003eGirls 13to17y\\u003c/td\\u003e \\u003ctd\\u003e69\\u003c/td\\u003e \\u003c/tr\\u003e \\u003ctr bgcolor=\\&quot;#D4E4F3\\&quot;\\u003e \\u003ctd\\u003eMen (18 - 59 y)\\u003c/td\\u003e \\u003ctd\\u003e143\\u003c/td\\u003e \\u003c/tr\\u003e \\u003ctr\\u003e \\u003ctd\\u003eWomen (18 - 59 y)\\u003c/td\\u003e \\u003ctd\\u003e231\\u003c/td\\u003e \\u003c/tr\\u003e \\u003ctr bgcolor=\\&quot;#D4E4F3\\&quot;\\u003e \\u003ctd\\u003e(Elderly men 60+ y)\\u003c/td\\u003e \\u003ctd\\u003e8\\u003c/td\\u003e \\u003c/tr\\u003e \\u003ctr\\u003e \\u003ctd\\u003e(Elderly women 60+ y)\\u003c/td\\u003e \\u003ctd\\u003e9\\u003c/td\\u003e \\u003c/tr\\u003e \\u003ctr bgcolor=\\&quot;#D4E4F3\\&quot;\\u003e \\u003ctd\\u003eHave IDPs been displaced previously\\u003c/td\\u003e \\u003ctd\\u003eno\\u003c/td\\u003e \\u003c/tr\\u003e \\u003ctr\\u003e \\u003ctd\\u003eReason for displacement of Majority\\u003c/td\\u003e \\u003ctd\\u003einsurgency\\u003c/td\\u003e \\u003c/tr\\u003e \\u003ctr bgcolor=\\&quot;#D4E4F3\\&quot;\\u003e \\u003ctd\\u003eNatural Hazard Risks\\u003c/td\\u003e \\u003ctd\\u003enone\\u003c/td\\u003e \\u003c/tr\\u003e \\u003ctr\\u003e \\u003ctd\\u003eIntended Area of Return\\u003c/td\\u003e \\u003ctd\\u003enone_stay_here\\u003c/td\\u003e \\u003c/tr\\u003e \\u003ctr bgcolor=\\&quot;#D4E4F3\\&quot;\\u003e \\u003ctd\\u003eReasons to Return Home\\u003c/td\\u003e \\u003ctd\\u003eI don\\u0027t want to go back\\u003c/td\\u003e \\u003c/tr\\u003e \\u003ctr\\u003e \\u003ctd\\u003eReasons NOT to Return Home\\u003c/td\\u003e \\u003ctd\\u003ebetter living condition\\u003c/td\\u003e \\u003c/tr\\u003e \\u003ctr bgcolor=\\&quot;#D4E4F3\\&quot;\\u003e \\u003ctd\\u003e% HH living outside (no shelter)\\u003c/td\\u003e \\u003ctd\\u003enone\\u003c/td\\u003e \\u003c/tr\\u003e \\u003ctr\\u003e \\u003ctd\\u003e% HH living in EmS\\u003c/td\\u003e \\u003ctd\\u003e25%_50%\\u003c/td\\u003e \\u003c/tr\\u003e \\u003ctr bgcolor=\\&quot;#D4E4F3\\&quot;\\u003e \\u003ctd\\u003e% HH living in makeshift/self-made shelter\\u003c/td\\u003e \\u003ctd\\u003e\\u0026lt;25%\\u003c/td\\u003e \\u003c/tr\\u003e \\u003ctr\\u003e \\u003ctd\\u003e% HH living indoors (solid walls)\\u003c/td\\u003e \\u003ctd\\u003e\\u0026lt;25%\\u003c/td\\u003e \\u003c/tr\\u003e \\u003ctr bgcolor=\\&quot;#D4E4F3\\&quot;\\u003e \\u003ctd\\u003e% HH have access to electricity\\u003c/td\\u003e \\u003ctd\\u003enone\\u003c/td\\u003e \\u003c/tr\\u003e \\u003ctr\\u003e \\u003ctd\\u003e% HH have access to safe cooking facilities\\u003c/td\\u003e \\u003ctd\\u003e25%_50%\\u003c/td\\u003e \\u003c/tr\\u003e \\u003ctr bgcolor=\\&quot;#D4E4F3\\&quot;\\u003e \\u003ctd\\u003e% HH have private living area\\u003c/td\\u003e \\u003ctd\\u003enone\\u003c/td\\u003e \\u003c/tr\\u003e \\u003ctr\\u003e \\u003ctd\\u003e% HH have mosquito nets\\u003c/td\\u003e \\u003ctd\\u003e51%_75%\\u003c/td\\u003e \\u003c/tr\\u003e \\u003ctr bgcolor=\\&quot;#D4E4F3\\&quot;\\u003e \\u003ctd\\u003eMost needed NFI\\u003c/td\\u003e \\u003ctd\\u003esoap\\u003c/td\\u003e \\u003c/tr\\u003e \\u003ctr\\u003e \\u003ctd\\u003eMost Unmet Needs\\u003c/td\\u003e \\u003ctd\\u003eFood\\u003c/td\\u003e \\u003c/tr\\u003e \\u003ctr bgcolor=\\&quot;#D4E4F3\\&quot;\\u003e \\u003ctd\\u003eLocation of site main water source\\u003c/td\\u003e \\u003ctd\\u003eon-site (\\u0026lt;10 minutes)\\u003c/td\\u003e \\u003c/tr\\u003e \\u003ctr\\u003e \\u003ctd\\u003eMain drinking water source\\u003c/td\\u003e \\u003ctd\\u003epiped water supply\\u003c/td\\u003e \\u003c/tr\\u003e \\u003ctr bgcolor=\\&quot;#D4E4F3\\&quot;\\u003e \\u003ctd\\u003eAvg amount of water available /day/person\\u003c/td\\u003e \\u003ctd\\u003eunknown\\u003c/td\\u003e \\u003c/tr\\u003e \\u003ctr\\u003e \\u003ctd\\u003eIs drinking water potable\\u003c/td\\u003e \\u003ctd\\u003eyes\\u003c/td\\u003e \\u003c/tr\\u003e \\u003ctr bgcolor=\\&quot;#D4E4F3\\&quot;\\u003e \\u003ctd\\u003eComplaints about drinking water quality\\u003c/td\\u003e \\u003ctd\\u003eno\\u003c/td\\u003e \\u003c/tr\\u003e \\u003ctr\\u003e \\u003ctd\\u003eCondition of most of the toilets\\u003c/td\\u003e \\u003ctd\\u003enot so good (not hygienic)\\u003c/td\\u003e \\u003c/tr\\u003e \\u003ctr bgcolor=\\&quot;#D4E4F3\\&quot;\\u003e \\u003ctd\\u003e# of functioning toilets\\u003c/td\\u003e \\u003ctd\\u003e15\\u003c/td\\u003e \\u003c/tr\\u003e \\u003ctr\\u003e \\u003ctd\\u003eMain garbage disposal\\u003c/td\\u003e \\u003ctd\\u003egarbage pit\\u003c/td\\u003e \\u003c/tr\\u003e \\u003ctr bgcolor=\\&quot;#D4E4F3\\&quot;\\u003e \\u003ctd\\u003eGarbage and solid waste problem\\u003c/td\\u003e \\u003ctd\\u003eno\\u003c/td\\u003e \\u003c/tr\\u003e \\u003ctr\\u003e \\u003ctd\\u003eAvailability of hand-washing station\\u003c/td\\u003e \\u003ctd\\u003enone\\u003c/td\\u003e \\u003c/tr\\u003e \\u003ctr bgcolor=\\&quot;#D4E4F3\\&quot;\\u003e \\u003ctd\\u003eHygiene promotion campaign\\u003c/td\\u003e \\u003ctd\\u003eyes\\u003c/td\\u003e \\u003c/tr\\u003e \\u003ctr\\u003e \\u003ctd\\u003eEvidence of open defecation\\u003c/td\\u003e \\u003ctd\\u003eno\\u003c/td\\u003e \\u003c/tr\\u003e \\u003ctr bgcolor=\\&quot;#D4E4F3\\&quot;\\u003e \\u003ctd\\u003eAccess to food\\u003c/td\\u003e \\u003ctd\\u003eyes onsite\\u003c/td\\u003e \\u003c/tr\\u003e \\u003ctr\\u003e \\u003ctd\\u003eAccess to market near from the site\\u003c/td\\u003e \\u003ctd\\u003eno\\u003c/td\\u003e \\u003c/tr\\u003e \\u003ctr bgcolor=\\&quot;#D4E4F3\\&quot;\\u003e \\u003ctd\\u003eFrequency of food distribution\\u003c/td\\u003e \\u003ctd\\u003eonce_a_month\\u003c/td\\u003e \\u003c/tr\\u003e \\u003ctr\\u003e \\u003ctd\\u003eMost common source for obtaining food\\u003c/td\\u003e \\u003ctd\\u003ecultivated\\u003c/td\\u003e \\u003c/tr\\u003e \\u003ctr bgcolor=\\&quot;#D4E4F3\\&quot;\\u003e \\u003ctd\\u003eScreening for malnutrition\\u003c/td\\u003e \\u003ctd\\u003eyes\\u003c/td\\u003e \\u003c/tr\\u003e \\u003ctr\\u003e \\u003ctd\\u003eMost health problem\\u003c/td\\u003e \\u003ctd\\u003efever\\u003c/td\\u003e \\u003c/tr\\u003e \\u003ctr bgcolor=\\&quot;#D4E4F3\\&quot;\\u003e \\u003ctd\\u003eRegular access to medicine\\u003c/td\\u003e \\u003ctd\\u003eyes\\u003c/td\\u003e \\u003c/tr\\u003e \\u003ctr\\u003e \\u003ctd\\u003eAccess to health facility\\u003c/td\\u003e \\u003ctd\\u003eno\\u003c/td\\u003e \\u003c/tr\\u003e \\u003ctr bgcolor=\\&quot;#D4E4F3\\&quot;\\u003e \\u003ctd\\u003eLocation of health facilities\\u003c/td\\u003e \\u003ctd\\u003enone health\\u003c/td\\u003e \\u003c/tr\\u003e \\u003ctr\\u003e \\u003ctd\\u003eMain provider of health facilities\\u003c/td\\u003e \\u003ctd\\u003egovernment\\u003c/td\\u003e \\u003c/tr\\u003e \\u003ctr bgcolor=\\&quot;#D4E4F3\\&quot;\\u003e \\u003ctd\\u003eMain Provider of Health Services\\u003c/td\\u003e \\u003ctd\\u003egovernment\\u003c/td\\u003e \\u003c/tr\\u003e \\u003ctr\\u003e \\u003ctd\\u003ePrimary Health Care for Children\\u003c/td\\u003e \\u003ctd\\u003eNo\\u003c/td\\u003e \\u003c/tr\\u003e \\u003ctr bgcolor=\\&quot;#D4E4F3\\&quot;\\u003e \\u003ctd\\u003ePrimary Health Care for Adult\\u003c/td\\u003e \\u003ctd\\u003eYes\\u003c/td\\u003e \\u003c/tr\\u003e \\u003ctr\\u003e \\u003ctd\\u003eSecondary Health Care for Children\\u003c/td\\u003e \\u003ctd\\u003eNo\\u003c/td\\u003e \\u003c/tr\\u003e \\u003ctr bgcolor=\\&quot;#D4E4F3\\&quot;\\u003e \\u003ctd\\u003eSecondary Health Care for Adult\\u003c/td\\u003e \\u003ctd\\u003eNo\\u003c/td\\u003e \\u003c/tr\\u003e \\u003ctr\\u003e \\u003ctd\\u003eTraditional Health Care\\u003c/td\\u003e \\u003ctd\\u003eNo\\u003c/td\\u003e \\u003c/tr\\u003e \\u003ctr bgcolor=\\&quot;#D4E4F3\\&quot;\\u003e \\u003ctd\\u003eAccess to education services\\u003c/td\\u003e \\u003ctd\\u003eyes\\u003c/td\\u003e \\u003c/tr\\u003e \\u003ctr\\u003e \\u003ctd\\u003eLocation of education facilities\\u003c/td\\u003e \\u003ctd\\u003eonsite\\u003c/td\\u003e \\u003c/tr\\u003e \\u003ctr bgcolor=\\&quot;#D4E4F3\\&quot;\\u003e \\u003ctd\\u003e% of children attending school\\u003c/td\\u003e \\u003ctd\\u003e\\u0026lt;25%\\u003c/td\\u003e \\u003c/tr\\u003e \\u003ctr\\u003e \\u003ctd\\u003eOccupation of majority of IDPs\\u003c/td\\u003e \\u003ctd\\u003epastoralism\\u003c/td\\u003e \\u003c/tr\\u003e \\u003ctr bgcolor=\\&quot;#D4E4F3\\&quot;\\u003e \\u003ctd\\u003e# of HH with source of income\\u003c/td\\u003e \\u003ctd\\u003e0\\u003c/td\\u003e \\u003c/tr\\u003e \\u003ctr\\u003e \\u003ctd\\u003eAccess to income generating activities\\u003c/td\\u003e \\u003ctd\\u003eno\\u003c/td\\u003e \\u003c/tr\\u003e \\u003ctr bgcolor=\\&quot;#D4E4F3\\&quot;\\u003e \\u003ctd\\u003eLivestock on site\\u003c/td\\u003e \\u003ctd\\u003eno\\u003c/td\\u003e \\u003c/tr\\u003e \\u003ctr\\u003e \\u003ctd\\u003eIDPs have access to land for cultivation\\u003c/td\\u003e \\u003ctd\\u003eyes\\u003c/td\\u003e \\u003c/tr\\u003e \\u003ctr bgcolor=\\&quot;#D4E4F3\\&quot;\\u003e \\u003ctd\\u003eMost trusted source of Info\\u003c/td\\u003e \\u003ctd\\u003egovernment official\\u003c/td\\u003e \\u003c/tr\\u003e \\u003ctr\\u003e \\u003ctd\\u003eMain topic community is requesting info\\u003c/td\\u003e \\u003ctd\\u003esafety and security\\u003c/td\\u003e \\u003c/tr\\u003e \\u003ctr bgcolor=\\&quot;#D4E4F3\\&quot;\\u003e \\u003ctd\\u003eSerious problem due to lack information\\u003c/td\\u003e \\u003ctd\\u003eyes\\u003c/td\\u003e \\u003c/tr\\u003e \\u003c/table\\u003e \\u003c/td\\u003e \\u003c/tr\\u003e \\u003c/table\\u003e \\u003c/body\\u003e \\u003c/html\\u003e&quot;, &quot;Name&quot;: &quot;HURI VILLAGE CAMP&quot;}, &quot;type&quot;: &quot;Feature&quot;}], &quot;type&quot;: &quot;FeatureCollection&quot;});\n",
       "\n",
       "        \n",
       "    \n",
       "    geo_json_624f89a89802bda1998a2d9addee5371.bindTooltip(\n",
       "    function(layer){\n",
       "    let div = L.DomUtil.create(&#x27;div&#x27;);\n",
       "    \n",
       "    let handleObject = feature=&gt;typeof(feature)==&#x27;object&#x27; ? JSON.stringify(feature) : feature;\n",
       "    let fields = [&quot;Name&quot;, &quot;Description&quot;];\n",
       "    let aliases = [&quot;Name&quot;, &quot;Description&quot;];\n",
       "    let table = &#x27;&lt;table&gt;&#x27; +\n",
       "        String(\n",
       "        fields.map(\n",
       "        (v,i)=&gt;\n",
       "        `&lt;tr&gt;\n",
       "            &lt;th&gt;${aliases[i]}&lt;/th&gt;\n",
       "            \n",
       "            &lt;td&gt;${handleObject(layer.feature.properties[v])}&lt;/td&gt;\n",
       "        &lt;/tr&gt;`).join(&#x27;&#x27;))\n",
       "    +&#x27;&lt;/table&gt;&#x27;;\n",
       "    div.innerHTML=table;\n",
       "    \n",
       "    return div\n",
       "    }\n",
       "    ,{&quot;className&quot;: &quot;foliumtooltip&quot;, &quot;sticky&quot;: true});\n",
       "                     \n",
       "    \n",
       "            geo_json_624f89a89802bda1998a2d9addee5371.addTo(map_84f82c77d1287fee6a3234759357c9c8);\n",
       "        \n",
       "&lt;/script&gt;\n",
       "&lt;/html&gt;\" style=\"position:absolute;width:100%;height:100%;left:0;top:0;border:none !important;\" allowfullscreen webkitallowfullscreen mozallowfullscreen></iframe></div></div>"
      ],
      "text/plain": [
       "<folium.folium.Map at 0x1778d17f0>"
      ]
     },
     "execution_count": 6,
     "metadata": {},
     "output_type": "execute_result"
    }
   ],
   "source": [
    "# map and explore damaturu_idp\n",
    "damaturu_idp.explore()"
   ]
  },
  {
   "cell_type": "code",
   "execution_count": 7,
   "metadata": {},
   "outputs": [
    {
     "name": "stdout",
     "output_type": "stream",
     "text": [
      "                  Name                                        Description  \\\n",
      "293   MOH'D GOMBE FARM  <html xmlns:fo=\"http://www.w3.org/1999/XSL/For...   \n",
      "289   BUKAR ABBA HOUSE  <html xmlns:fo=\"http://www.w3.org/1999/XSL/For...   \n",
      "288        ABARI Y.B.C  <html xmlns:fo=\"http://www.w3.org/1999/XSL/For...   \n",
      "292  HURI VILLAGE CAMP  <html xmlns:fo=\"http://www.w3.org/1999/XSL/For...   \n",
      "\n",
      "                                geometry  \n",
      "293  POINT Z (12.03584 11.72675 0.00000)  \n",
      "289  POINT Z (11.98183 11.72985 0.00000)  \n",
      "288  POINT Z (11.98050 11.72993 0.00000)  \n",
      "292  POINT Z (12.01215 11.73905 0.00000)  \n",
      "Index(['Name', 'Description', 'geometry'], dtype='object')\n",
      "                                           Description\n",
      "293  <html xmlns:fo=\"http://www.w3.org/1999/XSL/For...\n",
      "289  <html xmlns:fo=\"http://www.w3.org/1999/XSL/For...\n",
      "288  <html xmlns:fo=\"http://www.w3.org/1999/XSL/For...\n",
      "292  <html xmlns:fo=\"http://www.w3.org/1999/XSL/For...\n"
     ]
    }
   ],
   "source": [
    "# gain insight into damaturu_idp\n",
    "print(damaturu_idp.head())\n",
    "print(damaturu_idp.columns)\n",
    "print(damaturu_idp[['Description']])\n"
   ]
  },
  {
   "cell_type": "code",
   "execution_count": 20,
   "metadata": {},
   "outputs": [],
   "source": [
    "# damaturu_idp shapefile to dataframe for easy data analysis\n",
    "damaturu_idp_df = transform_idp_description(damaturu_idp)"
   ]
  },
  {
   "cell_type": "code",
   "execution_count": null,
   "metadata": {},
   "outputs": [],
   "source": [
    "# save damaturu_idp_df to csv\n",
    "damaturu_idp_df.to_csv(\"data/interim/damaturu_idp_df.csv\", index=False)"
   ]
  },
  {
   "cell_type": "code",
   "execution_count": 15,
   "metadata": {},
   "outputs": [],
   "source": [
    "# damaturu_idp shapefile to clean geojson with all attributes as columns for easy mapping\n",
    "damaturu_idp_clean = transform_idp_complete(damaturu_idp)\n",
    "\n"
   ]
  },
  {
   "cell_type": "code",
   "execution_count": 16,
   "metadata": {},
   "outputs": [
    {
     "name": "stdout",
     "output_type": "stream",
     "text": [
      "Columns in transformed data:\n",
      "Index(['name', 'dtm_round', 'date', 'state', 'state_pcode', 'lga', 'ward',\n",
      "       'siteid', 'site_name', 'longitude',\n",
      "       ...\n",
      "       'percent_of_children_attending_school',\n",
      "       'occupation_of_majority_of_idps', '#_of_hh_with_source_of_income',\n",
      "       'access_to_income_generating_activities', 'livestock_on_site',\n",
      "       'idps_have_access_to_land_for_cultivation',\n",
      "       'most_trusted_source_of_info',\n",
      "       'main_topic_community_is_requesting_info',\n",
      "       'serious_problem_due_to_lack_information', 'geometry'],\n",
      "      dtype='object', length=102)\n",
      "\n",
      "First site data:\n",
      "name                                                     MOH'D GOMBE FARM\n",
      "dtm_round                                                             R39\n",
      "date                                                           06/10/2021\n",
      "state                                                                YOBE\n",
      "state_pcode                                                         NG036\n",
      "                                                        ...              \n",
      "idps_have_access_to_land_for_cultivation                             True\n",
      "most_trusted_source_of_info                           government official\n",
      "main_topic_community_is_requesting_info               safety and security\n",
      "serious_problem_due_to_lack_information                              True\n",
      "geometry                                    POINT Z (12.03584 11.72675 0)\n",
      "Name: 0, Length: 102, dtype: object\n"
     ]
    }
   ],
   "source": [
    "# gain insight into damaturu_idp_clean and look at what columns we have\n",
    "print(\"Columns in transformed data:\")\n",
    "print(damaturu_idp_clean.columns)\n",
    "\n",
    "# gain insight into damaturu_idp_clean and look at first row\n",
    "print(\"\\nFirst site data:\")\n",
    "print(damaturu_idp_clean.iloc[0])"
   ]
  },
  {
   "cell_type": "markdown",
   "metadata": {},
   "source": [
    "###### 3.2 Check Shapefile Data CRS"
   ]
  },
  {
   "cell_type": "code",
   "execution_count": 14,
   "metadata": {},
   "outputs": [],
   "source": [
    "# save damaturu_idp_clean to geojson for mapping\n",
    "damaturu_idp_clean.to_file('data/processed/damaturu_idp_clean.geojson', driver='GeoJSON')"
   ]
  }
 ],
 "metadata": {
  "kernelspec": {
   "display_name": "base",
   "language": "python",
   "name": "python3"
  },
  "language_info": {
   "codemirror_mode": {
    "name": "ipython",
    "version": 3
   },
   "file_extension": ".py",
   "mimetype": "text/x-python",
   "name": "python",
   "nbconvert_exporter": "python",
   "pygments_lexer": "ipython3",
   "version": "3.12.2"
  }
 },
 "nbformat": 4,
 "nbformat_minor": 2
}
