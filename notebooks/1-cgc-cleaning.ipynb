{
 "cells": [
  {
   "cell_type": "markdown",
   "metadata": {},
   "source": [
    "# Damatura, Nigeria IDP Analysis\n",
    "##### January 2025"
   ]
  },
  {
   "cell_type": "code",
   "execution_count": 1,
   "metadata": {},
   "outputs": [
    {
     "name": "stdout",
     "output_type": "stream",
     "text": [
      "directory changes\n",
      "current working directory is: /Users/carolinecullinan/dev/wb/damaturu-nigeria-idp\n"
     ]
    }
   ],
   "source": [
    "# standard library imports\n",
    "import os\n",
    "import sys\n",
    "\n",
    "# add project root to Python path\n",
    "project_root = os.path.abspath(os.path.join(os.getcwd(), '..'))\n",
    "if project_root not in sys.path:\n",
    "    sys.path.append(project_root)\n",
    "\n",
    "# third-party imports\n",
    "import rasterio\n",
    "import geopandas as gpd\n",
    "import numpy as np\n",
    "import pandas as pd\n",
    "\n",
    "# change to project root directory\n",
    "os.chdir('../')\n",
    "print(\"directory changes\")\n",
    "print(f\"current working directory is:\", os.getcwd())\n",
    "\n",
    "# local imports (after changing directory)\n",
    "from src.population import (\n",
    "    clip_raster_with_shapefile,\n",
    "    raster_to_points,\n",
    "    raster_to_polygons,\n",
    "    pd_calc_raster_to_polygons\n",
    ")\n",
    "\n",
    "from src.idp import kmz_to_shapefile, transform_idp_description, transform_idp_complete"
   ]
  },
  {
   "cell_type": "markdown",
   "metadata": {},
   "source": [
    "# 1.0 Population Density (Personal Analysis)"
   ]
  },
  {
   "cell_type": "markdown",
   "metadata": {},
   "source": [
    "## 1.1 Population Density Data (1 km resolution)"
   ]
  },
  {
   "cell_type": "code",
   "execution_count": 2,
   "metadata": {},
   "outputs": [
    {
     "name": "stdout",
     "output_type": "stream",
     "text": [
      "coordinate system: EPSG:4326\n"
     ]
    }
   ],
   "source": [
    "# check coordinate system of population density data for Nigeria, nga_pd__2020_1km_UNadj.tif\n",
    "with rasterio.open(\"data/raw/nga_pd_2020_1km_UNadj.tif\") as src:\n",
    "    print(f\"coordinate system: {src.crs}\")"
   ]
  },
  {
   "cell_type": "code",
   "execution_count": 3,
   "metadata": {},
   "outputs": [
    {
     "name": "stdout",
     "output_type": "stream",
     "text": [
      "coordinate system: EPSG:4326\n"
     ]
    }
   ],
   "source": [
    "# check coordinate system of aoi, damaturu.shp\n",
    "aoi = gpd.read_file(\"data/raw/AOI/damaturu.shp\")\n",
    "print(f\"coordinate system: {aoi.crs}\")"
   ]
  },
  {
   "cell_type": "markdown",
   "metadata": {},
   "source": [
    "### 1.1.1 Raster to Points Conversion"
   ]
  },
  {
   "cell_type": "code",
   "execution_count": 2,
   "metadata": {},
   "outputs": [],
   "source": [
    "# apply \"clip_raster_with_shapefile\" function to get population density (raster) \n",
    "## of Damaturu, Nigeria specifically (shapefile) and save interim \"damaturu_pd\" (raster) tif format\n",
    "clip_raster_with_shapefile(\n",
    "    \"data/raw/nga_pd_2020_1km_UNadj.tif\",\n",
    "    \"data/raw/AOI/damaturu.shp\",\n",
    "    \"data/interim/damaturu_pd.tif\"\n",
    ")"
   ]
  },
  {
   "cell_type": "code",
   "execution_count": 3,
   "metadata": {},
   "outputs": [
    {
     "name": "stdout",
     "output_type": "stream",
     "text": [
      "raster dimensions: 17 x 13\n",
      "total pixels: 221\n"
     ]
    }
   ],
   "source": [
    "# gain insight into raster dimensions to best choose a sample rate for raster to point conversion\n",
    "## (i.e., determine how many points to sample from the raster, \n",
    "## where sample_rate = 1 means that every pixel from the raster is converted to a point)\n",
    "with rasterio.open(\"data/interim/damaturu_pd.tif\") as src:\n",
    "    print(f\"raster dimensions: {src.width} x {src.height}\")\n",
    "    print(f\"total pixels: {src.width * src.height}\")\n",
    "    \n",
    "# note: raster dimensions and total pixels are small, therefore use sample_rate = 1"
   ]
  },
  {
   "cell_type": "code",
   "execution_count": 8,
   "metadata": {},
   "outputs": [
    {
     "name": "stdout",
     "output_type": "stream",
     "text": [
      "suggested sample rate: 0\n"
     ]
    }
   ],
   "source": [
    "with rasterio.open(\"data/interim/damaturu_pd.tif\") as src:\n",
    "    total_pixels = src.width * src.height\n",
    "    target_points = 20000  # adjust based on your needs (web viz, aim for 10,000-50,000 points)\n",
    "    suggested_sample_rate = int(total_pixels / target_points)\n",
    "    print(f\"suggested sample rate: {suggested_sample_rate}\")"
   ]
  },
  {
   "cell_type": "code",
   "execution_count": 4,
   "metadata": {},
   "outputs": [
    {
     "name": "stdout",
     "output_type": "stream",
     "text": [
      "input raster dimensions: 17 x 13\n",
      "total pixels: 221\n",
      "\n",
      "Created 221 points\n",
      "Value range: -99999.00 to 3183.82\n"
     ]
    },
    {
     "data": {
      "text/html": [
       "<div>\n",
       "<style scoped>\n",
       "    .dataframe tbody tr th:only-of-type {\n",
       "        vertical-align: middle;\n",
       "    }\n",
       "\n",
       "    .dataframe tbody tr th {\n",
       "        vertical-align: top;\n",
       "    }\n",
       "\n",
       "    .dataframe thead th {\n",
       "        text-align: right;\n",
       "    }\n",
       "</style>\n",
       "<table border=\"1\" class=\"dataframe\">\n",
       "  <thead>\n",
       "    <tr style=\"text-align: right;\">\n",
       "      <th></th>\n",
       "      <th>population_density</th>\n",
       "      <th>geometry</th>\n",
       "    </tr>\n",
       "  </thead>\n",
       "  <tbody>\n",
       "    <tr>\n",
       "      <th>0</th>\n",
       "      <td>-99999.0</td>\n",
       "      <td>POINT (11.91125 11.79542)</td>\n",
       "    </tr>\n",
       "    <tr>\n",
       "      <th>1</th>\n",
       "      <td>-99999.0</td>\n",
       "      <td>POINT (11.91958 11.79542)</td>\n",
       "    </tr>\n",
       "    <tr>\n",
       "      <th>2</th>\n",
       "      <td>-99999.0</td>\n",
       "      <td>POINT (11.92792 11.79542)</td>\n",
       "    </tr>\n",
       "    <tr>\n",
       "      <th>3</th>\n",
       "      <td>-99999.0</td>\n",
       "      <td>POINT (11.93625 11.79542)</td>\n",
       "    </tr>\n",
       "    <tr>\n",
       "      <th>4</th>\n",
       "      <td>-99999.0</td>\n",
       "      <td>POINT (11.94458 11.79542)</td>\n",
       "    </tr>\n",
       "    <tr>\n",
       "      <th>...</th>\n",
       "      <td>...</td>\n",
       "      <td>...</td>\n",
       "    </tr>\n",
       "    <tr>\n",
       "      <th>216</th>\n",
       "      <td>-99999.0</td>\n",
       "      <td>POINT (12.01125 11.69542)</td>\n",
       "    </tr>\n",
       "    <tr>\n",
       "      <th>217</th>\n",
       "      <td>-99999.0</td>\n",
       "      <td>POINT (12.01958 11.69542)</td>\n",
       "    </tr>\n",
       "    <tr>\n",
       "      <th>218</th>\n",
       "      <td>-99999.0</td>\n",
       "      <td>POINT (12.02792 11.69542)</td>\n",
       "    </tr>\n",
       "    <tr>\n",
       "      <th>219</th>\n",
       "      <td>-99999.0</td>\n",
       "      <td>POINT (12.03625 11.69542)</td>\n",
       "    </tr>\n",
       "    <tr>\n",
       "      <th>220</th>\n",
       "      <td>-99999.0</td>\n",
       "      <td>POINT (12.04458 11.69542)</td>\n",
       "    </tr>\n",
       "  </tbody>\n",
       "</table>\n",
       "<p>221 rows × 2 columns</p>\n",
       "</div>"
      ],
      "text/plain": [
       "     population_density                   geometry\n",
       "0              -99999.0  POINT (11.91125 11.79542)\n",
       "1              -99999.0  POINT (11.91958 11.79542)\n",
       "2              -99999.0  POINT (11.92792 11.79542)\n",
       "3              -99999.0  POINT (11.93625 11.79542)\n",
       "4              -99999.0  POINT (11.94458 11.79542)\n",
       "..                  ...                        ...\n",
       "216            -99999.0  POINT (12.01125 11.69542)\n",
       "217            -99999.0  POINT (12.01958 11.69542)\n",
       "218            -99999.0  POINT (12.02792 11.69542)\n",
       "219            -99999.0  POINT (12.03625 11.69542)\n",
       "220            -99999.0  POINT (12.04458 11.69542)\n",
       "\n",
       "[221 rows x 2 columns]"
      ]
     },
     "execution_count": 4,
     "metadata": {},
     "output_type": "execute_result"
    }
   ],
   "source": [
    "# convert interim (raster) \"damaturu_pd\" to processed \"damaturu_pd_points\" points for export and viz\n",
    "raster_to_points(\n",
    "    \"data/interim/damaturu_pd.tif\",\n",
    "    'data/processed/damaturu_pd_points.geojson',\n",
    "    sample_rate=1\n",
    ")"
   ]
  },
  {
   "cell_type": "markdown",
   "metadata": {},
   "source": [
    "### 1.1.2 Raster to Polygon Conversion"
   ]
  },
  {
   "cell_type": "code",
   "execution_count": 4,
   "metadata": {},
   "outputs": [
    {
     "name": "stdout",
     "output_type": "stream",
     "text": [
      "\n",
      "Created 95 polygons\n",
      "Value range: 89.82 to 3183.82\n"
     ]
    },
    {
     "data": {
      "text/html": [
       "<div>\n",
       "<style scoped>\n",
       "    .dataframe tbody tr th:only-of-type {\n",
       "        vertical-align: middle;\n",
       "    }\n",
       "\n",
       "    .dataframe tbody tr th {\n",
       "        vertical-align: top;\n",
       "    }\n",
       "\n",
       "    .dataframe thead th {\n",
       "        text-align: right;\n",
       "    }\n",
       "</style>\n",
       "<table border=\"1\" class=\"dataframe\">\n",
       "  <thead>\n",
       "    <tr style=\"text-align: right;\">\n",
       "      <th></th>\n",
       "      <th>geometry</th>\n",
       "      <th>population_density</th>\n",
       "    </tr>\n",
       "  </thead>\n",
       "  <tbody>\n",
       "    <tr>\n",
       "      <th>0</th>\n",
       "      <td>POLYGON ((11.97375 11.79125, 11.97375 11.78292...</td>\n",
       "      <td>132.874374</td>\n",
       "    </tr>\n",
       "    <tr>\n",
       "      <th>1</th>\n",
       "      <td>POLYGON ((11.98208 11.79125, 11.98208 11.78292...</td>\n",
       "      <td>118.977905</td>\n",
       "    </tr>\n",
       "    <tr>\n",
       "      <th>2</th>\n",
       "      <td>POLYGON ((11.96542 11.78292, 11.96542 11.77458...</td>\n",
       "      <td>249.598358</td>\n",
       "    </tr>\n",
       "    <tr>\n",
       "      <th>3</th>\n",
       "      <td>POLYGON ((11.97375 11.78292, 11.97375 11.77458...</td>\n",
       "      <td>171.849319</td>\n",
       "    </tr>\n",
       "    <tr>\n",
       "      <th>4</th>\n",
       "      <td>POLYGON ((11.98208 11.78292, 11.98208 11.77458...</td>\n",
       "      <td>165.467773</td>\n",
       "    </tr>\n",
       "    <tr>\n",
       "      <th>...</th>\n",
       "      <td>...</td>\n",
       "      <td>...</td>\n",
       "    </tr>\n",
       "    <tr>\n",
       "      <th>91</th>\n",
       "      <td>POLYGON ((11.92375 11.70792, 11.92375 11.69958...</td>\n",
       "      <td>91.995384</td>\n",
       "    </tr>\n",
       "    <tr>\n",
       "      <th>92</th>\n",
       "      <td>POLYGON ((11.93208 11.70792, 11.93208 11.69958...</td>\n",
       "      <td>142.913956</td>\n",
       "    </tr>\n",
       "    <tr>\n",
       "      <th>93</th>\n",
       "      <td>POLYGON ((11.94042 11.70792, 11.94042 11.69958...</td>\n",
       "      <td>224.143234</td>\n",
       "    </tr>\n",
       "    <tr>\n",
       "      <th>94</th>\n",
       "      <td>POLYGON ((11.94875 11.70792, 11.94875 11.69958...</td>\n",
       "      <td>401.490784</td>\n",
       "    </tr>\n",
       "    <tr>\n",
       "      <th>95</th>\n",
       "      <td>POLYGON ((11.95708 11.70792, 11.95708 11.69958...</td>\n",
       "      <td>387.256866</td>\n",
       "    </tr>\n",
       "  </tbody>\n",
       "</table>\n",
       "<p>95 rows × 2 columns</p>\n",
       "</div>"
      ],
      "text/plain": [
       "                                             geometry  population_density\n",
       "0   POLYGON ((11.97375 11.79125, 11.97375 11.78292...          132.874374\n",
       "1   POLYGON ((11.98208 11.79125, 11.98208 11.78292...          118.977905\n",
       "2   POLYGON ((11.96542 11.78292, 11.96542 11.77458...          249.598358\n",
       "3   POLYGON ((11.97375 11.78292, 11.97375 11.77458...          171.849319\n",
       "4   POLYGON ((11.98208 11.78292, 11.98208 11.77458...          165.467773\n",
       "..                                                ...                 ...\n",
       "91  POLYGON ((11.92375 11.70792, 11.92375 11.69958...           91.995384\n",
       "92  POLYGON ((11.93208 11.70792, 11.93208 11.69958...          142.913956\n",
       "93  POLYGON ((11.94042 11.70792, 11.94042 11.69958...          224.143234\n",
       "94  POLYGON ((11.94875 11.70792, 11.94875 11.69958...          401.490784\n",
       "95  POLYGON ((11.95708 11.70792, 11.95708 11.69958...          387.256866\n",
       "\n",
       "[95 rows x 2 columns]"
      ]
     },
     "execution_count": 4,
     "metadata": {},
     "output_type": "execute_result"
    }
   ],
   "source": [
    "# convert Damaturu specific population density raster to polygon GeoJSON for export and viz\n",
    "raster_to_polygons(\n",
    "    \"data/raw/nga_pd_2020_1km_UNadj.tif\",\n",
    "    \"data/raw/AOI/damaturu.shp\",\n",
    "    \"data/processed/damaturu_poly.geojson\"\n",
    ")"
   ]
  },
  {
   "cell_type": "markdown",
   "metadata": {},
   "source": [
    "## 1.2 Population Data (100 m resolution)"
   ]
  },
  {
   "cell_type": "code",
   "execution_count": 2,
   "metadata": {},
   "outputs": [
    {
     "name": "stdout",
     "output_type": "stream",
     "text": [
      "Values in clipped area before processing:\n",
      "Unprocessed min in area: -99999.0\n",
      "Unprocessed max in area: 1016.6382446289062\n",
      "Density raster min: 0.4713766276836395\n",
      "Density raster max: 99999.0\n",
      "\n",
      "Created 9896 polygons\n",
      "Value range: 0.47 to 99999.00\n"
     ]
    },
    {
     "data": {
      "text/html": [
       "<div>\n",
       "<style scoped>\n",
       "    .dataframe tbody tr th:only-of-type {\n",
       "        vertical-align: middle;\n",
       "    }\n",
       "\n",
       "    .dataframe tbody tr th {\n",
       "        vertical-align: top;\n",
       "    }\n",
       "\n",
       "    .dataframe thead th {\n",
       "        text-align: right;\n",
       "    }\n",
       "</style>\n",
       "<table border=\"1\" class=\"dataframe\">\n",
       "  <thead>\n",
       "    <tr style=\"text-align: right;\">\n",
       "      <th></th>\n",
       "      <th>geometry</th>\n",
       "      <th>population_density</th>\n",
       "    </tr>\n",
       "  </thead>\n",
       "  <tbody>\n",
       "    <tr>\n",
       "      <th>0</th>\n",
       "      <td>POLYGON ((11.98625 11.79292, 11.98625 11.79208...</td>\n",
       "      <td>0.763216</td>\n",
       "    </tr>\n",
       "    <tr>\n",
       "      <th>1</th>\n",
       "      <td>POLYGON ((11.98708 11.79292, 11.98708 11.79208...</td>\n",
       "      <td>0.755720</td>\n",
       "    </tr>\n",
       "    <tr>\n",
       "      <th>2</th>\n",
       "      <td>POLYGON ((11.98792 11.79292, 11.98792 11.79208...</td>\n",
       "      <td>0.744945</td>\n",
       "    </tr>\n",
       "    <tr>\n",
       "      <th>3</th>\n",
       "      <td>POLYGON ((11.98875 11.79292, 11.98875 11.79208...</td>\n",
       "      <td>0.741613</td>\n",
       "    </tr>\n",
       "    <tr>\n",
       "      <th>4</th>\n",
       "      <td>POLYGON ((11.98958 11.79292, 11.98958 11.79208...</td>\n",
       "      <td>0.722886</td>\n",
       "    </tr>\n",
       "    <tr>\n",
       "      <th>...</th>\n",
       "      <td>...</td>\n",
       "      <td>...</td>\n",
       "    </tr>\n",
       "    <tr>\n",
       "      <th>9891</th>\n",
       "      <td>POLYGON ((11.94625 11.69958, 11.94625 11.69875...</td>\n",
       "      <td>1.546591</td>\n",
       "    </tr>\n",
       "    <tr>\n",
       "      <th>9892</th>\n",
       "      <td>POLYGON ((11.94708 11.69958, 11.94708 11.69875...</td>\n",
       "      <td>1.541078</td>\n",
       "    </tr>\n",
       "    <tr>\n",
       "      <th>9893</th>\n",
       "      <td>POLYGON ((11.94792 11.69958, 11.94792 11.69875...</td>\n",
       "      <td>1.591542</td>\n",
       "    </tr>\n",
       "    <tr>\n",
       "      <th>9894</th>\n",
       "      <td>POLYGON ((11.94875 11.69958, 11.94875 11.69875...</td>\n",
       "      <td>1.583845</td>\n",
       "    </tr>\n",
       "    <tr>\n",
       "      <th>9895</th>\n",
       "      <td>POLYGON ((12.00375 11.72958, 12.00625 11.72958...</td>\n",
       "      <td>99999.000000</td>\n",
       "    </tr>\n",
       "  </tbody>\n",
       "</table>\n",
       "<p>9896 rows × 2 columns</p>\n",
       "</div>"
      ],
      "text/plain": [
       "                                               geometry  population_density\n",
       "0     POLYGON ((11.98625 11.79292, 11.98625 11.79208...            0.763216\n",
       "1     POLYGON ((11.98708 11.79292, 11.98708 11.79208...            0.755720\n",
       "2     POLYGON ((11.98792 11.79292, 11.98792 11.79208...            0.744945\n",
       "3     POLYGON ((11.98875 11.79292, 11.98875 11.79208...            0.741613\n",
       "4     POLYGON ((11.98958 11.79292, 11.98958 11.79208...            0.722886\n",
       "...                                                 ...                 ...\n",
       "9891  POLYGON ((11.94625 11.69958, 11.94625 11.69875...            1.546591\n",
       "9892  POLYGON ((11.94708 11.69958, 11.94708 11.69875...            1.541078\n",
       "9893  POLYGON ((11.94792 11.69958, 11.94792 11.69875...            1.591542\n",
       "9894  POLYGON ((11.94875 11.69958, 11.94875 11.69875...            1.583845\n",
       "9895  POLYGON ((12.00375 11.72958, 12.00625 11.72958...        99999.000000\n",
       "\n",
       "[9896 rows x 2 columns]"
      ]
     },
     "execution_count": 2,
     "metadata": {},
     "output_type": "execute_result"
    }
   ],
   "source": [
    "# calculate population density for Damaturu, Nigeria at 100 m resolution\n",
    "pd_calc_raster_to_polygons(\n",
    "    \"data/raw/nga_ppp_2020_UNadj.tif\",  # 100m population raster\n",
    "    \"data/raw/AOI/damaturu.shp\",     #  AOI shapefile\n",
    "    \"data/processed/damaturu_100m_poly.geojson\"  # output path\n",
    ")"
   ]
  },
  {
   "cell_type": "code",
   "execution_count": 3,
   "metadata": {},
   "outputs": [
    {
     "name": "stdout",
     "output_type": "stream",
     "text": [
      "Original raster min: -99999.0\n",
      "Original raster max: 1016.6382446289062\n"
     ]
    }
   ],
   "source": [
    "with rasterio.open(\"data/raw/nga_ppp_2020_UNadj.tif\") as src:\n",
    "    data = src.read(1)  # read first band\n",
    "    print(f\"Original raster min: {data.min()}\")\n",
    "    print(f\"Original raster max: {data.max()}\")"
   ]
  },
  {
   "cell_type": "code",
   "execution_count": 4,
   "metadata": {},
   "outputs": [
    {
     "name": "stdout",
     "output_type": "stream",
     "text": [
      "Min population: 0.4713766276836395\n",
      "Max population: 32.23027801513672\n"
     ]
    }
   ],
   "source": [
    "damaturu_pd100m_poly = gpd.read_file(\"data/processed/damaturu_pd100m_poly.geojson\")\n",
    "print(f\"Min population: {damaturu_pd100m_poly['population_density'].min()}\")\n",
    "print(f\"Max population: {damaturu_pd100m_poly['population_density'].max()}\")"
   ]
  },
  {
   "cell_type": "markdown",
   "metadata": {},
   "source": [
    "# 2.0 Population Density (GCP Analysis)"
   ]
  },
  {
   "cell_type": "code",
   "execution_count": 8,
   "metadata": {},
   "outputs": [
    {
     "name": "stdout",
     "output_type": "stream",
     "text": [
      "coordinate system: EPSG:4326\n"
     ]
    }
   ],
   "source": [
    "# save Damaturu population density GCP tif as variable\n",
    "damaturu_pd_gcp = rasterio.open(\"data/interim/2024-12-nigeria-damaturu_02-process-output_spatial_damaturu_population.tif\")\n",
    "\n",
    "# check coordinate system of damaturu_pd_gcp\n",
    "print(f\"coordinate system: {damaturu_pd_gcp.crs}\")"
   ]
  },
  {
   "cell_type": "code",
   "execution_count": 10,
   "metadata": {},
   "outputs": [
    {
     "name": "stdout",
     "output_type": "stream",
     "text": [
      "\n",
      "Created 4799 polygons\n",
      "Value range: 3.46 to 71.60\n"
     ]
    }
   ],
   "source": [
    "# convert damaturu_pd_gcp from tif to GeoJSON for export and viz\n",
    "damaturu_pd_gcp_geojson = raster_to_polygons(\n",
    "    \"data/interim/2024-12-nigeria-damaturu_02-process-output_spatial_damaturu_population.tif\",\n",
    "    \"data/raw/AOI/damaturu.shp\",\n",
    "    \"data/processed/damaturu_pd_gcp.geojson\"\n",
    ")"
   ]
  },
  {
   "cell_type": "markdown",
   "metadata": {},
   "source": [
    "# 3.0 IDP (Location, Location by Site Type, and Change in IDP Locations by Site Types (i.e, \"IDP Growth\"))"
   ]
  },
  {
   "cell_type": "markdown",
   "metadata": {},
   "source": [
    "## 3.1 KMZ to Shapefile Conversion"
   ]
  },
  {
   "cell_type": "code",
   "execution_count": 4,
   "metadata": {},
   "outputs": [
    {
     "name": "stderr",
     "output_type": "stream",
     "text": [
      "/Users/carolinecullinan/dev/wb/damaturu-nigeria-idp/src/idp.py:31: UserWarning: Column names longer than 10 characters will be truncated when saved to ESRI Shapefile.\n",
      "  gdf.to_file(output_shp)\n"
     ]
    }
   ],
   "source": [
    "# convert IDP location KMZ to shapefile\n",
    "idp_shapefile = kmz_to_shapefile(\n",
    "    \"data/raw/Round_39_North_East_IDP_Camp_Sites_KMZ.kmz\",\n",
    "    \"data/interim/idp_shapefile.shp\"\n",
    ")"
   ]
  },
  {
   "cell_type": "markdown",
   "metadata": {},
   "source": [
    "## 3.2 IDP Damaturu Clip"
   ]
  },
  {
   "cell_type": "code",
   "execution_count": 3,
   "metadata": {},
   "outputs": [
    {
     "name": "stdout",
     "output_type": "stream",
     "text": [
      "coordinate system: EPSG:4326\n"
     ]
    }
   ],
   "source": [
    "# check coordinate system of IDP shapefile\n",
    "print(f\"coordinate system: {idp_shapefile.crs}\")"
   ]
  },
  {
   "cell_type": "code",
   "execution_count": 5,
   "metadata": {},
   "outputs": [],
   "source": [
    "# clip IDP shapefile to Damaturu shapefile\n",
    "damaturu_idp = gpd.clip(idp_shapefile, aoi)"
   ]
  },
  {
   "cell_type": "code",
   "execution_count": 9,
   "metadata": {},
   "outputs": [
    {
     "name": "stderr",
     "output_type": "stream",
     "text": [
      "/var/folders/xy/9wgvl7914cj_8zq0xmgxg4hw0000gn/T/ipykernel_86795/3013792111.py:2: UserWarning: Column names longer than 10 characters will be truncated when saved to ESRI Shapefile.\n",
      "  damaturu_idp.to_file(\"data/processed/damaturu_idp.shp\")\n"
     ]
    }
   ],
   "source": [
    "# save damaturu_idp to shapefile\n",
    "damaturu_idp.to_file(\"data/interim/damaturu_idp.shp\")"
   ]
  },
  {
   "cell_type": "markdown",
   "metadata": {},
   "source": [
    "### 3.3 IDP Damaturu Exploration"
   ]
  },
  {
   "cell_type": "code",
   "execution_count": 3,
   "metadata": {},
   "outputs": [
    {
     "ename": "NameError",
     "evalue": "name 'damaturu_idp' is not defined",
     "output_type": "error",
     "traceback": [
      "\u001b[0;31m---------------------------------------------------------------------------\u001b[0m",
      "\u001b[0;31mNameError\u001b[0m                                 Traceback (most recent call last)",
      "Cell \u001b[0;32mIn[3], line 2\u001b[0m\n\u001b[1;32m      1\u001b[0m \u001b[38;5;66;03m# map and explore damaturu_idp\u001b[39;00m\n\u001b[0;32m----> 2\u001b[0m damaturu_idp\u001b[38;5;241m.\u001b[39mexplore()\n",
      "\u001b[0;31mNameError\u001b[0m: name 'damaturu_idp' is not defined"
     ]
    }
   ],
   "source": [
    "# map and explore damaturu_idp\n",
    "damaturu_idp.explore()"
   ]
  },
  {
   "cell_type": "code",
   "execution_count": 7,
   "metadata": {},
   "outputs": [
    {
     "name": "stdout",
     "output_type": "stream",
     "text": [
      "                  Name                                        Description  \\\n",
      "293   MOH'D GOMBE FARM  <html xmlns:fo=\"http://www.w3.org/1999/XSL/For...   \n",
      "289   BUKAR ABBA HOUSE  <html xmlns:fo=\"http://www.w3.org/1999/XSL/For...   \n",
      "288        ABARI Y.B.C  <html xmlns:fo=\"http://www.w3.org/1999/XSL/For...   \n",
      "292  HURI VILLAGE CAMP  <html xmlns:fo=\"http://www.w3.org/1999/XSL/For...   \n",
      "\n",
      "                                geometry  \n",
      "293  POINT Z (12.03584 11.72675 0.00000)  \n",
      "289  POINT Z (11.98183 11.72985 0.00000)  \n",
      "288  POINT Z (11.98050 11.72993 0.00000)  \n",
      "292  POINT Z (12.01215 11.73905 0.00000)  \n",
      "Index(['Name', 'Description', 'geometry'], dtype='object')\n",
      "                                           Description\n",
      "293  <html xmlns:fo=\"http://www.w3.org/1999/XSL/For...\n",
      "289  <html xmlns:fo=\"http://www.w3.org/1999/XSL/For...\n",
      "288  <html xmlns:fo=\"http://www.w3.org/1999/XSL/For...\n",
      "292  <html xmlns:fo=\"http://www.w3.org/1999/XSL/For...\n"
     ]
    }
   ],
   "source": [
    "# gain insight into damaturu_idp\n",
    "print(damaturu_idp.head())\n",
    "print(damaturu_idp.columns)\n",
    "print(damaturu_idp[['Description']])\n"
   ]
  },
  {
   "cell_type": "code",
   "execution_count": 20,
   "metadata": {},
   "outputs": [],
   "source": [
    "# damaturu_idp shapefile to dataframe for easy data analysis\n",
    "damaturu_idp_df = transform_idp_description(damaturu_idp)"
   ]
  },
  {
   "cell_type": "code",
   "execution_count": null,
   "metadata": {},
   "outputs": [],
   "source": [
    "# save damaturu_idp_df to csv\n",
    "damaturu_idp_df.to_csv(\"data/interim/damaturu_idp_df.csv\", index=False)"
   ]
  },
  {
   "cell_type": "code",
   "execution_count": 15,
   "metadata": {},
   "outputs": [],
   "source": [
    "# damaturu_idp shapefile to clean geojson with all attributes as columns for easy mapping\n",
    "damaturu_idp_clean = transform_idp_complete(damaturu_idp)"
   ]
  },
  {
   "cell_type": "code",
   "execution_count": 16,
   "metadata": {},
   "outputs": [
    {
     "name": "stdout",
     "output_type": "stream",
     "text": [
      "Columns in transformed data:\n",
      "Index(['name', 'dtm_round', 'date', 'state', 'state_pcode', 'lga', 'ward',\n",
      "       'siteid', 'site_name', 'longitude',\n",
      "       ...\n",
      "       'percent_of_children_attending_school',\n",
      "       'occupation_of_majority_of_idps', '#_of_hh_with_source_of_income',\n",
      "       'access_to_income_generating_activities', 'livestock_on_site',\n",
      "       'idps_have_access_to_land_for_cultivation',\n",
      "       'most_trusted_source_of_info',\n",
      "       'main_topic_community_is_requesting_info',\n",
      "       'serious_problem_due_to_lack_information', 'geometry'],\n",
      "      dtype='object', length=102)\n",
      "\n",
      "First site data:\n",
      "name                                                     MOH'D GOMBE FARM\n",
      "dtm_round                                                             R39\n",
      "date                                                           06/10/2021\n",
      "state                                                                YOBE\n",
      "state_pcode                                                         NG036\n",
      "                                                        ...              \n",
      "idps_have_access_to_land_for_cultivation                             True\n",
      "most_trusted_source_of_info                           government official\n",
      "main_topic_community_is_requesting_info               safety and security\n",
      "serious_problem_due_to_lack_information                              True\n",
      "geometry                                    POINT Z (12.03584 11.72675 0)\n",
      "Name: 0, Length: 102, dtype: object\n"
     ]
    }
   ],
   "source": [
    "# gain insight into damaturu_idp_clean and look at what columns we have\n",
    "print(\"Columns in transformed data:\")\n",
    "print(damaturu_idp_clean.columns)\n",
    "\n",
    "# gain insight into damaturu_idp_clean and look at first row\n",
    "print(\"\\nFirst site data:\")\n",
    "print(damaturu_idp_clean.iloc[0])"
   ]
  },
  {
   "cell_type": "code",
   "execution_count": 21,
   "metadata": {},
   "outputs": [
    {
     "data": {
      "text/html": [
       "<div>\n",
       "<style scoped>\n",
       "    .dataframe tbody tr th:only-of-type {\n",
       "        vertical-align: middle;\n",
       "    }\n",
       "\n",
       "    .dataframe tbody tr th {\n",
       "        vertical-align: top;\n",
       "    }\n",
       "\n",
       "    .dataframe thead th {\n",
       "        text-align: right;\n",
       "    }\n",
       "</style>\n",
       "<table border=\"1\" class=\"dataframe\">\n",
       "  <thead>\n",
       "    <tr style=\"text-align: right;\">\n",
       "      <th></th>\n",
       "      <th>name</th>\n",
       "      <th>dtm_round</th>\n",
       "      <th>date</th>\n",
       "      <th>state</th>\n",
       "      <th>state_pcode</th>\n",
       "      <th>lga</th>\n",
       "      <th>ward</th>\n",
       "      <th>siteid</th>\n",
       "      <th>site_name</th>\n",
       "      <th>longitude</th>\n",
       "      <th>latitude</th>\n",
       "      <th>site_status</th>\n",
       "      <th>site_type</th>\n",
       "      <th>site_classification</th>\n",
       "      <th>approximate_site_area</th>\n",
       "      <th>site_management_agency</th>\n",
       "      <th>sma_type</th>\n",
       "      <th>registration_activity</th>\n",
       "      <th>wash_support</th>\n",
       "      <th>cccm_support</th>\n",
       "      <th>cccm_organization</th>\n",
       "      <th>health_support</th>\n",
       "      <th>shelter_support</th>\n",
       "      <th>nfi_support</th>\n",
       "      <th>food_support</th>\n",
       "      <th>protection_support</th>\n",
       "      <th>education_support</th>\n",
       "      <th>livelihood_support</th>\n",
       "      <th>pss_support</th>\n",
       "      <th>pss_organization</th>\n",
       "      <th>land_ownership</th>\n",
       "      <th>most_common_type_of_shelter</th>\n",
       "      <th>number_of_households</th>\n",
       "      <th>number_of_individuals</th>\n",
       "      <th>boys_&lt;1</th>\n",
       "      <th>girls_&lt;1</th>\n",
       "      <th>boys_1___5_y</th>\n",
       "      <th>girls_1___5_y</th>\n",
       "      <th>boys_6to12y</th>\n",
       "      <th>girls_6to12y</th>\n",
       "      <th>boys_13to17y</th>\n",
       "      <th>girls_13to17y</th>\n",
       "      <th>men_18___59_y</th>\n",
       "      <th>women_18___59_y</th>\n",
       "      <th>elderly_men_60+_y</th>\n",
       "      <th>elderly_women_60+_y</th>\n",
       "      <th>have_idps_been_displaced_previously</th>\n",
       "      <th>reason_for_displacement_of_majority</th>\n",
       "      <th>natural_hazard_risks</th>\n",
       "      <th>intended_area_of_return</th>\n",
       "      <th>reasons_to_return_home</th>\n",
       "      <th>reasons_not_to_return_home</th>\n",
       "      <th>percent_hh_living_outside_no_shelter</th>\n",
       "      <th>percent_hh_living_in_ems</th>\n",
       "      <th>percent_hh_living_in_makeshift_self_made_shelter</th>\n",
       "      <th>percent_hh_living_indoors_solid_walls</th>\n",
       "      <th>percent_hh_have_access_to_electricity</th>\n",
       "      <th>percent_hh_have_access_to_safe_cooking_facilities</th>\n",
       "      <th>percent_hh_have_private_living_area</th>\n",
       "      <th>percent_hh_have_mosquito_nets</th>\n",
       "      <th>most_needed_nfi</th>\n",
       "      <th>most_unmet_needs</th>\n",
       "      <th>location_of_site_main_water_source</th>\n",
       "      <th>main_drinking_water_source</th>\n",
       "      <th>avg_amount_of_water_available__day_person</th>\n",
       "      <th>is_drinking_water_potable</th>\n",
       "      <th>complaints_about_drinking_water_quality</th>\n",
       "      <th>condition_of_most_of_the_toilets</th>\n",
       "      <th>#_of_functioning_toilets</th>\n",
       "      <th>main_garbage_disposal</th>\n",
       "      <th>garbage_and_solid_waste_problem</th>\n",
       "      <th>availability_of_hand_washing_station</th>\n",
       "      <th>hygiene_promotion_campaign</th>\n",
       "      <th>evidence_of_open_defecation</th>\n",
       "      <th>access_to_food</th>\n",
       "      <th>access_to_market_near_from_the_site</th>\n",
       "      <th>frequency_of_food_distribution</th>\n",
       "      <th>most_common_source_for_obtaining_food</th>\n",
       "      <th>screening_for_malnutrition</th>\n",
       "      <th>most_health_problem</th>\n",
       "      <th>regular_access_to_medicine</th>\n",
       "      <th>access_to_health_facility</th>\n",
       "      <th>location_of_health_facilities</th>\n",
       "      <th>main_provider_of_health_facilities</th>\n",
       "      <th>main_provider_of_health_services</th>\n",
       "      <th>primary_health_care_for_children</th>\n",
       "      <th>primary_health_care_for_adult</th>\n",
       "      <th>secondary_health_care_for_children</th>\n",
       "      <th>secondary_health_care_for_adult</th>\n",
       "      <th>traditional_health_care</th>\n",
       "      <th>access_to_education_services</th>\n",
       "      <th>location_of_education_facilities</th>\n",
       "      <th>percent_of_children_attending_school</th>\n",
       "      <th>occupation_of_majority_of_idps</th>\n",
       "      <th>#_of_hh_with_source_of_income</th>\n",
       "      <th>access_to_income_generating_activities</th>\n",
       "      <th>livestock_on_site</th>\n",
       "      <th>idps_have_access_to_land_for_cultivation</th>\n",
       "      <th>most_trusted_source_of_info</th>\n",
       "      <th>main_topic_community_is_requesting_info</th>\n",
       "      <th>serious_problem_due_to_lack_information</th>\n",
       "      <th>geometry</th>\n",
       "    </tr>\n",
       "  </thead>\n",
       "  <tbody>\n",
       "    <tr>\n",
       "      <th>0</th>\n",
       "      <td>MOH'D GOMBE FARM</td>\n",
       "      <td>R39</td>\n",
       "      <td>06/10/2021</td>\n",
       "      <td>YOBE</td>\n",
       "      <td>NG036</td>\n",
       "      <td>DAMATURU</td>\n",
       "      <td>MAISANDARI/WAZIRI IBRAHIM ESTATE</td>\n",
       "      <td>YB_S004</td>\n",
       "      <td>MOH'D GOMBE FARM</td>\n",
       "      <td>12.03584</td>\n",
       "      <td>11.72675</td>\n",
       "      <td>informal</td>\n",
       "      <td>Collective Settlement/Centre</td>\n",
       "      <td>Spontaneous</td>\n",
       "      <td>183,444 sq.m</td>\n",
       "      <td>False</td>\n",
       "      <td>none</td>\n",
       "      <td>True</td>\n",
       "      <td>True</td>\n",
       "      <td>False</td>\n",
       "      <td>No CCCM Organization</td>\n",
       "      <td>False</td>\n",
       "      <td>True</td>\n",
       "      <td>False</td>\n",
       "      <td>True</td>\n",
       "      <td>False</td>\n",
       "      <td>True</td>\n",
       "      <td>False</td>\n",
       "      <td>False</td>\n",
       "      <td>No PSS ORGANIZATION</td>\n",
       "      <td>private building</td>\n",
       "      <td>individual house</td>\n",
       "      <td>55.0</td>\n",
       "      <td>330.0</td>\n",
       "      <td>8.0</td>\n",
       "      <td>10.0</td>\n",
       "      <td>11.0</td>\n",
       "      <td>15.0</td>\n",
       "      <td>16.0</td>\n",
       "      <td>20.0</td>\n",
       "      <td>39.0</td>\n",
       "      <td>46.0</td>\n",
       "      <td>63.0</td>\n",
       "      <td>88.0</td>\n",
       "      <td>6.0</td>\n",
       "      <td>8.0</td>\n",
       "      <td>False</td>\n",
       "      <td>insurgency</td>\n",
       "      <td>none</td>\n",
       "      <td>place of origin</td>\n",
       "      <td>improved security</td>\n",
       "      <td>I want to go back</td>\n",
       "      <td>none</td>\n",
       "      <td>none</td>\n",
       "      <td>none</td>\n",
       "      <td>&gt;75%</td>\n",
       "      <td>none</td>\n",
       "      <td>25%_50%</td>\n",
       "      <td>none</td>\n",
       "      <td>51%_75%</td>\n",
       "      <td>kitchen sets</td>\n",
       "      <td>Food</td>\n",
       "      <td>on-site (&lt;10 minutes)</td>\n",
       "      <td>piped water supply</td>\n",
       "      <td>unknown</td>\n",
       "      <td>True</td>\n",
       "      <td>False</td>\n",
       "      <td>not so good (not hygienic)</td>\n",
       "      <td>25.0</td>\n",
       "      <td>garbage pit</td>\n",
       "      <td>False</td>\n",
       "      <td>none</td>\n",
       "      <td>False</td>\n",
       "      <td>False</td>\n",
       "      <td>yes onsite</td>\n",
       "      <td>True</td>\n",
       "      <td>once_a_month</td>\n",
       "      <td>cultivated</td>\n",
       "      <td>False</td>\n",
       "      <td>malaria</td>\n",
       "      <td>False</td>\n",
       "      <td>False</td>\n",
       "      <td>off-site (&gt; 3 km)</td>\n",
       "      <td>government</td>\n",
       "      <td>government</td>\n",
       "      <td>False</td>\n",
       "      <td>True</td>\n",
       "      <td>False</td>\n",
       "      <td>False</td>\n",
       "      <td>False</td>\n",
       "      <td>True</td>\n",
       "      <td>onsite</td>\n",
       "      <td>&lt;25%</td>\n",
       "      <td>agro-pastoralism</td>\n",
       "      <td>0.0</td>\n",
       "      <td>False</td>\n",
       "      <td>True</td>\n",
       "      <td>True</td>\n",
       "      <td>government official</td>\n",
       "      <td>safety and security</td>\n",
       "      <td>True</td>\n",
       "      <td>POINT Z (12.03584 11.72675 0.00000)</td>\n",
       "    </tr>\n",
       "    <tr>\n",
       "      <th>1</th>\n",
       "      <td>BUKAR ABBA HOUSE</td>\n",
       "      <td>R39</td>\n",
       "      <td>08/10/2021</td>\n",
       "      <td>YOBE</td>\n",
       "      <td>NG036</td>\n",
       "      <td>DAMATURU</td>\n",
       "      <td>DAMATURU CENTRAL</td>\n",
       "      <td>YB_S021</td>\n",
       "      <td>BUKAR ABBA HOUSE</td>\n",
       "      <td>11.98183</td>\n",
       "      <td>11.72985</td>\n",
       "      <td>informal</td>\n",
       "      <td>Collective Settlement/Centre</td>\n",
       "      <td>Spontaneous</td>\n",
       "      <td>65,276 sq.m</td>\n",
       "      <td>False</td>\n",
       "      <td>none</td>\n",
       "      <td>True</td>\n",
       "      <td>True</td>\n",
       "      <td>False</td>\n",
       "      <td>No CCCM Organization</td>\n",
       "      <td>True</td>\n",
       "      <td>True</td>\n",
       "      <td>True</td>\n",
       "      <td>False</td>\n",
       "      <td>False</td>\n",
       "      <td>True</td>\n",
       "      <td>True</td>\n",
       "      <td>False</td>\n",
       "      <td>No PSS ORGANIZATION</td>\n",
       "      <td>Public/Government</td>\n",
       "      <td>individual house</td>\n",
       "      <td>78.0</td>\n",
       "      <td>468.0</td>\n",
       "      <td>19.0</td>\n",
       "      <td>25.0</td>\n",
       "      <td>25.0</td>\n",
       "      <td>27.0</td>\n",
       "      <td>28.0</td>\n",
       "      <td>31.0</td>\n",
       "      <td>23.0</td>\n",
       "      <td>27.0</td>\n",
       "      <td>104.0</td>\n",
       "      <td>149.0</td>\n",
       "      <td>4.0</td>\n",
       "      <td>6.0</td>\n",
       "      <td>False</td>\n",
       "      <td>insurgency</td>\n",
       "      <td>none</td>\n",
       "      <td>none stay here</td>\n",
       "      <td>improved security</td>\n",
       "      <td>I want to go back</td>\n",
       "      <td>none</td>\n",
       "      <td>none</td>\n",
       "      <td>none</td>\n",
       "      <td>&gt;75%</td>\n",
       "      <td>25%_50%</td>\n",
       "      <td>51%_75%</td>\n",
       "      <td>&lt;25%</td>\n",
       "      <td>51%_75%</td>\n",
       "      <td>mattress</td>\n",
       "      <td>Food</td>\n",
       "      <td>on-site (&lt;10 minutes)</td>\n",
       "      <td>piped water supply</td>\n",
       "      <td>unknown</td>\n",
       "      <td>True</td>\n",
       "      <td>False</td>\n",
       "      <td>not so good (not hygienic)</td>\n",
       "      <td>5.0</td>\n",
       "      <td>garbage pit</td>\n",
       "      <td>False</td>\n",
       "      <td>none</td>\n",
       "      <td>False</td>\n",
       "      <td>False</td>\n",
       "      <td>False</td>\n",
       "      <td>False</td>\n",
       "      <td>never</td>\n",
       "      <td>cash (personal money)</td>\n",
       "      <td>False</td>\n",
       "      <td>cough</td>\n",
       "      <td>False</td>\n",
       "      <td>False</td>\n",
       "      <td>none health</td>\n",
       "      <td>government</td>\n",
       "      <td>government</td>\n",
       "      <td>False</td>\n",
       "      <td>False</td>\n",
       "      <td>True</td>\n",
       "      <td>True</td>\n",
       "      <td>False</td>\n",
       "      <td>True</td>\n",
       "      <td>onsite</td>\n",
       "      <td>25% -50%</td>\n",
       "      <td>farming</td>\n",
       "      <td>5.0</td>\n",
       "      <td>True</td>\n",
       "      <td>False</td>\n",
       "      <td>True</td>\n",
       "      <td>military official</td>\n",
       "      <td>safety and security</td>\n",
       "      <td>True</td>\n",
       "      <td>POINT Z (11.98183 11.72985 0.00000)</td>\n",
       "    </tr>\n",
       "    <tr>\n",
       "      <th>2</th>\n",
       "      <td>ABARI Y.B.C</td>\n",
       "      <td>R39</td>\n",
       "      <td>08/10/2021</td>\n",
       "      <td>YOBE</td>\n",
       "      <td>NG036</td>\n",
       "      <td>DAMATURU</td>\n",
       "      <td>DAMATURU CENTRAL</td>\n",
       "      <td>YB_S018</td>\n",
       "      <td>ABARI Y.B.C</td>\n",
       "      <td>11.98050</td>\n",
       "      <td>11.72993</td>\n",
       "      <td>informal</td>\n",
       "      <td>camp</td>\n",
       "      <td>Spontaneous</td>\n",
       "      <td>26,478 sq.m</td>\n",
       "      <td>False</td>\n",
       "      <td>none</td>\n",
       "      <td>True</td>\n",
       "      <td>True</td>\n",
       "      <td>False</td>\n",
       "      <td>No CCCM Organization</td>\n",
       "      <td>False</td>\n",
       "      <td>True</td>\n",
       "      <td>True</td>\n",
       "      <td>True</td>\n",
       "      <td>False</td>\n",
       "      <td>False</td>\n",
       "      <td>True</td>\n",
       "      <td>False</td>\n",
       "      <td>No PSS ORGANIZATION</td>\n",
       "      <td>Public/Government</td>\n",
       "      <td>emergency shelter</td>\n",
       "      <td>86.0</td>\n",
       "      <td>516.0</td>\n",
       "      <td>16.0</td>\n",
       "      <td>20.0</td>\n",
       "      <td>21.0</td>\n",
       "      <td>26.0</td>\n",
       "      <td>27.0</td>\n",
       "      <td>31.0</td>\n",
       "      <td>47.0</td>\n",
       "      <td>59.0</td>\n",
       "      <td>93.0</td>\n",
       "      <td>151.0</td>\n",
       "      <td>11.0</td>\n",
       "      <td>14.0</td>\n",
       "      <td>False</td>\n",
       "      <td>insurgency</td>\n",
       "      <td>none</td>\n",
       "      <td>none_stay_here</td>\n",
       "      <td>I don't want to go back</td>\n",
       "      <td>better living condition</td>\n",
       "      <td>none</td>\n",
       "      <td>51%_75%</td>\n",
       "      <td>&lt;25%</td>\n",
       "      <td>&lt;25%</td>\n",
       "      <td>none</td>\n",
       "      <td>none</td>\n",
       "      <td>none</td>\n",
       "      <td>25%_50%</td>\n",
       "      <td>mattress</td>\n",
       "      <td>Food</td>\n",
       "      <td>on-site (&lt;10 minutes)</td>\n",
       "      <td>piped water supply</td>\n",
       "      <td>unknown</td>\n",
       "      <td>True</td>\n",
       "      <td>False</td>\n",
       "      <td>not so good (not hygienic)</td>\n",
       "      <td>25.0</td>\n",
       "      <td>garbage pit</td>\n",
       "      <td>False</td>\n",
       "      <td>none</td>\n",
       "      <td>False</td>\n",
       "      <td>False</td>\n",
       "      <td>yes onsite</td>\n",
       "      <td>True</td>\n",
       "      <td>once_a_month</td>\n",
       "      <td>host community donation</td>\n",
       "      <td>False</td>\n",
       "      <td>fever</td>\n",
       "      <td>False</td>\n",
       "      <td>False</td>\n",
       "      <td>off-site (&lt; 3 km)</td>\n",
       "      <td>government</td>\n",
       "      <td>government</td>\n",
       "      <td>False</td>\n",
       "      <td>True</td>\n",
       "      <td>False</td>\n",
       "      <td>False</td>\n",
       "      <td>False</td>\n",
       "      <td>True</td>\n",
       "      <td>onsite</td>\n",
       "      <td>&lt;25%</td>\n",
       "      <td>farming</td>\n",
       "      <td>25.0</td>\n",
       "      <td>True</td>\n",
       "      <td>True</td>\n",
       "      <td>True</td>\n",
       "      <td>government official</td>\n",
       "      <td>safety and security</td>\n",
       "      <td>True</td>\n",
       "      <td>POINT Z (11.98050 11.72993 0.00000)</td>\n",
       "    </tr>\n",
       "    <tr>\n",
       "      <th>3</th>\n",
       "      <td>HURI VILLAGE CAMP</td>\n",
       "      <td>R39</td>\n",
       "      <td>07/10/2021</td>\n",
       "      <td>YOBE</td>\n",
       "      <td>NG036</td>\n",
       "      <td>DAMATURU</td>\n",
       "      <td>MAISANDARI/WAZIRI IBRAHIM ESTATE</td>\n",
       "      <td>YB_S006</td>\n",
       "      <td>HURI VILLAGE CAMP</td>\n",
       "      <td>12.01215</td>\n",
       "      <td>11.73905</td>\n",
       "      <td>informal</td>\n",
       "      <td>camp</td>\n",
       "      <td>Spontaneous</td>\n",
       "      <td>49,841 sq.m</td>\n",
       "      <td>False</td>\n",
       "      <td>none</td>\n",
       "      <td>False</td>\n",
       "      <td>False</td>\n",
       "      <td>False</td>\n",
       "      <td>No CCCM Organization</td>\n",
       "      <td>False</td>\n",
       "      <td>True</td>\n",
       "      <td>False</td>\n",
       "      <td>True</td>\n",
       "      <td>False</td>\n",
       "      <td>True</td>\n",
       "      <td>False</td>\n",
       "      <td>False</td>\n",
       "      <td>No PSS ORGANIZATION</td>\n",
       "      <td>Public/Government</td>\n",
       "      <td>emergency shelter</td>\n",
       "      <td>131.0</td>\n",
       "      <td>786.0</td>\n",
       "      <td>22.0</td>\n",
       "      <td>28.0</td>\n",
       "      <td>43.0</td>\n",
       "      <td>51.0</td>\n",
       "      <td>58.0</td>\n",
       "      <td>63.0</td>\n",
       "      <td>61.0</td>\n",
       "      <td>69.0</td>\n",
       "      <td>143.0</td>\n",
       "      <td>231.0</td>\n",
       "      <td>8.0</td>\n",
       "      <td>9.0</td>\n",
       "      <td>False</td>\n",
       "      <td>insurgency</td>\n",
       "      <td>none</td>\n",
       "      <td>none_stay_here</td>\n",
       "      <td>I don't want to go back</td>\n",
       "      <td>better living condition</td>\n",
       "      <td>none</td>\n",
       "      <td>25%_50%</td>\n",
       "      <td>&lt;25%</td>\n",
       "      <td>&lt;25%</td>\n",
       "      <td>none</td>\n",
       "      <td>25%_50%</td>\n",
       "      <td>none</td>\n",
       "      <td>51%_75%</td>\n",
       "      <td>soap</td>\n",
       "      <td>Food</td>\n",
       "      <td>on-site (&lt;10 minutes)</td>\n",
       "      <td>piped water supply</td>\n",
       "      <td>unknown</td>\n",
       "      <td>True</td>\n",
       "      <td>False</td>\n",
       "      <td>not so good (not hygienic)</td>\n",
       "      <td>15.0</td>\n",
       "      <td>garbage pit</td>\n",
       "      <td>False</td>\n",
       "      <td>none</td>\n",
       "      <td>True</td>\n",
       "      <td>False</td>\n",
       "      <td>yes onsite</td>\n",
       "      <td>False</td>\n",
       "      <td>once_a_month</td>\n",
       "      <td>cultivated</td>\n",
       "      <td>True</td>\n",
       "      <td>fever</td>\n",
       "      <td>True</td>\n",
       "      <td>False</td>\n",
       "      <td>none health</td>\n",
       "      <td>government</td>\n",
       "      <td>government</td>\n",
       "      <td>False</td>\n",
       "      <td>True</td>\n",
       "      <td>False</td>\n",
       "      <td>False</td>\n",
       "      <td>False</td>\n",
       "      <td>True</td>\n",
       "      <td>onsite</td>\n",
       "      <td>&lt;25%</td>\n",
       "      <td>pastoralism</td>\n",
       "      <td>0.0</td>\n",
       "      <td>False</td>\n",
       "      <td>False</td>\n",
       "      <td>True</td>\n",
       "      <td>government official</td>\n",
       "      <td>safety and security</td>\n",
       "      <td>True</td>\n",
       "      <td>POINT Z (12.01215 11.73905 0.00000)</td>\n",
       "    </tr>\n",
       "  </tbody>\n",
       "</table>\n",
       "</div>"
      ],
      "text/plain": [
       "                name dtm_round        date state state_pcode       lga  \\\n",
       "0   MOH'D GOMBE FARM       R39  06/10/2021  YOBE       NG036  DAMATURU   \n",
       "1   BUKAR ABBA HOUSE       R39  08/10/2021  YOBE       NG036  DAMATURU   \n",
       "2        ABARI Y.B.C       R39  08/10/2021  YOBE       NG036  DAMATURU   \n",
       "3  HURI VILLAGE CAMP       R39  07/10/2021  YOBE       NG036  DAMATURU   \n",
       "\n",
       "                               ward   siteid          site_name  longitude  \\\n",
       "0  MAISANDARI/WAZIRI IBRAHIM ESTATE  YB_S004   MOH'D GOMBE FARM   12.03584   \n",
       "1                  DAMATURU CENTRAL  YB_S021   BUKAR ABBA HOUSE   11.98183   \n",
       "2                  DAMATURU CENTRAL  YB_S018        ABARI Y.B.C   11.98050   \n",
       "3  MAISANDARI/WAZIRI IBRAHIM ESTATE  YB_S006  HURI VILLAGE CAMP   12.01215   \n",
       "\n",
       "   latitude site_status                     site_type site_classification  \\\n",
       "0  11.72675    informal  Collective Settlement/Centre         Spontaneous   \n",
       "1  11.72985    informal  Collective Settlement/Centre         Spontaneous   \n",
       "2  11.72993    informal                          camp         Spontaneous   \n",
       "3  11.73905    informal                          camp         Spontaneous   \n",
       "\n",
       "  approximate_site_area  site_management_agency sma_type  \\\n",
       "0          183,444 sq.m                   False     none   \n",
       "1           65,276 sq.m                   False     none   \n",
       "2           26,478 sq.m                   False     none   \n",
       "3           49,841 sq.m                   False     none   \n",
       "\n",
       "   registration_activity  wash_support  cccm_support     cccm_organization  \\\n",
       "0                   True          True         False  No CCCM Organization   \n",
       "1                   True          True         False  No CCCM Organization   \n",
       "2                   True          True         False  No CCCM Organization   \n",
       "3                  False         False         False  No CCCM Organization   \n",
       "\n",
       "   health_support  shelter_support  nfi_support  food_support  \\\n",
       "0           False             True        False          True   \n",
       "1            True             True         True         False   \n",
       "2           False             True         True          True   \n",
       "3           False             True        False          True   \n",
       "\n",
       "   protection_support  education_support  livelihood_support  pss_support  \\\n",
       "0               False               True               False        False   \n",
       "1               False               True                True        False   \n",
       "2               False              False                True        False   \n",
       "3               False               True               False        False   \n",
       "\n",
       "      pss_organization     land_ownership most_common_type_of_shelter  \\\n",
       "0  No PSS ORGANIZATION   private building            individual house   \n",
       "1  No PSS ORGANIZATION  Public/Government            individual house   \n",
       "2  No PSS ORGANIZATION  Public/Government           emergency shelter   \n",
       "3  No PSS ORGANIZATION  Public/Government           emergency shelter   \n",
       "\n",
       "   number_of_households  number_of_individuals  boys_<1  girls_<1  \\\n",
       "0                  55.0                  330.0      8.0      10.0   \n",
       "1                  78.0                  468.0     19.0      25.0   \n",
       "2                  86.0                  516.0     16.0      20.0   \n",
       "3                 131.0                  786.0     22.0      28.0   \n",
       "\n",
       "   boys_1___5_y  girls_1___5_y  boys_6to12y  girls_6to12y  boys_13to17y  \\\n",
       "0          11.0           15.0         16.0          20.0          39.0   \n",
       "1          25.0           27.0         28.0          31.0          23.0   \n",
       "2          21.0           26.0         27.0          31.0          47.0   \n",
       "3          43.0           51.0         58.0          63.0          61.0   \n",
       "\n",
       "   girls_13to17y  men_18___59_y  women_18___59_y  elderly_men_60+_y  \\\n",
       "0           46.0           63.0             88.0                6.0   \n",
       "1           27.0          104.0            149.0                4.0   \n",
       "2           59.0           93.0            151.0               11.0   \n",
       "3           69.0          143.0            231.0                8.0   \n",
       "\n",
       "   elderly_women_60+_y  have_idps_been_displaced_previously  \\\n",
       "0                  8.0                                False   \n",
       "1                  6.0                                False   \n",
       "2                 14.0                                False   \n",
       "3                  9.0                                False   \n",
       "\n",
       "  reason_for_displacement_of_majority natural_hazard_risks  \\\n",
       "0                          insurgency                 none   \n",
       "1                          insurgency                 none   \n",
       "2                          insurgency                 none   \n",
       "3                          insurgency                 none   \n",
       "\n",
       "  intended_area_of_return   reasons_to_return_home reasons_not_to_return_home  \\\n",
       "0         place of origin        improved security          I want to go back   \n",
       "1          none stay here        improved security          I want to go back   \n",
       "2          none_stay_here  I don't want to go back    better living condition   \n",
       "3          none_stay_here  I don't want to go back    better living condition   \n",
       "\n",
       "  percent_hh_living_outside_no_shelter percent_hh_living_in_ems  \\\n",
       "0                                 none                     none   \n",
       "1                                 none                     none   \n",
       "2                                 none                  51%_75%   \n",
       "3                                 none                  25%_50%   \n",
       "\n",
       "  percent_hh_living_in_makeshift_self_made_shelter  \\\n",
       "0                                             none   \n",
       "1                                             none   \n",
       "2                                             <25%   \n",
       "3                                             <25%   \n",
       "\n",
       "  percent_hh_living_indoors_solid_walls percent_hh_have_access_to_electricity  \\\n",
       "0                                  >75%                                  none   \n",
       "1                                  >75%                               25%_50%   \n",
       "2                                  <25%                                  none   \n",
       "3                                  <25%                                  none   \n",
       "\n",
       "  percent_hh_have_access_to_safe_cooking_facilities  \\\n",
       "0                                           25%_50%   \n",
       "1                                           51%_75%   \n",
       "2                                              none   \n",
       "3                                           25%_50%   \n",
       "\n",
       "  percent_hh_have_private_living_area percent_hh_have_mosquito_nets  \\\n",
       "0                                none                       51%_75%   \n",
       "1                                <25%                       51%_75%   \n",
       "2                                none                       25%_50%   \n",
       "3                                none                       51%_75%   \n",
       "\n",
       "  most_needed_nfi most_unmet_needs location_of_site_main_water_source  \\\n",
       "0    kitchen sets             Food              on-site (<10 minutes)   \n",
       "1        mattress             Food              on-site (<10 minutes)   \n",
       "2        mattress             Food              on-site (<10 minutes)   \n",
       "3            soap             Food              on-site (<10 minutes)   \n",
       "\n",
       "  main_drinking_water_source avg_amount_of_water_available__day_person  \\\n",
       "0         piped water supply                                   unknown   \n",
       "1         piped water supply                                   unknown   \n",
       "2         piped water supply                                   unknown   \n",
       "3         piped water supply                                   unknown   \n",
       "\n",
       "   is_drinking_water_potable  complaints_about_drinking_water_quality  \\\n",
       "0                       True                                    False   \n",
       "1                       True                                    False   \n",
       "2                       True                                    False   \n",
       "3                       True                                    False   \n",
       "\n",
       "  condition_of_most_of_the_toilets  #_of_functioning_toilets  \\\n",
       "0       not so good (not hygienic)                      25.0   \n",
       "1       not so good (not hygienic)                       5.0   \n",
       "2       not so good (not hygienic)                      25.0   \n",
       "3       not so good (not hygienic)                      15.0   \n",
       "\n",
       "  main_garbage_disposal  garbage_and_solid_waste_problem  \\\n",
       "0           garbage pit                            False   \n",
       "1           garbage pit                            False   \n",
       "2           garbage pit                            False   \n",
       "3           garbage pit                            False   \n",
       "\n",
       "  availability_of_hand_washing_station  hygiene_promotion_campaign  \\\n",
       "0                                 none                       False   \n",
       "1                                 none                       False   \n",
       "2                                 none                       False   \n",
       "3                                 none                        True   \n",
       "\n",
       "   evidence_of_open_defecation access_to_food  \\\n",
       "0                        False     yes onsite   \n",
       "1                        False          False   \n",
       "2                        False     yes onsite   \n",
       "3                        False     yes onsite   \n",
       "\n",
       "   access_to_market_near_from_the_site frequency_of_food_distribution  \\\n",
       "0                                 True                   once_a_month   \n",
       "1                                False                          never   \n",
       "2                                 True                   once_a_month   \n",
       "3                                False                   once_a_month   \n",
       "\n",
       "  most_common_source_for_obtaining_food  screening_for_malnutrition  \\\n",
       "0                            cultivated                       False   \n",
       "1                 cash (personal money)                       False   \n",
       "2               host community donation                       False   \n",
       "3                            cultivated                        True   \n",
       "\n",
       "  most_health_problem  regular_access_to_medicine  access_to_health_facility  \\\n",
       "0             malaria                       False                      False   \n",
       "1               cough                       False                      False   \n",
       "2               fever                       False                      False   \n",
       "3               fever                        True                      False   \n",
       "\n",
       "  location_of_health_facilities main_provider_of_health_facilities  \\\n",
       "0             off-site (> 3 km)                         government   \n",
       "1                   none health                         government   \n",
       "2             off-site (< 3 km)                         government   \n",
       "3                   none health                         government   \n",
       "\n",
       "  main_provider_of_health_services  primary_health_care_for_children  \\\n",
       "0                       government                             False   \n",
       "1                       government                             False   \n",
       "2                       government                             False   \n",
       "3                       government                             False   \n",
       "\n",
       "   primary_health_care_for_adult  secondary_health_care_for_children  \\\n",
       "0                           True                               False   \n",
       "1                          False                                True   \n",
       "2                           True                               False   \n",
       "3                           True                               False   \n",
       "\n",
       "   secondary_health_care_for_adult  traditional_health_care  \\\n",
       "0                            False                    False   \n",
       "1                             True                    False   \n",
       "2                            False                    False   \n",
       "3                            False                    False   \n",
       "\n",
       "   access_to_education_services location_of_education_facilities  \\\n",
       "0                          True                           onsite   \n",
       "1                          True                           onsite   \n",
       "2                          True                           onsite   \n",
       "3                          True                           onsite   \n",
       "\n",
       "  percent_of_children_attending_school occupation_of_majority_of_idps  \\\n",
       "0                                 <25%               agro-pastoralism   \n",
       "1                             25% -50%                        farming   \n",
       "2                                 <25%                        farming   \n",
       "3                                 <25%                    pastoralism   \n",
       "\n",
       "   #_of_hh_with_source_of_income  access_to_income_generating_activities  \\\n",
       "0                            0.0                                   False   \n",
       "1                            5.0                                    True   \n",
       "2                           25.0                                    True   \n",
       "3                            0.0                                   False   \n",
       "\n",
       "   livestock_on_site  idps_have_access_to_land_for_cultivation  \\\n",
       "0               True                                      True   \n",
       "1              False                                      True   \n",
       "2               True                                      True   \n",
       "3              False                                      True   \n",
       "\n",
       "  most_trusted_source_of_info main_topic_community_is_requesting_info  \\\n",
       "0         government official                     safety and security   \n",
       "1           military official                     safety and security   \n",
       "2         government official                     safety and security   \n",
       "3         government official                     safety and security   \n",
       "\n",
       "   serious_problem_due_to_lack_information  \\\n",
       "0                                     True   \n",
       "1                                     True   \n",
       "2                                     True   \n",
       "3                                     True   \n",
       "\n",
       "                              geometry  \n",
       "0  POINT Z (12.03584 11.72675 0.00000)  \n",
       "1  POINT Z (11.98183 11.72985 0.00000)  \n",
       "2  POINT Z (11.98050 11.72993 0.00000)  \n",
       "3  POINT Z (12.01215 11.73905 0.00000)  "
      ]
     },
     "metadata": {},
     "output_type": "display_data"
    }
   ],
   "source": [
    "# gain insight into damaturu_idp_clean \n",
    "with pd.option_context('display.max_rows', 5, 'display.max_columns', None): \n",
    "    display(damaturu_idp_clean)"
   ]
  },
  {
   "cell_type": "code",
   "execution_count": 14,
   "metadata": {},
   "outputs": [],
   "source": [
    "# save damaturu_idp_clean to geojson for mapping\n",
    "damaturu_idp_clean.to_file('data/processed/damaturu_idp_clean.geojson', driver='GeoJSON')"
   ]
  },
  {
   "cell_type": "markdown",
   "metadata": {},
   "source": [
    "# 4.0 Land Cover"
   ]
  },
  {
   "cell_type": "code",
   "execution_count": 11,
   "metadata": {},
   "outputs": [
    {
     "name": "stdout",
     "output_type": "stream",
     "text": [
      "coordinate system: EPSG:4326\n"
     ]
    }
   ],
   "source": [
    "# save Damaturu land GCP tif as variable\n",
    "damaturu_lc = rasterio.open(\"data/interim/2024-12-nigeria-damaturu_02-process-output_spatial_damaturu_lc.tif\")\n",
    "\n",
    "# check coordinate system of damaturu_lc\n",
    "print(f\"coordinate system: {damaturu_pd_gcp.crs}\")"
   ]
  },
  {
   "cell_type": "code",
   "execution_count": 12,
   "metadata": {},
   "outputs": [
    {
     "name": "stdout",
     "output_type": "stream",
     "text": [
      "\n",
      "Created 7429 polygons\n",
      "Value range: 10.00 to 90.00\n"
     ]
    }
   ],
   "source": [
    "# convert damaturu_lc from tif to GeoJSON for export and viz\n",
    "damaturu_lc_geojson = raster_to_polygons(\n",
    "    \"data/interim/2024-12-nigeria-damaturu_02-process-output_spatial_damaturu_lc.tif\",\n",
    "    \"data/raw/AOI/damaturu.shp\",\n",
    "    \"data/processed/damaturu_lc.geojson\"\n",
    ")"
   ]
  },
  {
   "cell_type": "markdown",
   "metadata": {},
   "source": [
    "# 5.0 Built-Up Area Change"
   ]
  },
  {
   "cell_type": "code",
   "execution_count": 14,
   "metadata": {},
   "outputs": [
    {
     "name": "stdout",
     "output_type": "stream",
     "text": [
      "coordinate system: EPSG:3857\n"
     ]
    }
   ],
   "source": [
    "# save Damaturu built-up area wsf GCP tif as variable\n",
    "damaturu_wsf = rasterio.open(\"data/interim/2024-12-nigeria-damaturu_02-process-output_spatial_damaturu_wsf_evolution_3857.tif\")\n",
    "\n",
    "# check coordinate system of damaturu_wsf\n",
    "print(f\"coordinate system: {damaturu_wsf.crs}\") # crs is Web Mercator (EPSG:3857)"
   ]
  },
  {
   "cell_type": "code",
   "execution_count": 16,
   "metadata": {},
   "outputs": [
    {
     "name": "stdout",
     "output_type": "stream",
     "text": [
      "coordinate system: EPSG:4326\n"
     ]
    }
   ],
   "source": [
    "# check coordinate system of aoi, damaturu.shp\n",
    "aoi = gpd.read_file(\"data/raw/AOI/damaturu.shp\")\n",
    "print(f\"coordinate system: {aoi.crs}\")"
   ]
  },
  {
   "cell_type": "code",
   "execution_count": 19,
   "metadata": {},
   "outputs": [],
   "source": [
    "# convert aoi to Web Mercator (EPSG:3857)\n",
    "aoi_wsf = aoi.to_crs(epsg=3857)\n",
    "\n",
    "# save aoi_wsf to shapefile\n",
    "aoi_wsf.to_file(\"data/interim/aoi_wsf.shp\")\n"
   ]
  },
  {
   "cell_type": "code",
   "execution_count": 20,
   "metadata": {},
   "outputs": [
    {
     "name": "stdout",
     "output_type": "stream",
     "text": [
      "\n",
      "Created 11022 polygons\n",
      "Value range: 1985.00 to 2015.00\n"
     ]
    }
   ],
   "source": [
    "# convert damaturu_wsf from tif to GeoJSON for export and viz\n",
    "damaturu_wsf_geojson = raster_to_polygons(\n",
    "    \"data/interim/2024-12-nigeria-damaturu_02-process-output_spatial_damaturu_wsf_evolution_3857.tif\",\n",
    "    \"data/interim/aoi_wsf.shp\",\n",
    "    \"data/processed/damaturu_wsf.geojson\"\n",
    ")"
   ]
  },
  {
   "cell_type": "markdown",
   "metadata": {},
   "source": [
    "# 6.0 Nighttime Lights"
   ]
  },
  {
   "cell_type": "markdown",
   "metadata": {},
   "source": [
    "### 6.1 Average Nighttime Light Radiance\n"
   ]
  },
  {
   "cell_type": "code",
   "execution_count": 9,
   "metadata": {},
   "outputs": [
    {
     "name": "stdout",
     "output_type": "stream",
     "text": [
      "coordinate system: EPSG:4326\n"
     ]
    }
   ],
   "source": [
    "# save Damaturu nighttime light GCP tif as variable\n",
    "damaturu_ntl = rasterio.open(\"data/interim/2024-12-nigeria-damaturu_02-process-output_spatial_damaturu_avg_rad_sum.tif\")\n",
    "\n",
    "# check coordinate system of damaturu_ntl\n",
    "print(f\"coordinate system: {damaturu_ntl.crs}\")"
   ]
  },
  {
   "cell_type": "code",
   "execution_count": 8,
   "metadata": {},
   "outputs": [
    {
     "name": "stdout",
     "output_type": "stream",
     "text": [
      "coordinate system: EPSG:4326\n"
     ]
    }
   ],
   "source": [
    "# check coordinate system of aoi, damaturu.shp\n",
    "aoi = gpd.read_file(\"data/raw/AOI/damaturu.shp\")\n",
    "print(f\"coordinate system: {aoi.crs}\")"
   ]
  },
  {
   "cell_type": "code",
   "execution_count": 11,
   "metadata": {},
   "outputs": [
    {
     "name": "stdout",
     "output_type": "stream",
     "text": [
      "Original data type: float64\n"
     ]
    }
   ],
   "source": [
    "# convert damaturu_ntl from tif to GeoJSON for export and viz\n",
    "damaturu_ntl_geojson = raster_to_polygons(\n",
    "    \"data/interim/2024-12-nigeria-damaturu_02-process-output_spatial_damaturu_avg_rad_sum.tif\",\n",
    "    \"data/raw/AOI/damaturu.shp\",\n",
    "    \"data/processed/damaturu_ntl.geojson\"\n",
    ")"
   ]
  },
  {
   "cell_type": "markdown",
   "metadata": {},
   "source": [
    "### 6.2 Rate of Change in Nighttime Light Radiance"
   ]
  },
  {
   "cell_type": "code",
   "execution_count": 5,
   "metadata": {},
   "outputs": [
    {
     "name": "stdout",
     "output_type": "stream",
     "text": [
      "Min value: -9999.0\n",
      "Max value: 1.9825619832589798\n",
      "Mean value: -4545.928598613609\n",
      "Median value: 0.05359354301797102\n",
      "\n",
      "Value distribution:\n",
      "25th percentile: 0.08934509403857702\n",
      "75th percentile: 0.47733468589204925\n",
      "\n",
      "Sample of non-zero values:\n",
      "[0.04223579 0.04208608 0.05160682 0.0494282  0.05032423 0.04646537\n",
      " 0.04464805 0.06632265 0.06031924 0.05770802]\n"
     ]
    }
   ],
   "source": [
    "# gain more insight into damaturu nighttime light change GCP tif data\n",
    "\n",
    "# read the tif file\n",
    "with rasterio.open(\"data/interim/2024-12-nigeria-damaturu_02-process-output_spatial_damaturu_linfit.tif\") as src:\n",
    "   \n",
    "    # read data as a numpy array\n",
    "    data = src.read(1)  # read first band\n",
    "    \n",
    "    # get basic stats\n",
    "    min_val = np.nanmin(data)\n",
    "    max_val = np.nanmax(data)\n",
    "    mean_val = np.nanmean(data)\n",
    "    median_val = np.nanmedian(data)\n",
    "    \n",
    "    # print stats\n",
    "    print(f\"Min value: {min_val}\")\n",
    "    print(f\"Max value: {max_val}\")\n",
    "    print(f\"Mean value: {mean_val}\")\n",
    "    print(f\"Median value: {median_val}\")\n",
    "    \n",
    "    # get a histogram of values to understand distribution\n",
    "    # ignore no-data values (usually very negative numbers or NaN)\n",
    "    valid_data = data[data > -9999]  # adjust this threshold based on your no-data value\n",
    "    \n",
    "    # print distribution information\n",
    "    print(\"\\nValue distribution:\")\n",
    "    print(f\"25th percentile: {np.percentile(valid_data, 25)}\")\n",
    "    print(f\"75th percentile: {np.percentile(valid_data, 75)}\")\n",
    "    \n",
    "    # print first few non-zero values to see actual data points\n",
    "    non_zero = valid_data[valid_data > 0]\n",
    "    print(\"\\nSample of non-zero values:\")\n",
    "    print(non_zero[:10])"
   ]
  },
  {
   "cell_type": "code",
   "execution_count": 6,
   "metadata": {},
   "outputs": [
    {
     "name": "stdout",
     "output_type": "stream",
     "text": [
      "coordinate system: EPSG:4326\n"
     ]
    }
   ],
   "source": [
    "# save Damaturu nighttime light change GCP tif as variable\n",
    "damaturu_ntl_change = rasterio.open(\"data/interim/2024-12-nigeria-damaturu_02-process-output_spatial_damaturu_linfit.tif\")\n",
    "\n",
    "# check coordinate system of damaturu_ntl_change\n",
    "print(f\"coordinate system: {damaturu_ntl_change.crs}\")"
   ]
  },
  {
   "cell_type": "code",
   "execution_count": 7,
   "metadata": {},
   "outputs": [
    {
     "name": "stdout",
     "output_type": "stream",
     "text": [
      "Original data type: float64\n"
     ]
    }
   ],
   "source": [
    "# convert damaturu_ntl_change from tif to GeoJSON for export and viz\n",
    "damaturu_ntl_change_geojson = raster_to_polygons(\n",
    "    \"data/interim/2024-12-nigeria-damaturu_02-process-output_spatial_damaturu_linfit.tif\",\n",
    "    \"data/raw/AOI/damaturu.shp\",\n",
    "    \"data/processed/damaturu_ntl_change.geojson\"\n",
    ")"
   ]
  },
  {
   "cell_type": "markdown",
   "metadata": {},
   "source": [
    "# 7.0 Flooding"
   ]
  },
  {
   "cell_type": "markdown",
   "metadata": {},
   "source": [
    "## Pluvial Flooding"
   ]
  },
  {
   "cell_type": "markdown",
   "metadata": {},
   "source": [
    "# 8.0 Surface Temperature"
   ]
  },
  {
   "cell_type": "code",
   "execution_count": 13,
   "metadata": {},
   "outputs": [
    {
     "name": "stdout",
     "output_type": "stream",
     "text": [
      "coordinate system: EPSG:4326\n"
     ]
    }
   ],
   "source": [
    "# save Damaturu surface temperature GCP tif as variable\n",
    "damaturu_st = rasterio.open(\"data/interim/2024-12-nigeria-damaturu_02-process-output_spatial_damaturu_summer.tif\")\n",
    "\n",
    "# check coordinate system of damaturu_st\n",
    "print(f\"coordinate system: {damaturu_st.crs}\")"
   ]
  },
  {
   "cell_type": "code",
   "execution_count": 12,
   "metadata": {},
   "outputs": [
    {
     "name": "stdout",
     "output_type": "stream",
     "text": [
      "coordinate system: EPSG:4326\n"
     ]
    }
   ],
   "source": [
    "# check coordinate system of aoi, damaturu.shp\n",
    "aoi = gpd.read_file(\"data/raw/AOI/damaturu.shp\")\n",
    "print(f\"coordinate system: {aoi.crs}\")"
   ]
  },
  {
   "cell_type": "code",
   "execution_count": 14,
   "metadata": {},
   "outputs": [
    {
     "name": "stdout",
     "output_type": "stream",
     "text": [
      "Original data type: float64\n"
     ]
    }
   ],
   "source": [
    "# convert damaturu_st from tif to GeoJSON for export and viz\n",
    "damaturu_st_geojson = raster_to_polygons(\n",
    "    \"data/interim/2024-12-nigeria-damaturu_02-process-output_spatial_damaturu_summer.tif\",\n",
    "    \"data/raw/AOI/damaturu.shp\",\n",
    "    \"data/processed/damaturu_st.geojson\"\n",
    ")"
   ]
  }
 ],
 "metadata": {
  "kernelspec": {
   "display_name": "base",
   "language": "python",
   "name": "python3"
  },
  "language_info": {
   "codemirror_mode": {
    "name": "ipython",
    "version": 3
   },
   "file_extension": ".py",
   "mimetype": "text/x-python",
   "name": "python",
   "nbconvert_exporter": "python",
   "pygments_lexer": "ipython3",
   "version": "3.12.2"
  }
 },
 "nbformat": 4,
 "nbformat_minor": 2
}
