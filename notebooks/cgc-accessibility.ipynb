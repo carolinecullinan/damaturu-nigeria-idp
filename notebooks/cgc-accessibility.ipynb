{
 "cells": [
  {
   "cell_type": "code",
   "execution_count": 1,
   "metadata": {},
   "outputs": [
    {
     "name": "stdout",
     "output_type": "stream",
     "text": [
      "directory changes\n",
      "current working directory is: /Users/carolinecullinan/dev/wb/damaturu-nigeria-idp\n"
     ]
    }
   ],
   "source": [
    "# standard library imports\n",
    "import os\n",
    "import sys\n",
    "\n",
    "# add project root to Python path\n",
    "project_root = os.path.abspath(os.path.join(os.getcwd(), '..'))\n",
    "if project_root not in sys.path:\n",
    "    sys.path.append(project_root)\n",
    "\n",
    "# third-party imports\n",
    "#import rasterio\n",
    "import geopandas as gpd\n",
    "import numpy as np\n",
    "import pandas as pd\n",
    "\n",
    "# change to project root directory\n",
    "os.chdir('../')\n",
    "print(\"directory changes\")\n",
    "print(f\"current working directory is:\", os.getcwd())"
   ]
  },
  {
   "cell_type": "markdown",
   "metadata": {},
   "source": [
    "## 1.0 Prepare Service Data (Health & Education)"
   ]
  },
  {
   "cell_type": "code",
   "execution_count": 10,
   "metadata": {},
   "outputs": [],
   "source": [
    "# read in raw gpkg Damaturu education facility, health facility, and road data\n",
    "damaturu_education = gpd.read_file(\"data/raw/2024-12-nigeria-damaturu_02-process-output_spatial_damaturu_osm_schools.gpkg\")\n",
    "damaturu_health = gpd.read_file(\"data/raw/2024-12-nigeria-damaturu_02-process-output_spatial_damaturu_osm_health.gpkg\")\n",
    "damaturu_roads = gpd.read_file(\"data/raw/2024-12-nigeria-damaturu_02-process-output_spatial_damaturu_osm_roads.gpkg\")"
   ]
  },
  {
   "cell_type": "code",
   "execution_count": 8,
   "metadata": {},
   "outputs": [
    {
     "data": {
      "text/html": [
       "<div>\n",
       "<style scoped>\n",
       "    .dataframe tbody tr th:only-of-type {\n",
       "        vertical-align: middle;\n",
       "    }\n",
       "\n",
       "    .dataframe tbody tr th {\n",
       "        vertical-align: top;\n",
       "    }\n",
       "\n",
       "    .dataframe thead th {\n",
       "        text-align: right;\n",
       "    }\n",
       "</style>\n",
       "<table border=\"1\" class=\"dataframe\">\n",
       "  <thead>\n",
       "    <tr style=\"text-align: right;\">\n",
       "      <th></th>\n",
       "      <th>amenity</th>\n",
       "      <th>name</th>\n",
       "      <th>geometry</th>\n",
       "      <th>category</th>\n",
       "    </tr>\n",
       "  </thead>\n",
       "  <tbody>\n",
       "    <tr>\n",
       "      <th>0</th>\n",
       "      <td>college</td>\n",
       "      <td>college of nursing/midwifery</td>\n",
       "      <td>POINT (11.95972 11.72799)</td>\n",
       "      <td>education</td>\n",
       "    </tr>\n",
       "  </tbody>\n",
       "</table>\n",
       "</div>"
      ],
      "text/plain": [
       "   amenity                          name                   geometry   category\n",
       "0  college  college of nursing/midwifery  POINT (11.95972 11.72799)  education"
      ]
     },
     "metadata": {},
     "output_type": "display_data"
    }
   ],
   "source": [
    "# gain insight into damaturu_education\n",
    "with pd.option_context('display.max_rows', 5, 'display.max_columns', None): \n",
    "    display(damaturu_education)"
   ]
  },
  {
   "cell_type": "code",
   "execution_count": 7,
   "metadata": {},
   "outputs": [
    {
     "data": {
      "text/html": [
       "<div>\n",
       "<style scoped>\n",
       "    .dataframe tbody tr th:only-of-type {\n",
       "        vertical-align: middle;\n",
       "    }\n",
       "\n",
       "    .dataframe tbody tr th {\n",
       "        vertical-align: top;\n",
       "    }\n",
       "\n",
       "    .dataframe thead th {\n",
       "        text-align: right;\n",
       "    }\n",
       "</style>\n",
       "<table border=\"1\" class=\"dataframe\">\n",
       "  <thead>\n",
       "    <tr style=\"text-align: right;\">\n",
       "      <th></th>\n",
       "      <th>amenity</th>\n",
       "      <th>name</th>\n",
       "      <th>geometry</th>\n",
       "      <th>category</th>\n",
       "    </tr>\n",
       "  </thead>\n",
       "  <tbody>\n",
       "    <tr>\n",
       "      <th>0</th>\n",
       "      <td>hospital</td>\n",
       "      <td>State Specialist Hospital</td>\n",
       "      <td>POINT (11.95662 11.72965)</td>\n",
       "      <td>health</td>\n",
       "    </tr>\n",
       "    <tr>\n",
       "      <th>1</th>\n",
       "      <td>hospital</td>\n",
       "      <td>family support</td>\n",
       "      <td>POINT (11.95595 11.76350)</td>\n",
       "      <td>health</td>\n",
       "    </tr>\n",
       "    <tr>\n",
       "      <th>2</th>\n",
       "      <td>hospital</td>\n",
       "      <td>State Teaching Hospital</td>\n",
       "      <td>POINT (11.92169 11.73657)</td>\n",
       "      <td>health</td>\n",
       "    </tr>\n",
       "    <tr>\n",
       "      <th>3</th>\n",
       "      <td>hospital</td>\n",
       "      <td>None</td>\n",
       "      <td>POINT (12.00103 11.74070)</td>\n",
       "      <td>health</td>\n",
       "    </tr>\n",
       "  </tbody>\n",
       "</table>\n",
       "</div>"
      ],
      "text/plain": [
       "    amenity                       name                   geometry category\n",
       "0  hospital  State Specialist Hospital  POINT (11.95662 11.72965)   health\n",
       "1  hospital             family support  POINT (11.95595 11.76350)   health\n",
       "2  hospital    State Teaching Hospital  POINT (11.92169 11.73657)   health\n",
       "3  hospital                       None  POINT (12.00103 11.74070)   health"
      ]
     },
     "metadata": {},
     "output_type": "display_data"
    }
   ],
   "source": [
    "# gain insight into damaturu_health\n",
    "with pd.option_context('display.max_rows', 5, 'display.max_columns', None): \n",
    "    display(damaturu_health)"
   ]
  },
  {
   "cell_type": "code",
   "execution_count": 6,
   "metadata": {},
   "outputs": [],
   "source": [
    "# add column to damaturu_education to indicate the category as \"education\"\n",
    "damaturu_education['category'] = 'education'\n",
    "\n",
    "# add column to damaturu_health to indicate the category as \"health\"\n",
    "damaturu_health['category'] = 'health'\n"
   ]
  },
  {
   "cell_type": "code",
   "execution_count": 9,
   "metadata": {},
   "outputs": [
    {
     "data": {
      "text/html": [
       "<div>\n",
       "<style scoped>\n",
       "    .dataframe tbody tr th:only-of-type {\n",
       "        vertical-align: middle;\n",
       "    }\n",
       "\n",
       "    .dataframe tbody tr th {\n",
       "        vertical-align: top;\n",
       "    }\n",
       "\n",
       "    .dataframe thead th {\n",
       "        text-align: right;\n",
       "    }\n",
       "</style>\n",
       "<table border=\"1\" class=\"dataframe\">\n",
       "  <thead>\n",
       "    <tr style=\"text-align: right;\">\n",
       "      <th></th>\n",
       "      <th>amenity</th>\n",
       "      <th>name</th>\n",
       "      <th>geometry</th>\n",
       "      <th>category</th>\n",
       "    </tr>\n",
       "  </thead>\n",
       "  <tbody>\n",
       "    <tr>\n",
       "      <th>0</th>\n",
       "      <td>college</td>\n",
       "      <td>college of nursing/midwifery</td>\n",
       "      <td>POINT (11.95972 11.72799)</td>\n",
       "      <td>education</td>\n",
       "    </tr>\n",
       "    <tr>\n",
       "      <th>1</th>\n",
       "      <td>hospital</td>\n",
       "      <td>State Specialist Hospital</td>\n",
       "      <td>POINT (11.95662 11.72965)</td>\n",
       "      <td>health</td>\n",
       "    </tr>\n",
       "    <tr>\n",
       "      <th>2</th>\n",
       "      <td>hospital</td>\n",
       "      <td>family support</td>\n",
       "      <td>POINT (11.95595 11.76350)</td>\n",
       "      <td>health</td>\n",
       "    </tr>\n",
       "    <tr>\n",
       "      <th>3</th>\n",
       "      <td>hospital</td>\n",
       "      <td>State Teaching Hospital</td>\n",
       "      <td>POINT (11.92169 11.73657)</td>\n",
       "      <td>health</td>\n",
       "    </tr>\n",
       "    <tr>\n",
       "      <th>4</th>\n",
       "      <td>hospital</td>\n",
       "      <td>None</td>\n",
       "      <td>POINT (12.00103 11.74070)</td>\n",
       "      <td>health</td>\n",
       "    </tr>\n",
       "  </tbody>\n",
       "</table>\n",
       "</div>"
      ],
      "text/plain": [
       "    amenity                          name                   geometry  \\\n",
       "0   college  college of nursing/midwifery  POINT (11.95972 11.72799)   \n",
       "1  hospital     State Specialist Hospital  POINT (11.95662 11.72965)   \n",
       "2  hospital                family support  POINT (11.95595 11.76350)   \n",
       "3  hospital       State Teaching Hospital  POINT (11.92169 11.73657)   \n",
       "4  hospital                          None  POINT (12.00103 11.74070)   \n",
       "\n",
       "    category  \n",
       "0  education  \n",
       "1     health  \n",
       "2     health  \n",
       "3     health  \n",
       "4     health  "
      ]
     },
     "metadata": {},
     "output_type": "display_data"
    }
   ],
   "source": [
    "# merge damaturu_education and damaturu_health into a single dataframe\n",
    "damaturu_services = pd.concat([damaturu_education, damaturu_health], ignore_index=True)\n",
    "\n",
    "# gain insight into damaturu_services\n",
    "with pd.option_context('display.max_rows', 5, 'display.max_columns', None): \n",
    "    display(damaturu_services)"
   ]
  },
  {
   "cell_type": "code",
   "execution_count": 11,
   "metadata": {},
   "outputs": [
    {
     "data": {
      "text/html": [
       "<div>\n",
       "<style scoped>\n",
       "    .dataframe tbody tr th:only-of-type {\n",
       "        vertical-align: middle;\n",
       "    }\n",
       "\n",
       "    .dataframe tbody tr th {\n",
       "        vertical-align: top;\n",
       "    }\n",
       "\n",
       "    .dataframe thead th {\n",
       "        text-align: right;\n",
       "    }\n",
       "</style>\n",
       "<table border=\"1\" class=\"dataframe\">\n",
       "  <thead>\n",
       "    <tr style=\"text-align: right;\">\n",
       "      <th></th>\n",
       "      <th>length</th>\n",
       "      <th>time</th>\n",
       "      <th>mode</th>\n",
       "      <th>geometry</th>\n",
       "    </tr>\n",
       "  </thead>\n",
       "  <tbody>\n",
       "    <tr>\n",
       "      <th>0</th>\n",
       "      <td>40.693</td>\n",
       "      <td>7.32474</td>\n",
       "      <td>drive</td>\n",
       "      <td>LINESTRING (12.00817 11.73678, 12.00796 11.73648)</td>\n",
       "    </tr>\n",
       "    <tr>\n",
       "      <th>1</th>\n",
       "      <td>179.171</td>\n",
       "      <td>16.12539</td>\n",
       "      <td>drive</td>\n",
       "      <td>LINESTRING (12.00817 11.73678, 12.00847 11.736...</td>\n",
       "    </tr>\n",
       "    <tr>\n",
       "      <th>...</th>\n",
       "      <td>...</td>\n",
       "      <td>...</td>\n",
       "      <td>...</td>\n",
       "      <td>...</td>\n",
       "    </tr>\n",
       "    <tr>\n",
       "      <th>13341</th>\n",
       "      <td>69.088</td>\n",
       "      <td>12.43584</td>\n",
       "      <td>drive</td>\n",
       "      <td>LINESTRING (11.94926 11.71477, 11.94865 11.71461)</td>\n",
       "    </tr>\n",
       "    <tr>\n",
       "      <th>13342</th>\n",
       "      <td>448.586</td>\n",
       "      <td>80.74548</td>\n",
       "      <td>drive</td>\n",
       "      <td>LINESTRING (11.94463 11.71374, 11.94630 11.714...</td>\n",
       "    </tr>\n",
       "  </tbody>\n",
       "</table>\n",
       "<p>13343 rows × 4 columns</p>\n",
       "</div>"
      ],
      "text/plain": [
       "        length      time   mode  \\\n",
       "0       40.693   7.32474  drive   \n",
       "1      179.171  16.12539  drive   \n",
       "...        ...       ...    ...   \n",
       "13341   69.088  12.43584  drive   \n",
       "13342  448.586  80.74548  drive   \n",
       "\n",
       "                                                geometry  \n",
       "0      LINESTRING (12.00817 11.73678, 12.00796 11.73648)  \n",
       "1      LINESTRING (12.00817 11.73678, 12.00847 11.736...  \n",
       "...                                                  ...  \n",
       "13341  LINESTRING (11.94926 11.71477, 11.94865 11.71461)  \n",
       "13342  LINESTRING (11.94463 11.71374, 11.94630 11.714...  \n",
       "\n",
       "[13343 rows x 4 columns]"
      ]
     },
     "metadata": {},
     "output_type": "display_data"
    }
   ],
   "source": [
    "# gain insight into damaturu_roads\n",
    "with pd.option_context('display.max_rows', 5, 'display.max_columns', None): \n",
    "    display(damaturu_roads)"
   ]
  },
  {
   "cell_type": "code",
   "execution_count": 16,
   "metadata": {},
   "outputs": [
    {
     "name": "stdout",
     "output_type": "stream",
     "text": [
      "    length       time   mode  \\\n",
      "0   40.693   7.324740  drive   \n",
      "1  179.171  16.125390  drive   \n",
      "2   10.702   1.100777  drive   \n",
      "3  124.743  11.226870  drive   \n",
      "4  190.448  17.140320  drive   \n",
      "\n",
      "                                            geometry  \n",
      "0  LINESTRING (12.00817 11.73678, 12.00796 11.73648)  \n",
      "1  LINESTRING (12.00817 11.73678, 12.00847 11.736...  \n",
      "2  LINESTRING (12.00956 11.73591, 12.00961 11.73600)  \n",
      "3  LINESTRING (12.00956 11.73591, 12.00996 11.735...  \n",
      "4  LINESTRING (11.99645 11.74261, 11.99715 11.742...  \n",
      "Index(['length', 'time', 'mode', 'geometry'], dtype='object')\n",
      "['drive']\n"
     ]
    }
   ],
   "source": [
    "# gain insight into damaturu_roads\n",
    "print(damaturu_roads.head())\n",
    "print(damaturu_roads.columns)\n",
    "print(damaturu_roads['mode'].unique())\n"
   ]
  }
 ],
 "metadata": {
  "kernelspec": {
   "display_name": "base",
   "language": "python",
   "name": "python3"
  },
  "language_info": {
   "codemirror_mode": {
    "name": "ipython",
    "version": 3
   },
   "file_extension": ".py",
   "mimetype": "text/x-python",
   "name": "python",
   "nbconvert_exporter": "python",
   "pygments_lexer": "ipython3",
   "version": "3.12.2"
  }
 },
 "nbformat": 4,
 "nbformat_minor": 2
}
