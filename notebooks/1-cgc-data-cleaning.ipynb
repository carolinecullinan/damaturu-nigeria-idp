{
 "cells": [
  {
   "cell_type": "markdown",
   "metadata": {},
   "source": [
    "Damaturu Nigeria IDP Analysis\n"
   ]
  }
 ],
 "metadata": {
  "kernelspec": {
   "display_name": "base",
   "language": "python",
   "name": "python3"
  },
  "language_info": {
   "name": "python",
   "version": "3.7.3"
  }
 },
 "nbformat": 4,
 "nbformat_minor": 2
}
